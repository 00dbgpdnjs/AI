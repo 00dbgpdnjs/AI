{
  "cells": [
    {
      "cell_type": "markdown",
      "source": [
        "https://www.kaggle.com/code/likhithap/imdb-movie-lsa-and-lda\n",
        "\n",
        "https://github.com/corazzon/KaggleStruggle/blob/master/word2vec-nlp-tutorial/tutorial-part-1.ipynb\n",
        "\n",
        "https://www.kaggle.com/c/word2vec-nlp-tutorial"
      ],
      "metadata": {
        "id": "O8kz5LaiCNPg"
      }
    },
    {
      "cell_type": "code",
      "source": [
        "!pip install nltk"
      ],
      "metadata": {
        "colab": {
          "base_uri": "https://localhost:8080/"
        },
        "id": "6GWjK8hI7MG-",
        "outputId": "13f884d3-9cfb-4568-c086-3c7ceaae349e"
      },
      "execution_count": 80,
      "outputs": [
        {
          "output_type": "stream",
          "name": "stdout",
          "text": [
            "Requirement already satisfied: nltk in /usr/local/lib/python3.10/dist-packages (3.8.1)\n",
            "Requirement already satisfied: click in /usr/local/lib/python3.10/dist-packages (from nltk) (8.1.7)\n",
            "Requirement already satisfied: joblib in /usr/local/lib/python3.10/dist-packages (from nltk) (1.3.2)\n",
            "Requirement already satisfied: regex>=2021.8.3 in /usr/local/lib/python3.10/dist-packages (from nltk) (2023.12.25)\n",
            "Requirement already satisfied: tqdm in /usr/local/lib/python3.10/dist-packages (from nltk) (4.66.2)\n"
          ]
        }
      ]
    },
    {
      "cell_type": "code",
      "execution_count": 81,
      "metadata": {
        "_kg_hide-input": true,
        "execution": {
          "iopub.execute_input": "2020-09-21T19:00:28.685057Z",
          "iopub.status.busy": "2020-09-21T19:00:28.684117Z",
          "iopub.status.idle": "2020-09-21T19:00:30.900654Z",
          "shell.execute_reply": "2020-09-21T19:00:30.900063Z"
        },
        "papermill": {
          "duration": 2.239533,
          "end_time": "2020-09-21T19:00:30.900758",
          "exception": false,
          "start_time": "2020-09-21T19:00:28.661225",
          "status": "completed"
        },
        "tags": [],
        "id": "iJm5LuQN6Q1-",
        "colab": {
          "base_uri": "https://localhost:8080/"
        },
        "outputId": "53432c92-36d3-4d46-f171-48da333aa838"
      },
      "outputs": [
        {
          "output_type": "stream",
          "name": "stderr",
          "text": [
            "[nltk_data] Downloading package stopwords to /root/nltk_data...\n",
            "[nltk_data]   Package stopwords is already up-to-date!\n",
            "[nltk_data] Downloading package punkt to /root/nltk_data...\n",
            "[nltk_data]   Package punkt is already up-to-date!\n",
            "[nltk_data] Downloading package wordnet to /root/nltk_data...\n",
            "[nltk_data]   Package wordnet is already up-to-date!\n"
          ]
        }
      ],
      "source": [
        "# data visualisation and manipulation\n",
        "import numpy as np\n",
        "import pandas as pd\n",
        "import matplotlib.pyplot as plt\n",
        "from matplotlib import style\n",
        "import seaborn as sns\n",
        "\n",
        "#configure\n",
        "# sets matplotlib to inline and displays graphs below the corressponding cell.\n",
        "import matplotlib                  # 2D Plotting Library\n",
        "import geopandas as gpd            # Python Geospatial Data Library\n",
        "plt.style.use('fivethirtyeight')\n",
        "%matplotlib inline\n",
        "import nltk\n",
        "\n",
        "nltk.download('stopwords')\n",
        "nltk.download('punkt')\n",
        "nltk.download('wordnet')\n",
        "\n",
        "from nltk.corpus import stopwords\n",
        "from nltk.tokenize import word_tokenize,sent_tokenize\n",
        "\n",
        "#preprocessing\n",
        "from nltk.corpus import stopwords\n",
        "from nltk import word_tokenize,sent_tokenize # tokenizing\n",
        "from nltk.stem import PorterStemmer,LancasterStemmer\n",
        "from nltk.stem.snowball import SnowballStemmer\n",
        "from nltk.stem import WordNetLemmatizer\n",
        "\n",
        "# for named entity recognition (NER)\n",
        "from nltk import ne_chunk\n",
        "\n",
        "# vectorizers for creating the document-term-matrix (DTM)\n",
        "from sklearn.feature_extraction.text import TfidfVectorizer\n",
        "from sklearn.decomposition import TruncatedSVD\n",
        "\n",
        "stop_words=set(nltk.corpus.stopwords.words('english'))"
      ]
    },
    {
      "cell_type": "code",
      "execution_count": 82,
      "metadata": {
        "_cell_guid": "79c7e3d0-c299-4dcb-8224-4455121ee9b0",
        "_uuid": "d629ff2d2480ee46fbb7e2d37f6b5fab8052498a",
        "execution": {
          "iopub.execute_input": "2020-09-21T19:00:30.949522Z",
          "iopub.status.busy": "2020-09-21T19:00:30.948944Z",
          "iopub.status.idle": "2020-09-21T19:00:31.544690Z",
          "shell.execute_reply": "2020-09-21T19:00:31.544219Z"
        },
        "papermill": {
          "duration": 0.62456,
          "end_time": "2020-09-21T19:00:31.544824",
          "exception": false,
          "start_time": "2020-09-21T19:00:30.920264",
          "status": "completed"
        },
        "tags": [],
        "id": "9fY5GKb96Q1_"
      },
      "outputs": [],
      "source": [
        "df = pd.read_csv('https://github.com/corazzon/KaggleStruggle/raw/master/word2vec-nlp-tutorial/data/labeledTrainData.tsv', delimiter='\\t', quoting=3)"
      ]
    },
    {
      "cell_type": "code",
      "execution_count": 83,
      "metadata": {
        "execution": {
          "iopub.execute_input": "2020-09-21T19:00:31.596838Z",
          "iopub.status.busy": "2020-09-21T19:00:31.596191Z",
          "iopub.status.idle": "2020-09-21T19:00:31.604653Z",
          "shell.execute_reply": "2020-09-21T19:00:31.605077Z"
        },
        "papermill": {
          "duration": 0.039245,
          "end_time": "2020-09-21T19:00:31.605225",
          "exception": false,
          "start_time": "2020-09-21T19:00:31.565980",
          "status": "completed"
        },
        "tags": [],
        "colab": {
          "base_uri": "https://localhost:8080/",
          "height": 206
        },
        "id": "RtTEWR6A6Q2A",
        "outputId": "b79dd545-f926-40f7-e439-5a5bcf3ab0eb"
      },
      "outputs": [
        {
          "output_type": "execute_result",
          "data": {
            "text/plain": [
              "         id  sentiment                                             review\n",
              "0  \"5814_8\"          1  \"With all this stuff going down at the moment ...\n",
              "1  \"2381_9\"          1  \"\\\"The Classic War of the Worlds\\\" by Timothy ...\n",
              "2  \"7759_3\"          0  \"The film starts with a manager (Nicholas Bell...\n",
              "3  \"3630_4\"          0  \"It must be assumed that those who praised thi...\n",
              "4  \"9495_8\"          1  \"Superbly trashy and wondrously unpretentious ..."
            ],
            "text/html": [
              "\n",
              "  <div id=\"df-feba5cf4-033a-4580-aa1b-12fd6d8307a5\" class=\"colab-df-container\">\n",
              "    <div>\n",
              "<style scoped>\n",
              "    .dataframe tbody tr th:only-of-type {\n",
              "        vertical-align: middle;\n",
              "    }\n",
              "\n",
              "    .dataframe tbody tr th {\n",
              "        vertical-align: top;\n",
              "    }\n",
              "\n",
              "    .dataframe thead th {\n",
              "        text-align: right;\n",
              "    }\n",
              "</style>\n",
              "<table border=\"1\" class=\"dataframe\">\n",
              "  <thead>\n",
              "    <tr style=\"text-align: right;\">\n",
              "      <th></th>\n",
              "      <th>id</th>\n",
              "      <th>sentiment</th>\n",
              "      <th>review</th>\n",
              "    </tr>\n",
              "  </thead>\n",
              "  <tbody>\n",
              "    <tr>\n",
              "      <th>0</th>\n",
              "      <td>\"5814_8\"</td>\n",
              "      <td>1</td>\n",
              "      <td>\"With all this stuff going down at the moment ...</td>\n",
              "    </tr>\n",
              "    <tr>\n",
              "      <th>1</th>\n",
              "      <td>\"2381_9\"</td>\n",
              "      <td>1</td>\n",
              "      <td>\"\\\"The Classic War of the Worlds\\\" by Timothy ...</td>\n",
              "    </tr>\n",
              "    <tr>\n",
              "      <th>2</th>\n",
              "      <td>\"7759_3\"</td>\n",
              "      <td>0</td>\n",
              "      <td>\"The film starts with a manager (Nicholas Bell...</td>\n",
              "    </tr>\n",
              "    <tr>\n",
              "      <th>3</th>\n",
              "      <td>\"3630_4\"</td>\n",
              "      <td>0</td>\n",
              "      <td>\"It must be assumed that those who praised thi...</td>\n",
              "    </tr>\n",
              "    <tr>\n",
              "      <th>4</th>\n",
              "      <td>\"9495_8\"</td>\n",
              "      <td>1</td>\n",
              "      <td>\"Superbly trashy and wondrously unpretentious ...</td>\n",
              "    </tr>\n",
              "  </tbody>\n",
              "</table>\n",
              "</div>\n",
              "    <div class=\"colab-df-buttons\">\n",
              "\n",
              "  <div class=\"colab-df-container\">\n",
              "    <button class=\"colab-df-convert\" onclick=\"convertToInteractive('df-feba5cf4-033a-4580-aa1b-12fd6d8307a5')\"\n",
              "            title=\"Convert this dataframe to an interactive table.\"\n",
              "            style=\"display:none;\">\n",
              "\n",
              "  <svg xmlns=\"http://www.w3.org/2000/svg\" height=\"24px\" viewBox=\"0 -960 960 960\">\n",
              "    <path d=\"M120-120v-720h720v720H120Zm60-500h600v-160H180v160Zm220 220h160v-160H400v160Zm0 220h160v-160H400v160ZM180-400h160v-160H180v160Zm440 0h160v-160H620v160ZM180-180h160v-160H180v160Zm440 0h160v-160H620v160Z\"/>\n",
              "  </svg>\n",
              "    </button>\n",
              "\n",
              "  <style>\n",
              "    .colab-df-container {\n",
              "      display:flex;\n",
              "      gap: 12px;\n",
              "    }\n",
              "\n",
              "    .colab-df-convert {\n",
              "      background-color: #E8F0FE;\n",
              "      border: none;\n",
              "      border-radius: 50%;\n",
              "      cursor: pointer;\n",
              "      display: none;\n",
              "      fill: #1967D2;\n",
              "      height: 32px;\n",
              "      padding: 0 0 0 0;\n",
              "      width: 32px;\n",
              "    }\n",
              "\n",
              "    .colab-df-convert:hover {\n",
              "      background-color: #E2EBFA;\n",
              "      box-shadow: 0px 1px 2px rgba(60, 64, 67, 0.3), 0px 1px 3px 1px rgba(60, 64, 67, 0.15);\n",
              "      fill: #174EA6;\n",
              "    }\n",
              "\n",
              "    .colab-df-buttons div {\n",
              "      margin-bottom: 4px;\n",
              "    }\n",
              "\n",
              "    [theme=dark] .colab-df-convert {\n",
              "      background-color: #3B4455;\n",
              "      fill: #D2E3FC;\n",
              "    }\n",
              "\n",
              "    [theme=dark] .colab-df-convert:hover {\n",
              "      background-color: #434B5C;\n",
              "      box-shadow: 0px 1px 3px 1px rgba(0, 0, 0, 0.15);\n",
              "      filter: drop-shadow(0px 1px 2px rgba(0, 0, 0, 0.3));\n",
              "      fill: #FFFFFF;\n",
              "    }\n",
              "  </style>\n",
              "\n",
              "    <script>\n",
              "      const buttonEl =\n",
              "        document.querySelector('#df-feba5cf4-033a-4580-aa1b-12fd6d8307a5 button.colab-df-convert');\n",
              "      buttonEl.style.display =\n",
              "        google.colab.kernel.accessAllowed ? 'block' : 'none';\n",
              "\n",
              "      async function convertToInteractive(key) {\n",
              "        const element = document.querySelector('#df-feba5cf4-033a-4580-aa1b-12fd6d8307a5');\n",
              "        const dataTable =\n",
              "          await google.colab.kernel.invokeFunction('convertToInteractive',\n",
              "                                                    [key], {});\n",
              "        if (!dataTable) return;\n",
              "\n",
              "        const docLinkHtml = 'Like what you see? Visit the ' +\n",
              "          '<a target=\"_blank\" href=https://colab.research.google.com/notebooks/data_table.ipynb>data table notebook</a>'\n",
              "          + ' to learn more about interactive tables.';\n",
              "        element.innerHTML = '';\n",
              "        dataTable['output_type'] = 'display_data';\n",
              "        await google.colab.output.renderOutput(dataTable, element);\n",
              "        const docLink = document.createElement('div');\n",
              "        docLink.innerHTML = docLinkHtml;\n",
              "        element.appendChild(docLink);\n",
              "      }\n",
              "    </script>\n",
              "  </div>\n",
              "\n",
              "\n",
              "<div id=\"df-7a3d7af2-bbd4-47be-a2a3-c247b90e57fa\">\n",
              "  <button class=\"colab-df-quickchart\" onclick=\"quickchart('df-7a3d7af2-bbd4-47be-a2a3-c247b90e57fa')\"\n",
              "            title=\"Suggest charts\"\n",
              "            style=\"display:none;\">\n",
              "\n",
              "<svg xmlns=\"http://www.w3.org/2000/svg\" height=\"24px\"viewBox=\"0 0 24 24\"\n",
              "     width=\"24px\">\n",
              "    <g>\n",
              "        <path d=\"M19 3H5c-1.1 0-2 .9-2 2v14c0 1.1.9 2 2 2h14c1.1 0 2-.9 2-2V5c0-1.1-.9-2-2-2zM9 17H7v-7h2v7zm4 0h-2V7h2v10zm4 0h-2v-4h2v4z\"/>\n",
              "    </g>\n",
              "</svg>\n",
              "  </button>\n",
              "\n",
              "<style>\n",
              "  .colab-df-quickchart {\n",
              "      --bg-color: #E8F0FE;\n",
              "      --fill-color: #1967D2;\n",
              "      --hover-bg-color: #E2EBFA;\n",
              "      --hover-fill-color: #174EA6;\n",
              "      --disabled-fill-color: #AAA;\n",
              "      --disabled-bg-color: #DDD;\n",
              "  }\n",
              "\n",
              "  [theme=dark] .colab-df-quickchart {\n",
              "      --bg-color: #3B4455;\n",
              "      --fill-color: #D2E3FC;\n",
              "      --hover-bg-color: #434B5C;\n",
              "      --hover-fill-color: #FFFFFF;\n",
              "      --disabled-bg-color: #3B4455;\n",
              "      --disabled-fill-color: #666;\n",
              "  }\n",
              "\n",
              "  .colab-df-quickchart {\n",
              "    background-color: var(--bg-color);\n",
              "    border: none;\n",
              "    border-radius: 50%;\n",
              "    cursor: pointer;\n",
              "    display: none;\n",
              "    fill: var(--fill-color);\n",
              "    height: 32px;\n",
              "    padding: 0;\n",
              "    width: 32px;\n",
              "  }\n",
              "\n",
              "  .colab-df-quickchart:hover {\n",
              "    background-color: var(--hover-bg-color);\n",
              "    box-shadow: 0 1px 2px rgba(60, 64, 67, 0.3), 0 1px 3px 1px rgba(60, 64, 67, 0.15);\n",
              "    fill: var(--button-hover-fill-color);\n",
              "  }\n",
              "\n",
              "  .colab-df-quickchart-complete:disabled,\n",
              "  .colab-df-quickchart-complete:disabled:hover {\n",
              "    background-color: var(--disabled-bg-color);\n",
              "    fill: var(--disabled-fill-color);\n",
              "    box-shadow: none;\n",
              "  }\n",
              "\n",
              "  .colab-df-spinner {\n",
              "    border: 2px solid var(--fill-color);\n",
              "    border-color: transparent;\n",
              "    border-bottom-color: var(--fill-color);\n",
              "    animation:\n",
              "      spin 1s steps(1) infinite;\n",
              "  }\n",
              "\n",
              "  @keyframes spin {\n",
              "    0% {\n",
              "      border-color: transparent;\n",
              "      border-bottom-color: var(--fill-color);\n",
              "      border-left-color: var(--fill-color);\n",
              "    }\n",
              "    20% {\n",
              "      border-color: transparent;\n",
              "      border-left-color: var(--fill-color);\n",
              "      border-top-color: var(--fill-color);\n",
              "    }\n",
              "    30% {\n",
              "      border-color: transparent;\n",
              "      border-left-color: var(--fill-color);\n",
              "      border-top-color: var(--fill-color);\n",
              "      border-right-color: var(--fill-color);\n",
              "    }\n",
              "    40% {\n",
              "      border-color: transparent;\n",
              "      border-right-color: var(--fill-color);\n",
              "      border-top-color: var(--fill-color);\n",
              "    }\n",
              "    60% {\n",
              "      border-color: transparent;\n",
              "      border-right-color: var(--fill-color);\n",
              "    }\n",
              "    80% {\n",
              "      border-color: transparent;\n",
              "      border-right-color: var(--fill-color);\n",
              "      border-bottom-color: var(--fill-color);\n",
              "    }\n",
              "    90% {\n",
              "      border-color: transparent;\n",
              "      border-bottom-color: var(--fill-color);\n",
              "    }\n",
              "  }\n",
              "</style>\n",
              "\n",
              "  <script>\n",
              "    async function quickchart(key) {\n",
              "      const quickchartButtonEl =\n",
              "        document.querySelector('#' + key + ' button');\n",
              "      quickchartButtonEl.disabled = true;  // To prevent multiple clicks.\n",
              "      quickchartButtonEl.classList.add('colab-df-spinner');\n",
              "      try {\n",
              "        const charts = await google.colab.kernel.invokeFunction(\n",
              "            'suggestCharts', [key], {});\n",
              "      } catch (error) {\n",
              "        console.error('Error during call to suggestCharts:', error);\n",
              "      }\n",
              "      quickchartButtonEl.classList.remove('colab-df-spinner');\n",
              "      quickchartButtonEl.classList.add('colab-df-quickchart-complete');\n",
              "    }\n",
              "    (() => {\n",
              "      let quickchartButtonEl =\n",
              "        document.querySelector('#df-7a3d7af2-bbd4-47be-a2a3-c247b90e57fa button');\n",
              "      quickchartButtonEl.style.display =\n",
              "        google.colab.kernel.accessAllowed ? 'block' : 'none';\n",
              "    })();\n",
              "  </script>\n",
              "</div>\n",
              "\n",
              "    </div>\n",
              "  </div>\n"
            ],
            "application/vnd.google.colaboratory.intrinsic+json": {
              "type": "dataframe",
              "variable_name": "df",
              "summary": "{\n  \"name\": \"df\",\n  \"rows\": 25000,\n  \"fields\": [\n    {\n      \"column\": \" id\",\n      \"properties\": {\n        \"dtype\": \"string\",\n        \"num_unique_values\": 25000,\n        \"samples\": [\n          \"\\\"2570_3\\\"\",\n          \"\\\"4897_8\\\"\",\n          \"\\\"8485_3\\\"\"\n        ],\n        \"semantic_type\": \"\",\n        \"description\": \"\"\n      }\n    },\n    {\n      \"column\": \"sentiment\",\n      \"properties\": {\n        \"dtype\": \"number\",\n        \"std\": 0,\n        \"min\": 0,\n        \"max\": 1,\n        \"num_unique_values\": 2,\n        \"samples\": [\n          0,\n          1\n        ],\n        \"semantic_type\": \"\",\n        \"description\": \"\"\n      }\n    },\n    {\n      \"column\": \"review\",\n      \"properties\": {\n        \"dtype\": \"string\",\n        \"num_unique_values\": 24904,\n        \"samples\": [\n          \"\\\"This is not my favorite WIP (\\\\\\\"Women in Prison\\\\\\\"), but it is one of the most famous films in the sub-genre. It is was produced by Roger Corman, who at this point had already produced a few WIPs. It is obvious that the film tries to play with the established formula. The movie takes place in an USA prison, not in a \\\\\\\"banana republic\\\\\\\" like most WIP films. I'm not sure if that was a wise move, but it is an acceptable change of pace. Writer-director Demme really gets into his job, always digging for new ways to present a familiar scenario. In fact, he is a little too ambitious for his own good. The filmmaker creates a few surreal dream sequences that are borderline pretentious but it is fun to see how hard he tries to put this film above your average chicks-in-chains flick. But do not worry, Demme still operates within the parameters of the sub-genre. There is plenty of nudity and violence, something that will satisfy hardcore fans. The film is a little slow, but it is very entertaining. The cast is good. Roberta Collins is a WIP veteran, so she does not need an introduction, and Barbara Steel is a hoot as the wheelchair-bound crazy warden. Pam Grier is sorely missed, though.\\\"\",\n          \"\\\"In 1972, after his wife left to go her own way, Elvis Presley began dating Linda Thompson. Miss Thompson, a good-humored, long haired, lovely, statuesque beauty queen, is charted to fill a void in Elvis' life. When Elvis' divorce became final, Linda was already in place as the legendary performer's live-in girlfriend and travel companion until 1976.<br /><br />This is a gaudy look at their love affair and companionship. Linda whole-heartedly tending to her lover's needs and desires. And even putting up with his swallowing medications by the handful and introducing her to her own love affair with valium. At times this movie is harsh and dark of heart; a very unattractive look at the 'King' and his queen.<br /><br />Don Johnson is absolutely awful as Elvis. Over acting to the hilt is not attractive. Stephanie Zimbalist lacks the classiness of Linda, but does the job pretty well. Supporting cast includes: John Crawford, Ruta Lee, and Rick Lenz. Watching this twice is more than enough for me, but don't let this review stop you from checking it out. For most Elvis fans that I have conferred with, this is not a favored presentation.\\\"\"\n        ],\n        \"semantic_type\": \"\",\n        \"description\": \"\"\n      }\n    }\n  ]\n}"
            }
          },
          "metadata": {},
          "execution_count": 83
        }
      ],
      "source": [
        "df.head()"
      ]
    },
    {
      "cell_type": "code",
      "execution_count": 84,
      "metadata": {
        "execution": {
          "iopub.execute_input": "2020-09-21T19:00:31.651219Z",
          "iopub.status.busy": "2020-09-21T19:00:31.650476Z",
          "iopub.status.idle": "2020-09-21T19:00:31.653540Z",
          "shell.execute_reply": "2020-09-21T19:00:31.654090Z"
        },
        "papermill": {
          "duration": 0.028339,
          "end_time": "2020-09-21T19:00:31.654223",
          "exception": false,
          "start_time": "2020-09-21T19:00:31.625884",
          "status": "completed"
        },
        "tags": [],
        "colab": {
          "base_uri": "https://localhost:8080/"
        },
        "id": "YlIfQ6RV6Q2A",
        "outputId": "d505a652-b165-4779-ab81-326cedec1198"
      },
      "outputs": [
        {
          "output_type": "stream",
          "name": "stdout",
          "text": [
            "25000\n"
          ]
        }
      ],
      "source": [
        "index = df.index\n",
        "number_of_rows = len(index)\n",
        "print(number_of_rows)"
      ]
    },
    {
      "cell_type": "code",
      "execution_count": 85,
      "metadata": {
        "execution": {
          "iopub.execute_input": "2020-09-21T19:00:31.836050Z",
          "iopub.status.busy": "2020-09-21T19:00:31.832682Z",
          "iopub.status.idle": "2020-09-21T19:00:31.838851Z",
          "shell.execute_reply": "2020-09-21T19:00:31.838327Z"
        },
        "papermill": {
          "duration": 0.035616,
          "end_time": "2020-09-21T19:00:31.838970",
          "exception": false,
          "start_time": "2020-09-21T19:00:31.803354",
          "status": "completed"
        },
        "tags": [],
        "id": "K1_UCSEz6Q2D"
      },
      "outputs": [],
      "source": [
        "new1 = df[['review']].copy()"
      ]
    },
    {
      "cell_type": "code",
      "execution_count": 86,
      "metadata": {
        "execution": {
          "iopub.execute_input": "2020-09-21T19:00:31.887184Z",
          "iopub.status.busy": "2020-09-21T19:00:31.886586Z",
          "iopub.status.idle": "2020-09-21T19:00:31.889335Z",
          "shell.execute_reply": "2020-09-21T19:00:31.889890Z"
        },
        "papermill": {
          "duration": 0.030432,
          "end_time": "2020-09-21T19:00:31.890068",
          "exception": false,
          "start_time": "2020-09-21T19:00:31.859636",
          "status": "completed"
        },
        "tags": [],
        "colab": {
          "base_uri": "https://localhost:8080/"
        },
        "id": "n94WqYa66Q2E",
        "outputId": "5f76a006-c157-40ab-85cc-388e3f1e58cc"
      },
      "outputs": [
        {
          "output_type": "stream",
          "name": "stdout",
          "text": [
            "                                                  review\n",
            "0      \"With all this stuff going down at the moment ...\n",
            "1      \"\\\"The Classic War of the Worlds\\\" by Timothy ...\n",
            "2      \"The film starts with a manager (Nicholas Bell...\n",
            "3      \"It must be assumed that those who praised thi...\n",
            "4      \"Superbly trashy and wondrously unpretentious ...\n",
            "...                                                  ...\n",
            "24995  \"It seems like more consideration has gone int...\n",
            "24996  \"I don't believe they made this film. Complete...\n",
            "24997  \"Guy is a loser. Can't get girls, needs to bui...\n",
            "24998  \"This 30 minute documentary Buñuel made in the...\n",
            "24999  \"I saw this movie as a child and it broke my h...\n",
            "\n",
            "[25000 rows x 1 columns]\n"
          ]
        }
      ],
      "source": [
        "print (new1)"
      ]
    },
    {
      "cell_type": "markdown",
      "metadata": {
        "papermill": {
          "duration": 0.020279,
          "end_time": "2020-09-21T19:00:31.933195",
          "exception": false,
          "start_time": "2020-09-21T19:00:31.912916",
          "status": "completed"
        },
        "tags": [],
        "id": "7G6NUTX26Q2E"
      },
      "source": [
        "### DATA CLEANING & PRE-PROCESSING\n",
        "Here I have done the data pre-processing. We can use any among the lemmatization and the stemming but i prefer to use lemmatiation. Also the stop words have been removed."
      ]
    },
    {
      "cell_type": "code",
      "execution_count": 87,
      "metadata": {
        "execution": {
          "iopub.execute_input": "2020-09-21T19:00:31.982681Z",
          "iopub.status.busy": "2020-09-21T19:00:31.982016Z",
          "iopub.status.idle": "2020-09-21T19:00:31.984162Z",
          "shell.execute_reply": "2020-09-21T19:00:31.984541Z"
        },
        "papermill": {
          "duration": 0.029962,
          "end_time": "2020-09-21T19:00:31.984673",
          "exception": false,
          "start_time": "2020-09-21T19:00:31.954711",
          "status": "completed"
        },
        "tags": [],
        "id": "P1zkQiDl6Q2E"
      },
      "outputs": [],
      "source": [
        "# def clean_text(review):\n",
        "#     le=WordNetLemmatizer()\n",
        "#     word_tokens=word_tokenize(review)\n",
        "#     tokens=[le.lemmatize(w) for w in word_tokens if w not in stop_words and len(w)>3]\n",
        "#     cleaned_text=\" \".join(tokens)\n",
        "#     return cleaned_text"
      ]
    },
    {
      "cell_type": "code",
      "source": [
        "!pip show BeautifulSoup4"
      ],
      "metadata": {
        "colab": {
          "base_uri": "https://localhost:8080/"
        },
        "id": "5QnxeTBUWkkI",
        "outputId": "9bdc4f62-0b24-47e4-e14a-4fc26f14714e"
      },
      "execution_count": 88,
      "outputs": [
        {
          "output_type": "stream",
          "name": "stdout",
          "text": [
            "Name: beautifulsoup4\n",
            "Version: 4.12.3\n",
            "Summary: Screen-scraping library\n",
            "Home-page: \n",
            "Author: \n",
            "Author-email: Leonard Richardson <leonardr@segfault.org>\n",
            "License: MIT License\n",
            "Location: /usr/local/lib/python3.10/dist-packages\n",
            "Requires: soupsieve\n",
            "Required-by: gdown, google, nbconvert, yfinance\n"
          ]
        }
      ]
    },
    {
      "cell_type": "code",
      "source": [
        "from bs4 import BeautifulSoup\n",
        "# 정규표현식을 사용해서 특수문자를 제거\n",
        "import re"
      ],
      "metadata": {
        "id": "_leR2ZeCWqMD"
      },
      "execution_count": 89,
      "outputs": []
    },
    {
      "cell_type": "code",
      "source": [
        "stemmer = SnowballStemmer('english')"
      ],
      "metadata": {
        "id": "mDqbZONhW12M"
      },
      "execution_count": 90,
      "outputs": []
    },
    {
      "cell_type": "code",
      "source": [
        "def clean_text(raw_review):\n",
        "    # 1. HTML 제거\n",
        "    review_text = BeautifulSoup(raw_review, 'html.parser').get_text()\n",
        "    # 2. 영문자가 아닌 문자는 공백으로 변환\n",
        "    letters_only = re.sub('[^a-zA-Z]', ' ', review_text)\n",
        "    # 3. 소문자 변환\n",
        "    words = letters_only.lower().split()\n",
        "    # 4. 파이썬에서는 리스트보다 세트로 찾는게 훨씬 빠르다.\n",
        "    # stopwords 를 세트로 변환한다.\n",
        "    stops = set(stopwords.words('english'))\n",
        "    # 5. Stopwords 불용어 제거\n",
        "    meaningful_words = [w for w in words if not w in stops]\n",
        "    # 6. 어간추출\n",
        "    stemming_words = [stemmer.stem(w) for w in meaningful_words]\n",
        "    # 7. 공백으로 구분된 문자열로 결합하여 결과를 반환\n",
        "    return( ' '.join(stemming_words) )"
      ],
      "metadata": {
        "id": "k-b3zpAsV56h"
      },
      "execution_count": 91,
      "outputs": []
    },
    {
      "cell_type": "code",
      "execution_count": 92,
      "metadata": {
        "execution": {
          "iopub.execute_input": "2020-09-21T19:00:32.033179Z",
          "iopub.status.busy": "2020-09-21T19:00:32.032610Z",
          "iopub.status.idle": "2020-09-21T19:00:54.597912Z",
          "shell.execute_reply": "2020-09-21T19:00:54.597295Z"
        },
        "papermill": {
          "duration": 22.59245,
          "end_time": "2020-09-21T19:00:54.598021",
          "exception": false,
          "start_time": "2020-09-21T19:00:32.005571",
          "status": "completed"
        },
        "tags": [],
        "colab": {
          "base_uri": "https://localhost:8080/"
        },
        "id": "rlAqpsFu6Q2F",
        "outputId": "a33bc5bf-6230-432e-fb17-2531e2a2b916"
      },
      "outputs": [
        {
          "output_type": "stream",
          "name": "stderr",
          "text": [
            "<ipython-input-91-f8b70ae067ee>:3: MarkupResemblesLocatorWarning: The input looks more like a filename than markup. You may want to open this file and pass the filehandle into Beautiful Soup.\n",
            "  review_text = BeautifulSoup(raw_review, 'html.parser').get_text()\n"
          ]
        }
      ],
      "source": [
        "#it takes time\n",
        "new1['cleaned_text']=new1['review'].apply(clean_text)"
      ]
    },
    {
      "cell_type": "code",
      "execution_count": 93,
      "metadata": {
        "execution": {
          "iopub.execute_input": "2020-09-21T19:00:54.650444Z",
          "iopub.status.busy": "2020-09-21T19:00:54.649872Z",
          "iopub.status.idle": "2020-09-21T19:00:54.654409Z",
          "shell.execute_reply": "2020-09-21T19:00:54.654013Z"
        },
        "papermill": {
          "duration": 0.035327,
          "end_time": "2020-09-21T19:00:54.654513",
          "exception": false,
          "start_time": "2020-09-21T19:00:54.619186",
          "status": "completed"
        },
        "tags": [],
        "colab": {
          "base_uri": "https://localhost:8080/",
          "height": 293
        },
        "id": "NgKaBVTb6Q2F",
        "outputId": "dc74585b-017c-41fb-a06a-2004b6212c0d"
      },
      "outputs": [
        {
          "output_type": "execute_result",
          "data": {
            "text/plain": [
              "                                              review  \\\n",
              "0  \"With all this stuff going down at the moment ...   \n",
              "1  \"\\\"The Classic War of the Worlds\\\" by Timothy ...   \n",
              "2  \"The film starts with a manager (Nicholas Bell...   \n",
              "3  \"It must be assumed that those who praised thi...   \n",
              "4  \"Superbly trashy and wondrously unpretentious ...   \n",
              "\n",
              "                                        cleaned_text  \n",
              "0  stuff go moment mj start listen music watch od...  \n",
              "1  classic war world timothi hine entertain film ...  \n",
              "2  film start manag nichola bell give welcom inve...  \n",
              "3  must assum prais film greatest film opera ever...  \n",
              "4  superbl trashi wondrous unpretenti exploit hoo...  "
            ],
            "text/html": [
              "\n",
              "  <div id=\"df-24bf37a5-34a7-4841-8765-e7c137d81566\" class=\"colab-df-container\">\n",
              "    <div>\n",
              "<style scoped>\n",
              "    .dataframe tbody tr th:only-of-type {\n",
              "        vertical-align: middle;\n",
              "    }\n",
              "\n",
              "    .dataframe tbody tr th {\n",
              "        vertical-align: top;\n",
              "    }\n",
              "\n",
              "    .dataframe thead th {\n",
              "        text-align: right;\n",
              "    }\n",
              "</style>\n",
              "<table border=\"1\" class=\"dataframe\">\n",
              "  <thead>\n",
              "    <tr style=\"text-align: right;\">\n",
              "      <th></th>\n",
              "      <th>review</th>\n",
              "      <th>cleaned_text</th>\n",
              "    </tr>\n",
              "  </thead>\n",
              "  <tbody>\n",
              "    <tr>\n",
              "      <th>0</th>\n",
              "      <td>\"With all this stuff going down at the moment ...</td>\n",
              "      <td>stuff go moment mj start listen music watch od...</td>\n",
              "    </tr>\n",
              "    <tr>\n",
              "      <th>1</th>\n",
              "      <td>\"\\\"The Classic War of the Worlds\\\" by Timothy ...</td>\n",
              "      <td>classic war world timothi hine entertain film ...</td>\n",
              "    </tr>\n",
              "    <tr>\n",
              "      <th>2</th>\n",
              "      <td>\"The film starts with a manager (Nicholas Bell...</td>\n",
              "      <td>film start manag nichola bell give welcom inve...</td>\n",
              "    </tr>\n",
              "    <tr>\n",
              "      <th>3</th>\n",
              "      <td>\"It must be assumed that those who praised thi...</td>\n",
              "      <td>must assum prais film greatest film opera ever...</td>\n",
              "    </tr>\n",
              "    <tr>\n",
              "      <th>4</th>\n",
              "      <td>\"Superbly trashy and wondrously unpretentious ...</td>\n",
              "      <td>superbl trashi wondrous unpretenti exploit hoo...</td>\n",
              "    </tr>\n",
              "  </tbody>\n",
              "</table>\n",
              "</div>\n",
              "    <div class=\"colab-df-buttons\">\n",
              "\n",
              "  <div class=\"colab-df-container\">\n",
              "    <button class=\"colab-df-convert\" onclick=\"convertToInteractive('df-24bf37a5-34a7-4841-8765-e7c137d81566')\"\n",
              "            title=\"Convert this dataframe to an interactive table.\"\n",
              "            style=\"display:none;\">\n",
              "\n",
              "  <svg xmlns=\"http://www.w3.org/2000/svg\" height=\"24px\" viewBox=\"0 -960 960 960\">\n",
              "    <path d=\"M120-120v-720h720v720H120Zm60-500h600v-160H180v160Zm220 220h160v-160H400v160Zm0 220h160v-160H400v160ZM180-400h160v-160H180v160Zm440 0h160v-160H620v160ZM180-180h160v-160H180v160Zm440 0h160v-160H620v160Z\"/>\n",
              "  </svg>\n",
              "    </button>\n",
              "\n",
              "  <style>\n",
              "    .colab-df-container {\n",
              "      display:flex;\n",
              "      gap: 12px;\n",
              "    }\n",
              "\n",
              "    .colab-df-convert {\n",
              "      background-color: #E8F0FE;\n",
              "      border: none;\n",
              "      border-radius: 50%;\n",
              "      cursor: pointer;\n",
              "      display: none;\n",
              "      fill: #1967D2;\n",
              "      height: 32px;\n",
              "      padding: 0 0 0 0;\n",
              "      width: 32px;\n",
              "    }\n",
              "\n",
              "    .colab-df-convert:hover {\n",
              "      background-color: #E2EBFA;\n",
              "      box-shadow: 0px 1px 2px rgba(60, 64, 67, 0.3), 0px 1px 3px 1px rgba(60, 64, 67, 0.15);\n",
              "      fill: #174EA6;\n",
              "    }\n",
              "\n",
              "    .colab-df-buttons div {\n",
              "      margin-bottom: 4px;\n",
              "    }\n",
              "\n",
              "    [theme=dark] .colab-df-convert {\n",
              "      background-color: #3B4455;\n",
              "      fill: #D2E3FC;\n",
              "    }\n",
              "\n",
              "    [theme=dark] .colab-df-convert:hover {\n",
              "      background-color: #434B5C;\n",
              "      box-shadow: 0px 1px 3px 1px rgba(0, 0, 0, 0.15);\n",
              "      filter: drop-shadow(0px 1px 2px rgba(0, 0, 0, 0.3));\n",
              "      fill: #FFFFFF;\n",
              "    }\n",
              "  </style>\n",
              "\n",
              "    <script>\n",
              "      const buttonEl =\n",
              "        document.querySelector('#df-24bf37a5-34a7-4841-8765-e7c137d81566 button.colab-df-convert');\n",
              "      buttonEl.style.display =\n",
              "        google.colab.kernel.accessAllowed ? 'block' : 'none';\n",
              "\n",
              "      async function convertToInteractive(key) {\n",
              "        const element = document.querySelector('#df-24bf37a5-34a7-4841-8765-e7c137d81566');\n",
              "        const dataTable =\n",
              "          await google.colab.kernel.invokeFunction('convertToInteractive',\n",
              "                                                    [key], {});\n",
              "        if (!dataTable) return;\n",
              "\n",
              "        const docLinkHtml = 'Like what you see? Visit the ' +\n",
              "          '<a target=\"_blank\" href=https://colab.research.google.com/notebooks/data_table.ipynb>data table notebook</a>'\n",
              "          + ' to learn more about interactive tables.';\n",
              "        element.innerHTML = '';\n",
              "        dataTable['output_type'] = 'display_data';\n",
              "        await google.colab.output.renderOutput(dataTable, element);\n",
              "        const docLink = document.createElement('div');\n",
              "        docLink.innerHTML = docLinkHtml;\n",
              "        element.appendChild(docLink);\n",
              "      }\n",
              "    </script>\n",
              "  </div>\n",
              "\n",
              "\n",
              "<div id=\"df-d2918289-bc95-474a-9a59-9bf4730cb75e\">\n",
              "  <button class=\"colab-df-quickchart\" onclick=\"quickchart('df-d2918289-bc95-474a-9a59-9bf4730cb75e')\"\n",
              "            title=\"Suggest charts\"\n",
              "            style=\"display:none;\">\n",
              "\n",
              "<svg xmlns=\"http://www.w3.org/2000/svg\" height=\"24px\"viewBox=\"0 0 24 24\"\n",
              "     width=\"24px\">\n",
              "    <g>\n",
              "        <path d=\"M19 3H5c-1.1 0-2 .9-2 2v14c0 1.1.9 2 2 2h14c1.1 0 2-.9 2-2V5c0-1.1-.9-2-2-2zM9 17H7v-7h2v7zm4 0h-2V7h2v10zm4 0h-2v-4h2v4z\"/>\n",
              "    </g>\n",
              "</svg>\n",
              "  </button>\n",
              "\n",
              "<style>\n",
              "  .colab-df-quickchart {\n",
              "      --bg-color: #E8F0FE;\n",
              "      --fill-color: #1967D2;\n",
              "      --hover-bg-color: #E2EBFA;\n",
              "      --hover-fill-color: #174EA6;\n",
              "      --disabled-fill-color: #AAA;\n",
              "      --disabled-bg-color: #DDD;\n",
              "  }\n",
              "\n",
              "  [theme=dark] .colab-df-quickchart {\n",
              "      --bg-color: #3B4455;\n",
              "      --fill-color: #D2E3FC;\n",
              "      --hover-bg-color: #434B5C;\n",
              "      --hover-fill-color: #FFFFFF;\n",
              "      --disabled-bg-color: #3B4455;\n",
              "      --disabled-fill-color: #666;\n",
              "  }\n",
              "\n",
              "  .colab-df-quickchart {\n",
              "    background-color: var(--bg-color);\n",
              "    border: none;\n",
              "    border-radius: 50%;\n",
              "    cursor: pointer;\n",
              "    display: none;\n",
              "    fill: var(--fill-color);\n",
              "    height: 32px;\n",
              "    padding: 0;\n",
              "    width: 32px;\n",
              "  }\n",
              "\n",
              "  .colab-df-quickchart:hover {\n",
              "    background-color: var(--hover-bg-color);\n",
              "    box-shadow: 0 1px 2px rgba(60, 64, 67, 0.3), 0 1px 3px 1px rgba(60, 64, 67, 0.15);\n",
              "    fill: var(--button-hover-fill-color);\n",
              "  }\n",
              "\n",
              "  .colab-df-quickchart-complete:disabled,\n",
              "  .colab-df-quickchart-complete:disabled:hover {\n",
              "    background-color: var(--disabled-bg-color);\n",
              "    fill: var(--disabled-fill-color);\n",
              "    box-shadow: none;\n",
              "  }\n",
              "\n",
              "  .colab-df-spinner {\n",
              "    border: 2px solid var(--fill-color);\n",
              "    border-color: transparent;\n",
              "    border-bottom-color: var(--fill-color);\n",
              "    animation:\n",
              "      spin 1s steps(1) infinite;\n",
              "  }\n",
              "\n",
              "  @keyframes spin {\n",
              "    0% {\n",
              "      border-color: transparent;\n",
              "      border-bottom-color: var(--fill-color);\n",
              "      border-left-color: var(--fill-color);\n",
              "    }\n",
              "    20% {\n",
              "      border-color: transparent;\n",
              "      border-left-color: var(--fill-color);\n",
              "      border-top-color: var(--fill-color);\n",
              "    }\n",
              "    30% {\n",
              "      border-color: transparent;\n",
              "      border-left-color: var(--fill-color);\n",
              "      border-top-color: var(--fill-color);\n",
              "      border-right-color: var(--fill-color);\n",
              "    }\n",
              "    40% {\n",
              "      border-color: transparent;\n",
              "      border-right-color: var(--fill-color);\n",
              "      border-top-color: var(--fill-color);\n",
              "    }\n",
              "    60% {\n",
              "      border-color: transparent;\n",
              "      border-right-color: var(--fill-color);\n",
              "    }\n",
              "    80% {\n",
              "      border-color: transparent;\n",
              "      border-right-color: var(--fill-color);\n",
              "      border-bottom-color: var(--fill-color);\n",
              "    }\n",
              "    90% {\n",
              "      border-color: transparent;\n",
              "      border-bottom-color: var(--fill-color);\n",
              "    }\n",
              "  }\n",
              "</style>\n",
              "\n",
              "  <script>\n",
              "    async function quickchart(key) {\n",
              "      const quickchartButtonEl =\n",
              "        document.querySelector('#' + key + ' button');\n",
              "      quickchartButtonEl.disabled = true;  // To prevent multiple clicks.\n",
              "      quickchartButtonEl.classList.add('colab-df-spinner');\n",
              "      try {\n",
              "        const charts = await google.colab.kernel.invokeFunction(\n",
              "            'suggestCharts', [key], {});\n",
              "      } catch (error) {\n",
              "        console.error('Error during call to suggestCharts:', error);\n",
              "      }\n",
              "      quickchartButtonEl.classList.remove('colab-df-spinner');\n",
              "      quickchartButtonEl.classList.add('colab-df-quickchart-complete');\n",
              "    }\n",
              "    (() => {\n",
              "      let quickchartButtonEl =\n",
              "        document.querySelector('#df-d2918289-bc95-474a-9a59-9bf4730cb75e button');\n",
              "      quickchartButtonEl.style.display =\n",
              "        google.colab.kernel.accessAllowed ? 'block' : 'none';\n",
              "    })();\n",
              "  </script>\n",
              "</div>\n",
              "\n",
              "    </div>\n",
              "  </div>\n"
            ],
            "application/vnd.google.colaboratory.intrinsic+json": {
              "type": "dataframe",
              "variable_name": "new1",
              "summary": "{\n  \"name\": \"new1\",\n  \"rows\": 25000,\n  \"fields\": [\n    {\n      \"column\": \"review\",\n      \"properties\": {\n        \"dtype\": \"string\",\n        \"num_unique_values\": 24904,\n        \"samples\": [\n          \"\\\"This is not my favorite WIP (\\\\\\\"Women in Prison\\\\\\\"), but it is one of the most famous films in the sub-genre. It is was produced by Roger Corman, who at this point had already produced a few WIPs. It is obvious that the film tries to play with the established formula. The movie takes place in an USA prison, not in a \\\\\\\"banana republic\\\\\\\" like most WIP films. I'm not sure if that was a wise move, but it is an acceptable change of pace. Writer-director Demme really gets into his job, always digging for new ways to present a familiar scenario. In fact, he is a little too ambitious for his own good. The filmmaker creates a few surreal dream sequences that are borderline pretentious but it is fun to see how hard he tries to put this film above your average chicks-in-chains flick. But do not worry, Demme still operates within the parameters of the sub-genre. There is plenty of nudity and violence, something that will satisfy hardcore fans. The film is a little slow, but it is very entertaining. The cast is good. Roberta Collins is a WIP veteran, so she does not need an introduction, and Barbara Steel is a hoot as the wheelchair-bound crazy warden. Pam Grier is sorely missed, though.\\\"\",\n          \"\\\"In 1972, after his wife left to go her own way, Elvis Presley began dating Linda Thompson. Miss Thompson, a good-humored, long haired, lovely, statuesque beauty queen, is charted to fill a void in Elvis' life. When Elvis' divorce became final, Linda was already in place as the legendary performer's live-in girlfriend and travel companion until 1976.<br /><br />This is a gaudy look at their love affair and companionship. Linda whole-heartedly tending to her lover's needs and desires. And even putting up with his swallowing medications by the handful and introducing her to her own love affair with valium. At times this movie is harsh and dark of heart; a very unattractive look at the 'King' and his queen.<br /><br />Don Johnson is absolutely awful as Elvis. Over acting to the hilt is not attractive. Stephanie Zimbalist lacks the classiness of Linda, but does the job pretty well. Supporting cast includes: John Crawford, Ruta Lee, and Rick Lenz. Watching this twice is more than enough for me, but don't let this review stop you from checking it out. For most Elvis fans that I have conferred with, this is not a favored presentation.\\\"\",\n          \"\\\"I am a huge Woody Allen fan and so when I saw that this was playing at the cinema I couldn't help myself. I wanted to see how Allen would follow up his magnificent film Match Point seeing as this is another one of his films shot in G.B. (which is unique among Allen's work) along with what seems to be his new muse Scarlett Johanson. Scoop is much lighter than MP and the humor is Scoop's most enjoyable aspect. The plot revolves around Johanson's character (a journalism student) who gets a tip on a hot story from beyond the grave. She falls in love with a suspected serial killer (Jackman) and she must decide whether the truth is worth finding. Oh and all of this is done with the help of a bumbling magician turned detective played by Allen.<br /><br />I must say that I thoroughly enjoyed Johanson's performance but I am a bit bias, I could watch a three hour film with Johanson in ever frame and remain enchanted. She plays a ditsy, yappy, bumbling sweetheart that is kind of a variation in a sense of Allen's stereotypical neurosis stricken character. She adds appropriate body language for comic effect. Needless to say almost anyone who sees this will find Johanson's character sickeningly cute and that is a plus.<br /><br />Allen is Allen... He is still playing the same character much like Chaplin and his Little Tramp character. Something that occur in this film makes me wonder if I will see the neurotic little hypochondriac again however. He is not in the cast of his next picture and has been spending more time exclusively behind the camera as of late...<br /><br />Jackman is also enjoyable as the suave, millionaire murder suspect. I cannot say that Jackman does anything in particular to make the role his but he suits his character none the less.<br /><br />In terms of the plot I cannot help but feel that this is fresh... In fact it stinks of Curse of the Jade Scorpion. Johanson and Allen are more detective-like than anything. However I must applaud Allen on his ending because it is a bit more clever than your typical unoutstanding Hollywood version of this film. Instead of everything being black and white, things are painted in shades of gray. Being entirely innocent has nothing to do with it nor does unequivocal guilt. Though the plot seemed old Woody still has a knack for one liners. I did find his allusions to his last film interesting... Come for the humor, laugh and be merry.<br /><br />Needless to say if you enjoy Allen's work watch it. If not watch something else...\\\"\"\n        ],\n        \"semantic_type\": \"\",\n        \"description\": \"\"\n      }\n    },\n    {\n      \"column\": \"cleaned_text\",\n      \"properties\": {\n        \"dtype\": \"string\",\n        \"num_unique_values\": 24900,\n        \"samples\": [\n          \"seen terribl pure trash saw year ago still screw\",\n          \"saw movi play add touch stori ever seen saw movi unawar aw life probabl still south african children adult live era brought tear eye much sad heart human struggl like stay aliv bring children right area teach act preform turn loos tell stori simpli amaz simpli surpass five star rate ten thank mr mbongeni ngema astonish stori although year sinc stori told still one lay heavi heart vhs dvd play pleas notifi asap thank ps noth wrong kid want bring awar problem condit attent countri hope one would heart offer assist\",\n          \"love seri mani stereotyp portray southerrn hick appar peopl exist frequent portray southern govern ring true well sympathet charact remind one mani good thing south well thing never chang see good old boy everi day luca buck everi southern town make phone call make thing happen storybook po white trash familiar asid supernatur element everyth els could well happen modern south somehow think triniti sc must barnwel counti\"\n        ],\n        \"semantic_type\": \"\",\n        \"description\": \"\"\n      }\n    }\n  ]\n}"
            }
          },
          "metadata": {},
          "execution_count": 93
        }
      ],
      "source": [
        "new1.head()"
      ]
    },
    {
      "cell_type": "markdown",
      "metadata": {
        "papermill": {
          "duration": 0.02065,
          "end_time": "2020-09-21T19:00:54.696361",
          "exception": false,
          "start_time": "2020-09-21T19:00:54.675711",
          "status": "completed"
        },
        "tags": [],
        "id": "ItW4onuY6Q2F"
      },
      "source": [
        "You can clearly see the difference after removal of stopwords and some shorter words."
      ]
    },
    {
      "cell_type": "markdown",
      "metadata": {
        "papermill": {
          "duration": 0.021183,
          "end_time": "2020-09-21T19:00:54.738638",
          "exception": false,
          "start_time": "2020-09-21T19:00:54.717455",
          "status": "completed"
        },
        "tags": [],
        "id": "FQk5xn3b6Q2F"
      },
      "source": [
        "> Now drop the unpre-processed column."
      ]
    },
    {
      "cell_type": "code",
      "execution_count": 94,
      "metadata": {
        "execution": {
          "iopub.execute_input": "2020-09-21T19:00:54.786732Z",
          "iopub.status.busy": "2020-09-21T19:00:54.786177Z",
          "iopub.status.idle": "2020-09-21T19:00:54.790746Z",
          "shell.execute_reply": "2020-09-21T19:00:54.790295Z"
        },
        "papermill": {
          "duration": 0.030824,
          "end_time": "2020-09-21T19:00:54.790867",
          "exception": false,
          "start_time": "2020-09-21T19:00:54.760043",
          "status": "completed"
        },
        "tags": [],
        "id": "V1PFhiju6Q2G"
      },
      "outputs": [],
      "source": [
        "new1.drop(['review'],axis=1,inplace=True)"
      ]
    },
    {
      "cell_type": "markdown",
      "metadata": {
        "papermill": {
          "duration": 0.020901,
          "end_time": "2020-09-21T19:00:54.833326",
          "exception": false,
          "start_time": "2020-09-21T19:00:54.812425",
          "status": "completed"
        },
        "tags": [],
        "id": "oyL9MJOx6Q2G"
      },
      "source": [
        "### EXTRACTING THE FEATURES AND CREATING THE DOCUMENT-TERM-MATRIX ( DTM )\n",
        "A document-term matrix or term-document matrix is a mathematical matrix that describes the frequency of terms that occur in a collection of documents. In a document-term matrix, rows correspond to documents in the collection and columns correspond to terms.\n",
        "\n",
        "Some important points:-\n",
        "\n",
        "1) LSA is generally implemented with Tfidf values everywhere and not with the Count Vectorizer.\n",
        "\n",
        "2) max_features depends on your computing power and also on eval. metric (coherence score is a metric for topic model). Try the value that gives best eval. metric and doesn't limits processing power.\n",
        "\n",
        "3) Default values for min_df & max_df worked well.\n",
        "\n",
        "4) Can try different values for ngram_range."
      ]
    },
    {
      "cell_type": "code",
      "execution_count": 95,
      "metadata": {
        "execution": {
          "iopub.execute_input": "2020-09-21T19:00:54.878984Z",
          "iopub.status.busy": "2020-09-21T19:00:54.878322Z",
          "iopub.status.idle": "2020-09-21T19:00:54.881838Z",
          "shell.execute_reply": "2020-09-21T19:00:54.882295Z"
        },
        "papermill": {
          "duration": 0.027841,
          "end_time": "2020-09-21T19:00:54.882427",
          "exception": false,
          "start_time": "2020-09-21T19:00:54.854586",
          "status": "completed"
        },
        "tags": [],
        "id": "rlj9uyyU6Q2G"
      },
      "outputs": [],
      "source": [
        "max_feat = 10000\n",
        "# vect =TfidfVectorizer(stop_words=stop_words,max_features=1000)\n",
        "# vect =TfidfVectorizer(stop_words=None,max_features=1000)\n",
        "vect =TfidfVectorizer(stop_words=None,min_df = 2,max_features=max_feat)"
      ]
    },
    {
      "cell_type": "code",
      "execution_count": 96,
      "metadata": {
        "execution": {
          "iopub.execute_input": "2020-09-21T19:00:54.928675Z",
          "iopub.status.busy": "2020-09-21T19:00:54.928099Z",
          "iopub.status.idle": "2020-09-21T19:00:56.142103Z",
          "shell.execute_reply": "2020-09-21T19:00:56.141605Z"
        },
        "papermill": {
          "duration": 1.238181,
          "end_time": "2020-09-21T19:00:56.142220",
          "exception": false,
          "start_time": "2020-09-21T19:00:54.904039",
          "status": "completed"
        },
        "tags": [],
        "id": "DleliG-l6Q2G"
      },
      "outputs": [],
      "source": [
        "vect_text=vect.fit_transform(new1['cleaned_text'])"
      ]
    },
    {
      "cell_type": "code",
      "execution_count": 97,
      "metadata": {
        "execution": {
          "iopub.execute_input": "2020-09-21T19:00:56.188834Z",
          "iopub.status.busy": "2020-09-21T19:00:56.188282Z",
          "iopub.status.idle": "2020-09-21T19:00:56.193591Z",
          "shell.execute_reply": "2020-09-21T19:00:56.194460Z"
        },
        "papermill": {
          "duration": 0.030501,
          "end_time": "2020-09-21T19:00:56.194653",
          "exception": false,
          "start_time": "2020-09-21T19:00:56.164152",
          "status": "completed"
        },
        "tags": [],
        "colab": {
          "base_uri": "https://localhost:8080/"
        },
        "id": "kGJWPSgc6Q2G",
        "outputId": "d48c8c5d-c63d-499c-98f7-d6418cdb7b16"
      },
      "outputs": [
        {
          "output_type": "stream",
          "name": "stdout",
          "text": [
            "['aag' 'aaron' 'ab' ... 'zorro' 'zu' 'zucker']\n"
          ]
        }
      ],
      "source": [
        "print(vect.get_feature_names_out())"
      ]
    },
    {
      "cell_type": "markdown",
      "metadata": {
        "papermill": {
          "duration": 0.021543,
          "end_time": "2020-09-21T19:00:56.239828",
          "exception": false,
          "start_time": "2020-09-21T19:00:56.218285",
          "status": "completed"
        },
        "tags": [],
        "id": "1OOW2LE86Q2G"
      },
      "source": [
        "We can now see the most frequent and rare words in the cleaned_text column based on idf score. The lesser the value; more common is the word in the column."
      ]
    },
    {
      "cell_type": "code",
      "execution_count": 98,
      "metadata": {
        "execution": {
          "iopub.execute_input": "2020-09-21T19:00:56.286543Z",
          "iopub.status.busy": "2020-09-21T19:00:56.285999Z",
          "iopub.status.idle": "2020-09-21T19:00:56.292855Z",
          "shell.execute_reply": "2020-09-21T19:00:56.292305Z"
        },
        "papermill": {
          "duration": 0.03103,
          "end_time": "2020-09-21T19:00:56.292964",
          "exception": false,
          "start_time": "2020-09-21T19:00:56.261934",
          "status": "completed"
        },
        "tags": [],
        "colab": {
          "base_uri": "https://localhost:8080/",
          "height": 203
        },
        "id": "F5Lwvo_V6Q2H",
        "outputId": "0d468a06-7e96-4dec-b248-61473893eb21"
      },
      "outputs": [
        {
          "output_type": "stream",
          "name": "stdout",
          "text": [
            "(25000, 10000)\n"
          ]
        },
        {
          "output_type": "execute_result",
          "data": {
            "text/plain": [
              "scipy.sparse._csr.csr_matrix"
            ],
            "text/html": [
              "<div style=\"max-width:800px; border: 1px solid var(--colab-border-color);\"><style>\n",
              "      pre.function-repr-contents {\n",
              "        overflow-x: auto;\n",
              "        padding: 8px 12px;\n",
              "        max-height: 500px;\n",
              "      }\n",
              "\n",
              "      pre.function-repr-contents.function-repr-contents-collapsed {\n",
              "        cursor: pointer;\n",
              "        max-height: 100px;\n",
              "      }\n",
              "    </style>\n",
              "    <pre style=\"white-space: initial; background:\n",
              "         var(--colab-secondary-surface-color); padding: 8px 12px;\n",
              "         border-bottom: 1px solid var(--colab-border-color);\"><b>scipy.sparse._csr.csr_matrix</b><br/>def __init__(arg1, shape=None, dtype=None, copy=False)</pre><pre class=\"function-repr-contents function-repr-contents-collapsed\" style=\"\"><a class=\"filepath\" style=\"display:none\" href=\"#\">/usr/local/lib/python3.10/dist-packages/scipy/sparse/_csr.py</a>Compressed Sparse Row matrix\n",
              "\n",
              "This can be instantiated in several ways:\n",
              "    csr_array(D)\n",
              "        with a dense matrix or rank-2 ndarray D\n",
              "\n",
              "    csr_array(S)\n",
              "        with another sparse matrix S (equivalent to S.tocsr())\n",
              "\n",
              "    csr_array((M, N), [dtype])\n",
              "        to construct an empty matrix with shape (M, N)\n",
              "        dtype is optional, defaulting to dtype=&#x27;d&#x27;.\n",
              "\n",
              "    csr_array((data, (row_ind, col_ind)), [shape=(M, N)])\n",
              "        where ``data``, ``row_ind`` and ``col_ind`` satisfy the\n",
              "        relationship ``a[row_ind[k], col_ind[k]] = data[k]``.\n",
              "\n",
              "    csr_array((data, indices, indptr), [shape=(M, N)])\n",
              "        is the standard CSR representation where the column indices for\n",
              "        row i are stored in ``indices[indptr[i]:indptr[i+1]]`` and their\n",
              "        corresponding values are stored in ``data[indptr[i]:indptr[i+1]]``.\n",
              "        If the shape parameter is not supplied, the matrix dimensions\n",
              "        are inferred from the index arrays.\n",
              "\n",
              "Attributes\n",
              "----------\n",
              "dtype : dtype\n",
              "    Data type of the matrix\n",
              "shape : 2-tuple\n",
              "    Shape of the matrix\n",
              "ndim : int\n",
              "    Number of dimensions (this is always 2)\n",
              "nnz\n",
              "    Number of stored values, including explicit zeros\n",
              "data\n",
              "    CSR format data array of the matrix\n",
              "indices\n",
              "    CSR format index array of the matrix\n",
              "indptr\n",
              "    CSR format index pointer array of the matrix\n",
              "has_sorted_indices\n",
              "    Whether indices are sorted\n",
              "\n",
              "Notes\n",
              "-----\n",
              "\n",
              "Sparse matrices can be used in arithmetic operations: they support\n",
              "addition, subtraction, multiplication, division, and matrix power.\n",
              "\n",
              "Advantages of the CSR format\n",
              "  - efficient arithmetic operations CSR + CSR, CSR * CSR, etc.\n",
              "  - efficient row slicing\n",
              "  - fast matrix vector products\n",
              "\n",
              "Disadvantages of the CSR format\n",
              "  - slow column slicing operations (consider CSC)\n",
              "  - changes to the sparsity structure are expensive (consider LIL or DOK)\n",
              "\n",
              "Canonical Format\n",
              "    - Within each row, indices are sorted by column.\n",
              "    - There are no duplicate entries.\n",
              "\n",
              "Examples\n",
              "--------\n",
              "\n",
              "&gt;&gt;&gt; import numpy as np\n",
              "&gt;&gt;&gt; from scipy.sparse import csr_array\n",
              "&gt;&gt;&gt; csr_array((3, 4), dtype=np.int8).toarray()\n",
              "array([[0, 0, 0, 0],\n",
              "       [0, 0, 0, 0],\n",
              "       [0, 0, 0, 0]], dtype=int8)\n",
              "\n",
              "&gt;&gt;&gt; row = np.array([0, 0, 1, 2, 2, 2])\n",
              "&gt;&gt;&gt; col = np.array([0, 2, 2, 0, 1, 2])\n",
              "&gt;&gt;&gt; data = np.array([1, 2, 3, 4, 5, 6])\n",
              "&gt;&gt;&gt; csr_array((data, (row, col)), shape=(3, 3)).toarray()\n",
              "array([[1, 0, 2],\n",
              "       [0, 0, 3],\n",
              "       [4, 5, 6]])\n",
              "\n",
              "&gt;&gt;&gt; indptr = np.array([0, 2, 3, 6])\n",
              "&gt;&gt;&gt; indices = np.array([0, 2, 2, 0, 1, 2])\n",
              "&gt;&gt;&gt; data = np.array([1, 2, 3, 4, 5, 6])\n",
              "&gt;&gt;&gt; csr_array((data, indices, indptr), shape=(3, 3)).toarray()\n",
              "array([[1, 0, 2],\n",
              "       [0, 0, 3],\n",
              "       [4, 5, 6]])\n",
              "\n",
              "Duplicate entries are summed together:\n",
              "\n",
              "&gt;&gt;&gt; row = np.array([0, 1, 2, 0])\n",
              "&gt;&gt;&gt; col = np.array([0, 1, 1, 0])\n",
              "&gt;&gt;&gt; data = np.array([1, 2, 4, 8])\n",
              "&gt;&gt;&gt; csr_array((data, (row, col)), shape=(3, 3)).toarray()\n",
              "array([[9, 0, 0],\n",
              "       [0, 2, 0],\n",
              "       [0, 4, 0]])\n",
              "\n",
              "As an example of how to construct a CSR matrix incrementally,\n",
              "the following snippet builds a term-document matrix from texts:\n",
              "\n",
              "&gt;&gt;&gt; docs = [[&quot;hello&quot;, &quot;world&quot;, &quot;hello&quot;], [&quot;goodbye&quot;, &quot;cruel&quot;, &quot;world&quot;]]\n",
              "&gt;&gt;&gt; indptr = [0]\n",
              "&gt;&gt;&gt; indices = []\n",
              "&gt;&gt;&gt; data = []\n",
              "&gt;&gt;&gt; vocabulary = {}\n",
              "&gt;&gt;&gt; for d in docs:\n",
              "...     for term in d:\n",
              "...         index = vocabulary.setdefault(term, len(vocabulary))\n",
              "...         indices.append(index)\n",
              "...         data.append(1)\n",
              "...     indptr.append(len(indices))\n",
              "...\n",
              "&gt;&gt;&gt; csr_array((data, indices, indptr), dtype=int).toarray()\n",
              "array([[2, 1, 0, 0],\n",
              "       [0, 1, 1, 1]])</pre>\n",
              "      <script>\n",
              "      if (google.colab.kernel.accessAllowed && google.colab.files && google.colab.files.view) {\n",
              "        for (const element of document.querySelectorAll('.filepath')) {\n",
              "          element.style.display = 'block'\n",
              "          element.onclick = (event) => {\n",
              "            event.preventDefault();\n",
              "            event.stopPropagation();\n",
              "            google.colab.files.view(element.textContent, 370);\n",
              "          };\n",
              "        }\n",
              "      }\n",
              "      for (const element of document.querySelectorAll('.function-repr-contents')) {\n",
              "        element.onclick = (event) => {\n",
              "          event.preventDefault();\n",
              "          event.stopPropagation();\n",
              "          element.classList.toggle('function-repr-contents-collapsed');\n",
              "        };\n",
              "      }\n",
              "      </script>\n",
              "      </div>"
            ]
          },
          "metadata": {},
          "execution_count": 98
        }
      ],
      "source": [
        "print(vect_text.shape)\n",
        "type(vect_text)"
      ]
    },
    {
      "cell_type": "code",
      "execution_count": 99,
      "metadata": {
        "execution": {
          "iopub.execute_input": "2020-09-21T19:00:56.343774Z",
          "iopub.status.busy": "2020-09-21T19:00:56.343221Z",
          "iopub.status.idle": "2020-09-21T19:00:56.346201Z",
          "shell.execute_reply": "2020-09-21T19:00:56.346580Z"
        },
        "papermill": {
          "duration": 0.030682,
          "end_time": "2020-09-21T19:00:56.346725",
          "exception": false,
          "start_time": "2020-09-21T19:00:56.316043",
          "status": "completed"
        },
        "tags": [],
        "id": "Qnphsf6j6Q2H"
      },
      "outputs": [],
      "source": [
        "idf=vect.idf_"
      ]
    },
    {
      "cell_type": "code",
      "execution_count": 100,
      "metadata": {
        "execution": {
          "iopub.execute_input": "2020-09-21T19:00:56.399358Z",
          "iopub.status.busy": "2020-09-21T19:00:56.398790Z",
          "iopub.status.idle": "2020-09-21T19:00:56.402127Z",
          "shell.execute_reply": "2020-09-21T19:00:56.401211Z"
        },
        "papermill": {
          "duration": 0.032679,
          "end_time": "2020-09-21T19:00:56.402279",
          "exception": false,
          "start_time": "2020-09-21T19:00:56.369600",
          "status": "completed"
        },
        "tags": [],
        "colab": {
          "base_uri": "https://localhost:8080/"
        },
        "id": "mlm3LsDG6Q2H",
        "outputId": "4ef23ac6-ffa4-4d24-fb37-e4ab66a5aa2c"
      },
      "outputs": [
        {
          "output_type": "stream",
          "name": "stdout",
          "text": [
            "['movi', 'film', 'one', 'like', 'time', 'good', 'make', 'see', 'watch', 'get', 'even', 'charact', 'would', 'stori', 'realli', 'well', 'much', 'look', 'act', 'end', 'go', 'scene', 'way', 'first', 'great', 'also', 'think', 'made', 'peopl', 'bad', 'thing', 'could', 'love', 'play', 'know', 'say', 'show', 'seem', 'seen', 'come', 'plot', 'work', 'actor', 'take', 'want', 'year', 'mani', 'never', 'two', 'best', 'tri', 'littl', 'ever', 'give', 'better', 'life', 'still', 'find', 'someth', 'part', 'back', 'perform', 'man', 'feel', 'interest', 'actual', 'director', 'use', 'lot', 'cast', 'real', 'anoth', 'though', 'enjoy', 'old', 'noth', 'live', 'set', 'start', 'point', 'direct', 'star', 'everi', 'believ', 'turn', 'new', 'day', 'thought', 'role', 'funni', 'quit', 'fact', 'wonder', 'got', 'long', 'right', 'guy', 'around', 'world', 'howev', 'minut', 'happen', 'pretti', 'enough', 'hard', 'effect', 'music', 'line', 'origin', 'big', 'without', 'need', 'high', 'must', 'bit', 'script', 'saw', 'us', 'put', 'girl', 'reason', 'young', 'least', 'fan', 'sure', 'alway', 'may', 'last', 'person', 'almost', 'friend', 'done', 'tell', 'becom', 'whole', 'final', 'complet', 'action', 'anyth', 'beauti', 'far', 'place', 'comedi', 'kill', 'kind', 'sinc', 'mean', 'expect', 'begin', 'probabl', 'might', 'entertain', 'away', 'differ', 'let', 'call', 'name', 'laugh', 'anyon', 'help', 'screen', 'shot', 'lead', 'especi', 'yet', 'worst', 'famili', 'run', 'found', 'rather', 'moment', 'main', 'keep', 'hope', 'read', 'cours', 'although', 'horror', 'recommend', 'idea', 'goe', 'appear', 'fun', 'poor', 'audienc', 'surpris', 'woman', 'bore', 'tv', 'worth', 'mind', 'move', 'kid', 'second', 'sens', 'job', 'everyth', 'someon', 'follow', 'togeth', 'mayb', 'perfect', 'money', 'true', 'leav', 'obvious', 'everyon', 'suppos', 'certain', 'face', 'said', 'seri', 'excel', 'instead', 'hand', 'wast', 'special', 'dvd', 'nice', 'rate', 'problem', 'miss', 'view', 'american', 'eye', 'later', 'left', 'night', 'els', 'three', 'understand', 'product', 'hour', 'care', 'open', 'sound', 'classic', 'write', 'head', 'includ', 'fall', 'talk', 'less', 'review', 'serious', 'top', 'rememb', 'short', 'piec', 'half', 'entir', 'involv', 'viewer', 'possibl', 'chang', 'disappoint', 'usual', 'book', 'except', 'simpli', 'absolut', 'rest', 'total', 'either', 'wrong', 'death', 'human', 'attempt', 'definit', 'given', 'die', 'decid', 'dead', 'along', 'wife', 'coupl', 'produc', 'boy', 'word', 'john', 'home', 'pictur', 'lack', 'releas', 'low', 'particular', 'featur', 'portray', 'full', 'close', 'terribl', 'aw', 'writer', 'version', 'camera', 'bring', 'came', 'hous', 'talent', 'budget', 'truli', 'hollywood', 'black', 'titl', 'next', 'stupid', 'save', 'power', 'clear', 'father', 'near', 'base', 'age', 'sad', 'case', 'style', 'fight', 'sever', 'written', 'amaz', 'sort', 'video', 'perhap', 'other', 'creat', 'comment', 'small', 'consid', 'heart', 'dialogu', 'guess', 'unfortun', 'murder', 'stop', 'emot', 'men', 'light', 'often', 'develop', 'imagin', 'episod', 'mention', 'war', 'meet', 'exampl', 'earli', 'anim', 'experi', 'flick', 'lost', 'actress', 'qualiti', 'support', 'overal', 'humor', 'forc', 'fail', 'yes', 'impress', 'manag', 'ask', 'went', 'basic', 'women', 'stand', 'felt', 'hit', 'song', 'dark', 'drama', 'school', 'extrem', 'natur', 'cut', 'wors', 'throughout', 'joke', 'side', 'sequenc', 'matter', 'wait', 'oh', 'present', 'alreadi', 'favorit', 'cinema', 'sex', 'art', 'type', 'brilliant', 'despit', 'fine', 'horribl', 'late', 'deserv', 'success', 'touch', 'brother', 'learn', 'sit', 'wish', 'white', 'past', 'credit', 'realiz', 'anyway', 'strong', 'abl', 'walk', 'behind', 'stay', 'annoy', 'question', 'mysteri', 'mother', 'genr', 'gave', 'deal', 'children', 'rent', 'histori', 'sometim', 'general', 'appar', 'number', 'hate', 'evil', 'chanc', 'exact', 'today', 'import', 'pleas', 'voic', 'twist', 'add', 'edit', 'killer', 'soon', 'continu', 'relationship', 'theme', 'score', 'slow', 'level', 'car', 'relat', 'incred', 'figur', 'major', 'decent', 'stuff', 'thank', 'hero', 'ridicul', 'pace', 'event', 'situat', 'son', 'heard', 'self', 'etc', 'recent', 'order', 'speak', 'took', 'child', 'convinc', 'fair', 'happi', 'break', 'known', 'result', 'element', 'hilari', 'similar', 'cannot', 'compar', 'hold', 'return', 'pain', 'ago', 'bodi', 'predict', 'career', 'pick', 'none', 'daughter', 'strang', 'mr', 'group', 'told', 'god', 'alon', 'exist', 'opinion', 'comic', 'hear', 'town', 'citi', 'effort', 'offer', 'shoot', 'state', 'michael', 'cinematographi', 'taken', 'note', 'avoid', 'caus', 'blood', 'valu', 'explain', 'hell', 'buy', 'excit', 'huge', 'simpl', 'allow', 'somewhat', 'theater', 'deliv', 'middl', 'countri', 'critic', 'quick', 'across', 'crap', 'violenc', 'check', 'shock', 'clich', 'pass', 'femal', 'visual', 'unlik', 'ladi', 'game', 'ok', 'dream', 'shown', 'robert', 'focus', 'form', 'attent', 'local', 'singl', 'apart', 'provid', 'silli', 'win', 'charm', 'most', 'suspens', 'prove', 'honest', 'pull', 'confus', 'due', 'whose', 'realiti', 'cool', 'danc', 'pay', 'room', 'toward', 'remind', 'fill', 'non', 'carri', 'respect', 'class', 'spoiler', 'husband', 'easili', 'admit', 'thriller', 'knew', 'doubt', 'typic', 'modern', 'beyond', 'fast', 'subject', 'cover', 'intellig', 'weak', 'five', 'cheap', 'jame', 'dialog', 'build', 'fit', 'detail', 'english', 'polic', 'atmospher', 'whether', 'upon', 'offic', 'posit', 'appreci', 'gore', 'aspect', 'spend', 'date', 'filmmak', 'futur', 'scari', 'tale', 'forget', 'messag', 'marri', 'straight', 'member', 'sexual', 'street', 'discov', 'previous', 'ten', 'fantast', 'oscar', 'finish', 'period', 'remain', 'four', 'novel', 'televis', 'within', 'captur', 'sequel', 'escap', 'materi', 'sister', 'odd', 'stage', 'david', 'standard', 'ad', 'easi', 'plan', 'air', 'agre', 'notic', 'rock', 'adult', 'mess', 'bunch', 'drive', 'polit', 'storylin', 'parent', 'lose', 'suffer', 'dull', 'artist', 'fire', 'imag', 'inspir', 'sorri', 'william', 'among', 'richard', 'larg', 'third', 'villain', 'eventu', 'realist', 'busi', 'contain', 'mark', 'crime', 'list', 'suggest', 'ultim', 'narrat', 'romant', 'dramat', 'famous', 'troubl', 'color', 'gone', 'normal', 'rare', 'accept', 'kept', 'brought', 'earth', 'somehow', 'forward', 'soundtrack', 'sudden', 'utter', 'whatev', 'appeal', 'mix', 'secret', 'throw', 'victim', 'describ', 'premis', 'documentari', 'georg', 'pure', 'team', 'sing', 'amus', 'truth', 'box', 'shame', 'british', 'memor', 'attract', 'cri', 'gun', 'treat', 'background', 'free', 'wit', 'averag', 'greatest', 'lame', 'reveal', 'unless', 'potenti', 'chase', 'inde', 'screenplay', 'attack', 'romanc', 'otherwis', 'warn', 'constant', 'choic', 'locat', 'peter', 'difficult', 'masterpiec', 'slight', 'king', 'paul', 'becam', 'adapt', 'suck', 'copi', 'male', 'cop', 'th', 'dog', 'adventur', 'imdb', 'america', 'okay', 'uniqu', 'fear', 'week', 'weird', 'bother', 'superb', 'monster', 'teenag', 'york', 'crazi', 'deep', 'frank', 'project', 'battl', 'design', 'red', 'refer', 'earlier', 'costum', 'master', 'catch', 'hot', 'express', 'grow', 'issu', 'public', 'spirit', 'space', 'wear', 'execut', 'jump', 'scare', 'stick', 'equal', 'struggl', 'clever', 'jack', 'train', 'combin', 'front', 'accent', 'older', 'control', 'plenti', 'roll', 'popular', 'flaw', 'bill', 'cheesi', 'rich', 'girlfriend', 'scream', 'season', 'bare', 'lover', 'cultur', 'societi', 'outsid', 'maker', 'magic', 'concern', 'connect', 'plain', 'plus', 'student', 'listen', 'babi', 'award', 'depict', 'mistak', 'promis', 'serv', 'concept', 'drug', 'sweet', 'term', 'meant', 'amount', 'fiction', 'mad', 'desper', 'flat', 'french', 'studio', 'creepi', 'fantasi', 'era', 'insid', 'parti', 'various', 'ride', 'dumb', 'innoc', 'water', 'co', 'intent', 'steal', 'tast', 'embarrass', 'dress', 'purpos', 'familiar', 'lie', 'tom', 'social', 'disturb', 'engag', 'store', 'track', 'beat', 'cute', 'hair', 'post', 'repeat', 'spot', 'fli', 'moral', 'wrote', 'surviv', 'stereotyp', 'share', 'fascin', 'liter', 'answer', 'memori', 'unbeliev', 'ruin', 'ignor', 'manner', 'collect', 'fashion', 'intrigu', 'achiev', 'depth', 'remark', 'stun', 'caught', 'reach', 'tone', 'danger', 'eat', 'conclus', 'inform', 'sleep', 'land', 'abil', 'claim', 'spent', 'kick', 'languag', 'rip', 'centuri', 'compani', 'imposs', 'neither', 'cold', 'doctor', 'brain', 'common', 'delight', 'western', 'tension', 'limit', 'nuditi', 'drop', 'immedi', 'introduc', 'record', 'destroy', 'suit', 'extra', 'dr', 'solid', 'law', 'remak', 'sick', 'receiv', 'respons', 'mari', 'mere', 'lee', 'step', 'intens', 'travel', 'footag', 'former', 'biggest', 'trip', 'violent', 'skill', 'fi', 'pointless', 'crew', 'player', 'pop', 'trash', 'wood', 'wild', 'complex', 'sci', 'univers', 'approach', 'drag', 'handl', 'mental', 'physic', 'soul', 'channel', 'genuin', 'match', 'generat', 'bizarr', 'addit', 'million', 'de', 'laughabl', 'excus', 'glad', 'soldier', 'door', 'edg', 'sign', 'suspect', 'besid', 'consist', 'fake', 'arriv', 'compel', 'paint', 'tear', 'search', 'heavi', 'histor', 'longer', 'visit', 'hole', 'cartoon', 'cross', 'technic', 'rais', 'somewher', 'grade', 'minor', 'asid', 'intend', 'hurt', 'pathet', 'reveng', 'alien', 'motion', 'younger', 'burn', 'cat', 'opportun', 'key', 'zombi', 'loud', 'commit', 'cost', 'count', 'ghost', 'chemistri', 'redeem', 'tough', 'haunt', 'practic', 'nation', 'blue', 'decad', 'genius', 'regard', 'cloth', 'awesom', 'display', 'climax', 'prison', 'smile', 'author', 'depress', 'mood', 'crimin', 'desir', 'thrill', 'brutal', 'ground', 'motiv', 'tire', 'yeah', 'mouth', 'occasion', 'wall', 'explor', 'faith', 'teen', 'draw', 'succeed', 'tradit', 'bought', 'nobodi', 'nowher', 'detect', 'garbag', 'idiot', 'obsess', 'requir', 'folk', 'insult', 'loos', 'bar', 'creatur', 'cult', 'disney', 'rule', 'exploit', 'aliv', 'enter', 'terrif', 'hang', 'harri', 'bottom', 'center', 'colleg', 'tortur', 'creativ', 'judg', 'camp', 'satisfi', 'scienc', 'essenti', 'subtl', 'cinemat', 'ex', 'outstand', 'super', 'drawn', 'wow', 'band', 'initi', 'profession', 'road', 'sexi', 'gem', 'comput', 'damn', 'japanes', 'month', 'seek', 'send', 'strike', 'admir', 'anti', 'blow', 'fulli', 'joe', 'studi', 'affect', 'sceneri', 'report', 'will', 'fresh', 'area', 'italian', 'wise', 'avail', 'assum', 'ring', 'la', 'smart', 'park', 'presenc', 'hide', 'random', 'thrown', 'frame', 'gay', 'iron', 'rape', 'negat', 'everybodi', 'brief', 'slowli', 'thus', 'ahead', 'german', 'industri', 'mediocr', 'challeng', 'content', 'investig', 'photographi', 'spoil', 'grant', 'hey', 'push', 'sell', 'trailer', 'evid', 'graphic', 'doubl', 'humour', 'island', 'passion', 'absurd', 'bed', 'ben', 'affair', 'twice', 'wind', 'occur', 'proper', 'blame', 'festiv', 'forev', 'scott', 'race', 'surround', 'west', 'fellow', 'held', 'cameo', 'arm', 'dad', 'dub', 'govern', 'angel', 'armi', 'boyfriend', 'hire', 'repres', 'central', 'journey', 'sight', 'thin', 'correct', 'marriag', 'sent', 'nake', 'individu', 'gorgeous', 'ill', 'rise', 'green', 'lesson', 'resembl', 'trust', 'current', 'prefer', 'grace', 'highlight', 'conflict', 'reaction', 'silent', 'tie', 'choos', 'fortun', 'gang', 'machin', 'flashback', 'likabl', 'nonsens', 'thorough', 'agent', 'pleasur', 'round', 'boss', 'club', 'pack', 'bear', 'born', 'commerci', 'join', 'protagonist', 'tragic', 'dread', 'indian', 'vote', 'worthi', 'improv', 'intern', 'six', 'sub', 'trap', 'van', 'wide', 'discuss', 'independ', 'angl', 'justic', 'logic', 'shine', 'paid', 'drink', 'gag', 'remot', 'christoph', 'disgust', 'hunt', 'prepar', 'skip', 'pleasant', 'fell', 'south', 'impact', 'quiet', 'length', 'militari', 'encount', 'giant', 'nasti', 'irrit', 'nomin', 'planet', 'christma', 'forgotten', 'stuck', 'system', 'abus', 'interview', 'warm', 'nightmar', 'recogn', 'vision', 'frustrat', 'phone', 'fault', 'influenc', 'latter', 'model', 'station', 'superior', 'unusu', 'charl', 'funniest', 'photograph', 'psycholog', 'readi', 'scientist', 'dollar', 'object', 'tragedi', 'reflect', 'regular', 'field', 'trick', 'jim', 'london', 'tend', 'therefor', 'ugli', 'blond', 'jone', 'smith', 'zero', 'disappear', 'favourit', 'hill', 'market', 'pair', 'progress', 'establish', 'stone', 'youth', 'accur', 'partner', 'toni', 'afraid', 'celebr', 'epic', 'instanc', 'refus', 'worri', 'accord', 'clean', 'ident', 'sam', 'disast', 'replac', 'tune', 'wooden', 'crash', 'formula', 'mile', 'tape', 'bomb', 'childhood', 'convers', 'decis', 'led', 'lord', 'mine', 'piti', 'summer', 'unit', 'accid', 'ann', 'anymor', 'joy', 'process', 'suicid', 'ball', 'rang', 'serial', 'fate', 'convey', 'jean', 'awar', 'favor', 'necessari', 'fool', 'opera', 'unexpect', 'martin', 'mid', 'onto', 'slasher', 'teacher', 'whatsoev', 'steve', 'appropri', 'mom', 'rush', 'christian', 'insight', 'opposit', 'shop', 'clue', 'commentari', 'comparison', 'deepli', 'energi', 'satir', 'explan', 'lock', 'program', 'ray', 'twenti', 'board', 'heaven', 'vampir', 'angri', 'bond', 'attitud', 'that', 'frighten', 'noir', 'sentiment', 'st', 'theatr', 'began', 'comed', 'distract', 'hors', 'watchabl', 'hidden', 'hospit', 'legend', 'breath', 'credibl', 'curious', 'dare', 'heroin', 'load', 'target', 'food', 'marvel', 'news', 'anywher', 'invent', 'mild', 'rescu', 'unnecessari', 'hint', 'seat', 'anybodi', 'craft', 'insan', 'sum', 'test', 'window', 'witch', 'bland', 'bloodi', 'buddi', 'floor', 'ii', 'church', 'root', 'teach', 'billi', 'over', 'page', 'protect', 'ship', 'charg', 'empti', 'owner', 'stephen', 'dozen', 'european', 'sat', 'aim', 'hundr', 'movement', 'possess', 'pre', 'chill', 'compet', 'desert', 'magnific', 'thousand', 'blind', 'bright', 'chris', 'contrast', 'knock', 'seven', 'signific', 'singer', 'strength', 'unknown', 'demand', 'jane', 'jason', 'soft', 'sport', 'stretch', 'transform', 'porn', 'queen', 'quot', 'awkward', 'flesh', 'somebodi', 'demon', 'endless', 'knowledg', 'price', 'terror', 'adam', 'capabl', 'england', 'roger', 'belong', 'chick', 'davi', 'drunk', 'interact', 'met', 'notabl', 'research', 'separ', 'threaten', 'crowd', 'mask', 'account', 'debut', 'leader', 'failur', 'friendship', 'gotten', 'prais', 'shadow', 'vehicl', 'communiti', 'perspect', 'spectacular', 'determin', 'steven', 'ass', 'behavior', 'ed', 'abandon', 'confront', 'paper', 'plane', 'dirti', 'explos', 'factor', 'pretenti', 'punch', 'al', 'belief', 'grand', 'hotel', 'rank', 'weapon', 'wed', 'brian', 'loss', 'recal', 'revolv', 'up', 'witti', 'proceed', 'whenev', 'finest', 'kiss', 'ms', 'symbol', 'buck', 'fame', 'numer', 'accomplish', 'cabl', 'observ', 'advanc', 'depart', 'freak', 'gangster', 'henri', 'site', 'techniqu', 'translat', 'welcom', 'academi', 'complic', 'expert', 'gain', 'grab', 'kinda', 'radio', 'stock', 'enemi', 'river', 'speed', 'wake', 'educ', 'luck', 'realis', 'smoke', 'vhs', 'cgi', 'realism', 'reli', 'shallow', 'assist', 'bet', 'hook', 'jr', 'privat', 'rubbish', 'virtual', 'convent', 'devil', 'dri', 'lone', 'lucki', 'servic', 'aid', 'contriv', 'dimension', 'higher', 'mission', 'comfort', 'flow', 'pilot', 'routin', 'leg', 'pretend', 'activ', 'attend', 'flash', 'interpret', 'parodi', 'religi', 'fat', 'ordinari', 'specif', 'advic', 'alan', 'offens', 'regret', 'shape', 'balanc', 'bigger', 'complain', 'morn', 'structur', 'worker', 'associ', 'command', 'contribut', 'lower', 'sake', 'captain', 'construct', 'crack', 'hat', 'sourc', 'broken', 'degre', 'depend', 'domin', 'grew', 'sheer', 'villag', 'context', 'hunter', 'franc', 'gold', 'kidnap', 'manipul', 'peac', 'soap', 'unabl', 'cash', 'circumst', 'foot', 'frequent', 'grip', 'media', 'oper', 'accident', 'cheat', 'foreign', 'increas', 'pari', 'safe', 'toy', 'uncl', 'core', 'fox', 'gratuit', 'grown', 'mountain', 'pile', 'robot', 'technolog', 'captiv', 'categori', 'dougla', 'experienc', 'ice', 'theatric', 'unfold', 'corni', 'meanwhil', 'refresh', 'rough', 'cheer', 'dislik', 'invit', 'jerri', 'relief', 'skin', 'sole', 'treatment', 'unfunni', 'defin', 'promot', 'sky', 'amateurish', 'bruce', 'kevin', 'nativ', 'sympathet', 'tight', 'tim', 'unintent', 'allen', 'altern', 'consider', 'driven', 'liner', 'sea', 'corrupt', 'devic', 'laughter', 'miser', 'organ', 'condit', 'demonstr', 'earn', 'path', 'psycho', 'rob', 'spell', 'unrealist', 'whilst', 'daniel', 'gift', 'instant', 'mass', 'tree', 'amateur', 'brown', 'fare', 'nevertheless', 'ran', 'sensit', 'speech', 'underr', 'wave', 'blockbust', 'civil', 'menac', 'secur', 'veteran', 'wander', 'winner', 'danni', 'matur', 'rain', 'tedious', 'emerg', 'martial', 'segment', 'statement', 'indic', 'overlook', 'par', 'russian', 'subtitl', 'ador', 'anthoni', 'bob', 'forgiv', 'guard', 'gut', 'authent', 'compos', 'glass', 'handsom', 'kate', 'presid', 'proud', 'stumbl', 'surreal', 'wrap', 'candi', 'charli', 'expos', 'feet', 'gonna', 'intellectu', 'scale', 'section', 'stranger', 'stunt', 'african', 'chines', 'contemporari', 'inevit', 'moon', 'remov', 'bank', 'built', 'card', 'com', 'golden', 'print', 'scenario', 'substanc', 'chosen', 'joan', 'switch', 'wound', 'boat', 'consequ', 'naiv', 'rental', 'stewart', 'topic', 'crappi', 'brave', 'gori', 'johnni', 'mike', 'thoma', 'dick', 'endur', 'harsh', 'heck', 'outrag', 'prevent', 'advertis', 'network', 'provok', 'screenwrit', 'walter', 'anger', 'gari', 'hall', 'justifi', 'patient', 'distinct', 'mirror', 'reput', 'terrifi', 'clip', 'reminisc', 'sharp', 'solv', 'convict', 'cynic', 'fatal', 'glimps', 'slap', 'bullet', 'eddi', 'japan', 'ludicr', 'maintain', 'revel', 'saturday', 'spanish', 'sympathi', 'vagu', 'addict', 'ancient', 'atroci', 'colour', 'eight', 'employ', 'format', 'freedom', 'nick', 'notch', 'expens', 'gene', 'lesbian', 'lousi', 'neighbor', 'creator', 'edward', 'honor', 'massiv', 'cook', 'descript', 'semi', 'ala', 'arthur', 'asleep', 'liber', 'neat', 'prime', 'risk', 'spi', 'till', 'uninterest', 'fred', 'gross', 'uk', 'castl', 'chief', 'exagger', 'grave', 'presum', 'complaint', 'identifi', 'inner', 'lawyer', 'loser', 'stare', 'treasur', 'asian', 'code', 'comedian', 'insist', 'jeff', 'letter', 'subplot', 'surfac', 'curs', 'forgett', 'inept', 'juli', 'purchas', 'rival', 'spin', 'wing', 'argu', 'bitter', 'character', 'destruct', 'fals', 'imit', 'spoof', 'thirti', 'weekend', 'whoever', 'accompani', 'advis', 'gordon', 'ideal', 'nail', 'priest', 'upset', 'chose', 'clark', 'dig', 'hype', 'jimmi', 'latest', 'resid', 'theori', 'afternoon', 'blend', 'buff', 'dancer', 'eric', 'sincer', 'alcohol', 'closer', 'driver', 'excess', 'guid', 'mrs', 'size', 'storytel', 'tabl', 'tini', 'unconvinc', 'barbara', 'kelli', 'lift', 'makeup', 'method', 'poster', 'reject', 'settl', 'string', 'taylor', 'trial', 'andi', 'everywher', 'gritti', 'howard', 'indi', 'melodrama', 'moron', 'overcom', 'overwhelm', 'press', 'ton', 'merit', 'needless', 'supernatur', 'task', 'citizen', 'court', 'damag', 'guest', 'jennif', 'matt', 'offend', 'simon', 'varieti', 'arrest', 'bound', 'defeat', 'north', 'shakespear', 'crude', 'europ', 'junk', 'legendari', 'lewi', 'multipl', 'select', 'cage', 'concentr', 'contact', 'downright', 'fish', 'jackson', 'lake', 'link', 'mainstream', 'popul', 'shake', 'shut', 'strip', 'vs', 'bridg', 'confid', 'deni', 'ear', 'gather', 'guilti', 'nazi', 'san', 'sheriff', 'split', 'summari', 'winter', 'appal', 'attach', 'border', 'crush', 'forth', 'goal', 'nois', 'prior', 'sentenc', 'washington', 'worthwhil', 'accus', 'bite', 'borrow', 'facial', 'fade', 'friday', 'lynch', 'pitch', 'reward', 'blown', 'cant', 'con', 'deliveri', 'dude', 'erot', 'hyster', 'nose', 'offici', 'strict', 'tremend', 'trilog', 'breathtak', 'corner', 'doom', 'encourag', 'environ', 'nude', 'plagu', 'spite', 'toler', 'afterward', 'host', 'quirki', 'entri', 'examin', 'finger', 'heavili', 'kong', 'morgan', 'pan', 'particip', 'alright', 'beg', 'behav', 'courag', 'fabul', 'instal', 'jaw', 'landscap', 'occas', 'religion', 'ryan', 'stolen', 'understood', 'widow', 'bird', 'birth', 'campi', 'canadian', 'controversi', 'obscur', 'robin', 'un', 'aka', 'broadway', 'donald', 'gruesom', 'icon', 'lifetim', 'mate', 'relev', 'scheme', 'assassin', 'beach', 'germani', 'lay', 'mini', 'pose', 'stomach', 'sunday', 'bag', 'belov', 'benefit', 'california', 'cell', 'cring', 'indulg', 'jesus', 'parker', 'quest', 'sun', 'sword', 'anticip', 'breast', 'chain', 'dan', 'defend', 'disbelief', 'endear', 'forgot', 'greater', 'horrif', 'necessarili', 'pursu', 'status', 'tongu', 'turkey', 'andrew', 'buri', 'corps', 'ensu', 'jerk', 'lazi', 'thumb', 'address', 'basi', 'guarante', 'hopeless', 'inhabit', 'joseph', 'rose', 'sink', 'swear', 'urban', 'confess', 'princ', 'profound', 'prostitut', 'teeth', 'yell', 'blatant', 'halfway', 'obnoxi', 'screw', 'tour', 'trade', 'chair', 'enhanc', 'measur', 'poignant', 'render', 'resist', 'sean', 'albert', 'betray', 'goofi', 'introduct', 'propaganda', 'sophist', 'uniform', 'vivid', 'advantag', 'bone', 'cousin', 'devot', 'elder', 'forest', 'fourth', 'integr', 'raw', 'shower', 'vast', 'via', 'conceiv', 'creation', 'cruel', 'extent', 'extraordinari', 'lip', 'oliv', 'princess', 'princip', 'sin', 'twin', 'uncomfort', 'batman', 'deeper', 'deliber', 'extend', 'imageri', 'max', 'professor', 'texa', 'halloween', 'incid', 'kim', 'medic', 'outfit', 'spoken', 'stab', 'subsequ', 'ticket', 'appli', 'bug', 'capit', 'communic', 'feed', 'jail', 'nonetheless', 'survivor', 'uninspir', 'victor', 'argument', 'aunt', 'corpor', 'daili', 'denni', 'nowaday', 'stylish', 'warner', 'block', 'explod', 'patrick', 'sir', 'slapstick', 'access', 'assign', 'everyday', 'funnier', 'mechan', 'smooth', 'suitabl', 'transfer', 'wreck', 'albeit', 'dynam', 'fix', 'fu', 'immens', 'laid', 'mindless', 'miscast', 'moor', 'neck', 'oppos', 'pool', 'relax', 'retard', 'showcas', 'sleazi', 'stalk', 'asham', 'error', 'overact', 'punish', 'shoe', 'terrorist', 'alter', 'anderson', 'australian', 'cowboy', 'fond', 'ford', 'fulfil', 'lesser', 'pregnant', 'storm', 'trek', 'underground', 'virgin', 'chop', 'circl', 'fallen', 'russel', 'africa', 'alik', 'amongst', 'beer', 'dear', 'dragon', 'elev', 'gas', 'notori', 'prop', 'reduc', 'shout', 'sinist', 'sitcom', 'brook', 'cinematograph', 'conscious', 'cooper', 'disagre', 'east', 'gentl', 'grim', 'hip', 'infam', 'monkey', 'react', 'spare', 'trite', 'wash', 'conclud', 'henc', 'horrend', 'impli', 'isol', 'lovabl', 'preview', 'sold', 'southern', 'throat', 'upper', 'wayn', 'aspir', 'coher', 'disguis', 'flight', 'forti', 'hitchcock', 'horrifi', 'magazin', 'nine', 'plant', 'shoulder', 'stink', 'wealthi', 'assur', 'bell', 'divorc', 'happili', 'illustr', 'incoher', 'portrait', 'precis', 'rage', 'restor', 'ron', 'sacrific', 'shift', 'truck', 'arrog', 'chees', 'dedic', 'digit', 'distribut', 'fairi', 'flawless', 'garden', 'hood', 'jon', 'nut', 'parallel', 'racist', 'retir', 'silenc', 'tens', 'unforgett', 'absorb', 'astonish', 'bbc', 'competit', 'drew', 'eeri', 'internet', 'ironi', 'lyric', 'own', 'wilson', 'adequ', 'adopt', 'doll', 'duti', 'enorm', 'fanci', 'flop', 'grate', 'height', 'lesli', 'photo', 'resolut', 'stress', 'vacat', 'beast', 'boot', 'broke', 'cancel', 'dean', 'ensembl', 'etern', 'glori', 'holiday', 'homag', 'hugh', 'innov', 'johnson', 'swim', 'torn', 'triumph', 'unbear', 'usa', 'wanna', 'warrior', 'willi', 'announc', 'butt', 'eager', 'footbal', 'function', 'induc', 'irish', 'polish', 'proof', 'redempt', 'cain', 'chuckl', 'clair', 'difficulti', 'dinner', 'elabor', 'hank', 'heat', 'loui', 'mansion', 'mexican', 'sensibl', 'weight', 'wherea', 'alic', 'bath', 'boredom', 'brad', 'china', 'em', 'fest', 'jungl', 'mill', 'per', 'repetit', 'susan', 'caricatur', 'exercis', 'firm', 'inexplic', 'luke', 'lust', 'minim', 'mst', 'pet', 'premier', 'revolut', 'spring', 'wick', 'basebal', 'broadcast', 'dawn', 'dump', 'ham', 'homosexu', 'keaton', 'larger', 'mexico', 'puzzl', 'slip', 'text', 'urg', 'user', 'bride', 'elsewher', 'float', 'leagu', 'meaning', 'min', 'notion', 'owe', 'persona', 'stiff', 'transit', 'anna', 'choreograph', 'distanc', 'fifti', 'larri', 'matrix', 'metal', 'pound', 'silver', 'tribut', 'wwii', 'charisma', 'contract', 'creep', 'hong', 'itali', 'michell', 'mous', 'nurs', 'plastic', 'rachel', 'row', 'superfici', 'zone', 'abrupt', 'brand', 'countless', 'financi', 'knife', 'mob', 'neighborhood', 'splendid', 'bang', 'bat', 'christ', 'companion', 'deriv', 'diseas', 'essenc', 'explicit', 'franchis', 'heroic', 'massacr', 'metaphor', 'mgm', 'nuanc', 'pad', 'spiritu', 'tap', 'territori', 'threat', 'toss', 'alex', 'arrang', 'backdrop', 'blank', 'briefli', 'editor', 'fetch', 'hack', 'invest', 'librari', 'march', 'portion', 'shirt', 'toilet', 'tool', 'bulli', 'climb', 'kung', 'layer', 'medium', 'peak', 'pride', 'shi', 'spread', 'squar', 'swing', 'tender', 'ultra', 'vietnam', 'burst', 'charismat', 'crisi', 'dealt', 'engin', 'gradual', 'miller', 'murphi', 'philosoph', 'reader', 'resort', 'sneak', 'spark', 'useless', 'wannab', 'afford', 'bus', 'elizabeth', 'hitler', 'luckili', 'secretari', 'slave', 'stood', 'woodi', 'blair', 'broad', 'childish', 'drown', 'electr', 'eleg', 'generous', 'guilt', 'label', 'multi', 'nd', 'orient', 'qualifi', 'santa', 'subtleti', 'vari', 'ego', 'implaus', 'india', 'jay', 'julia', 'mistaken', 'musician', 'newspap', 'numb', 'satan', 'shall', 'basement', 'brillianc', 'button', 'concert', 'convolut', 'easier', 'foster', 'freddi', 'health', 'hideous', 'huh', 'kudo', 'lion', 'resolv', 'smash', 'tea', 'vincent', 'vulner', 'ambigu', 'conveni', 'exchang', 'fighter', 'file', 'grasp', 'hammer', 'jacki', 'outcom', 'reel', 'scratch', 'aforement', 'blast', 'britain', 'destin', 'ingredi', 'invis', 'melodramat', 'pitt', 'snow', 'struck', 'contest', 'cure', 'evok', 'fianc', 'insert', 'midnight', 'montag', 'nobl', 'pg', 'pro', 'regardless', 'reluct', 'resourc', 'sadist', 'sidekick', 'spooki', 'steel', 'ambiti', 'be', 'cabin', 'coincid', 'eccentr', 'enthusiast', 'gotta', 'journalist', 'rapid', 'restaur', 'ruthless', 'savag', 'selfish', 'timeless', 'updat', 'chew', 'curios', 'discoveri', 'factori', 'glorious', 'pacino', 'rat', 'revers', 'slice', 'stronger', 'tame', 'vicious', 'babe', 'beaten', 'boil', 'burt', 'dash', 'directori', 'distant', 'document', 'drivel', 'inconsist', 'jessica', 'lane', 'mar', 'precious', 'ralph', 'rebel', 'reunion', 'servant', 'superbl', 'bias', 'cheek', 'clock', 'favour', 'incompet', 'instinct', 'item', 'lend', 'poverti', 'pressur', 'racism', 'slaughter', 'slightest', 'suspend', 'unpleas', 'websit', 'wipe', 'worthless', 'bold', 'divers', 'fifteen', 'fist', 'hoffman', 'jealous', 'kitchen', 'maniac', 'pit', 'plausibl', 'rave', 'sloppi', 'thug', 'bless', 'canada', 'cardboard', 'catherin', 'cruis', 'drunken', 'ian', 'meat', 'poison', 'rid', 'sarah', 'suppli', 'carol', 'duo', 'graduat', 'jess', 'nanci', 'nerv', 'recreat', 'seduc', 'snake', 'ted', 'undoubt', 'awe', 'barri', 'conspiraci', 'cup', 'digniti', 'dire', 'duke', 'estat', 'helen', 'inspector', 'knight', 'lifestyl', 'nod', 'roy', 'stinker', 'unwatch', 'yesterday', 'acclaim', 'ah', 'bin', 'birthday', 'confirm', 'debat', 'disc', 'farc', 'grey', 'jewish', 'lloyd', 'miracl', 'overdon', 'philip', 'psychot', 'reed', 'stanley', 'sutherland', 'thick', 'artifici', 'baker', 'curti', 'declar', 'defi', 'eas', 'godfath', 'harm', 'horrid', 'jeremi', 'laura', 'oil', 'pal', 'pie', 'pig', 'relentless', 'rivet', 'seventi', 'simpson', 'absenc', 'altogeth', 'ambit', 'antic', 'automat', 'carter', 'combat', 'darker', 'delici', 'detract', 'dorothi', 'dose', 'flip', 'flower', 'glow', 'jar', 'puppet', 'recov', 'transport', 'bash', 'boast', 'contrari', 'dinosaur', 'eighti', 'farm', 'holi', 'kane', 'philosophi', 'phrase', 'pray', 'prize', 'pseudo', 'union', 'web', 'assault', 'awaken', 'ban', 'bleak', 'bottl', 'cathol', 'cliff', 'evolv', 'fund', 'gothic', 'kurt', 'mock', 'packag', 'sixti', 'thread', 'torment', 'tower', 'uneven', 'ward', 'cox', 'devast', 'hippi', 'le', 'los', 'merci', 'nearbi', 'sketch', 'spit', 'trio', 'excruci', 'lean', 'overr', 'rd', 'threw', 'tip', 'unfair', 'ventur', 'von', 'abysm', 'alli', 'australia', 'await', 'bargain', 'blade', 'butcher', 'calm', 'celluloid', 'chan', 'clumsi', 'fanat', 'inan', 'incident', 'ought', 'piano', 'punk', 'reviv', 'scientif', 'thief', 'acknowledg', 'bathroom', 'befriend', 'cannib', 'centr', 'characterist', 'custom', 'decor', 'generic', 'humili', 'lisa', 'meaningless', 'nelson', 'option', 'pat', 'reserv', 'respond', 'reunit', 'slick', 'suspici', 'titan', 'wolf', 'ape', 'apolog', 'bibl', 'brazil', 'collabor', 'equip', 'grandmoth', 'harder', 'helicopt', 'highest', 'legal', 'navi', 'sore', 'stole', 'superman', 'tag', 'termin', 'closet', 'dimens', 'exhibit', 'furthermor', 'glenn', 'popcorn', 'skit', 'synopsi', 'unsettl', 'wilder', 'adolesc', 'audio', 'awak', 'candid', 'coach', 'devoid', 'diamond', 'eve', 'gear', 'interrupt', 'juvenil', 'leap', 'lit', 'moodi', 'neglect', 'ocean', 'outer', 'promin', 'pun', 'rocket', 'royal', 'senseless', 'shark', 'smaller', 'assembl', 'bobbi', 'bollywood', 'chuck', 'consum', 'dane', 'embrac', 'exot', 'hatr', 'humbl', 'inappropri', 'inferior', 'mixtur', 'nervous', 'paus', 'phillip', 'primarili', 'racial', 'saint', 'splatter', 'tall', 'trace', 'visibl', 'wire', 'craig', 'echo', 'emphasi', 'hesit', 'launch', 'matthew', 'mystic', 'pen', 'powel', 'strain', 'bedroom', 'blew', 'bonus', 'bush', 'cave', 'coffe', 'crook', 'disgrac', 'domest', 'flame', 'foul', 'hbo', 'heartbreak', 'inherit', 'nuclear', 'pant', 'poetic', 'poke', 'politician', 'pot', 'prompt', 'psychiatrist', 'rap', 'shelf', 'sidney', 'simplist', 'stellar', 'tempt', 'trademark', 'wizard', 'applaud', 'beneath', 'casual', 'choreographi', 'collaps', 'cue', 'descend', 'empir', 'fx', 'hawk', 'iii', 'incomprehens', 'kenneth', 'lab', 'loyal', 'melt', 'primari', 'shade', 'spielberg', 'staff', 'turner', 'vega', 'aggress', 'bust', 'cake', 'cameron', 'coat', 'conserv', 'disjoint', 'enchant', 'funer', 'futurist', 'gate', 'goldberg', 'homicid', 'intim', 'manhattan', 'mitchel', 'repuls', 'rural', 'sale', 'salli', 'scope', 'solut', 'span', 'unhappi', 'warren', 'wont', 'alert', 'colleagu', 'countrysid', 'dismiss', 'eleph', 'glamor', 'imperson', 'jami', 'prejudic', 'publish', 'pulp', 'retain', 'riot', 'sappi', 'steam', 'twelv', 'weakest', 'werewolf', 'aveng', 'bett', 'chao', 'chest', 'compens', 'downhil', 'honesti', 'jet', 'lol', 'mel', 'partial', 'sibl', 'stilt', 'stir', 'trail', 'vulgar', 'ami', 'chaplin', 'contempl', 'denzel', 'drain', 'emma', 'fbi', 'garner', 'goer', 'homeless', 'illog', 'institut', 'mafia', 'mesmer', 'miseri', 'pierc', 'principl', 'sinatra', 'startl', 'sullivan', 'sympath', 'templ', 'util', 'wet', 'wore', 'alexand', 'alfr', 'banal', 'bitch', 'carpent', 'closest', 'cope', 'dazzl', 'declin', 'emili', 'forbidden', 'francisco', 'gap', 'glover', 'hardcor', 'illeg', 'neil', 'nostalg', 'predecessor', 'psychopath', 'rambl', 'recycl', 'rendit', 'sh', 'slide', 'tad', 'terri', 'timothi', 'unreal', 'walker', 'wealth', 'wive', 'arguabl', 'chapter', 'clown', 'commend', 'confin', 'counter', 'craze', 'daddi', 'defens', 'ensur', 'experiment', 'holm', 'ken', 'lawrenc', 'ned', 'percept', 'revolutionari', 'reynold', 'snap', 'suffic', 'swallow', 'tiresom', 'traci', 'vanish', 'wrestl', 'yellow', 'acquir', 'derek', 'despair', 'dud', 'extens', 'meander', 'milk', 'obtain', 'plight', 'pour', 'roman', 'romp', 'shed', 'talki', 'tank', 'tonight', 'valuabl', 'wacki', 'walken', 'wes', 'whip', 'yard', 'airplan', 'belt', 'bud', 'communist', 'compass', 'composit', 'dive', 'expand', 'faster', 'foolish', 'gender', 'hollow', 'mislead', 'muddl', 'panic', 'plod', 'pursuit', 'resurrect', 'solo', 'strand', 'underst', 'ya', 'album', 'bull', 'bumbl', 'clint', 'dealer', 'dust', 'fed', 'habit', 'hardi', 'household', 'jazz', 'korean', 'pattern', 'pin', 'quarter', 'rocki', 'rotten', 'safeti', 'seduct', 'soviet', 'tackl', 'tommi', 'unrel', 'uplift', 'alleg', 'anni', 'climact', 'deed', 'destini', 'dispos', 'elimin', 'freeman', 'gal', 'immort', 'instrument', 'jeffrey', 'lowest', 'luci', 'maria', 'outing', 'preach', 'properti', 'ration', 'recognit', 'repress', 'slash', 'stark', 'unpredict', 'attribut', 'catchi', 'compliment', 'drum', 'equival', 'fri', 'global', 'ho', 'hudson', 'invas', 'lengthi', 'linger', 'luca', 'mail', 'mundan', 'mute', 'parad', 'protest', 'repli', 'rex', 'roommat', 'saga', 'simplic', 'surpass', 'trashi', 'under', 'versus', 'vice', 'victori', 'acid', 'alongsid', 'astound', 'betti', 'boom', 'bubbl', 'bump', 'crucial', 'dian', 'distinguish', 'dysfunct', 'econom', 'elect', 'enlighten', 'eva', 'exceed', 'exit', 'giggl', 'grotesqu', 'harvey', 'inher', 'irrelev', 'profan', 'recruit', 'revolt', 'topless', 'troop', 'undeni', 'vocal', 'arc', 'bay', 'dement', 'dreari', 'employe', 'en', 'engross', 'exquisit', 'fever', 'glanc', 'ha', 'hop', 'inject', 'jonathan', 'lure', 'maid', 'marin', 'museum', 'nostalgia', 'oppress', 'oz', 'patriot', 'profess', 'rant', 'raymond', 'recognis', 'region', 'spike', 'spoke', 'substitut', 'thru', 'virus', 'warmth', 'bleed', 'blunt', 'breed', 'emphas', 'gimmick', 'likewis', 'marshal', 'nephew', 'newli', 'nineti', 'pirat', 'porno', 'stale', 'tail', 'taught', 'unorigin', 'waitress', 'wheel', 'worn', 'audit', 'backward', 'branagh', 'campaign', 'eastwood', 'eaten', 'er', 'ethnic', 'flee', 'gestur', 'greedi', 'incorpor', 'jake', 'occupi', 'provoc', 'reev', 'ridden', 'rude', 'simultan', 'stake', 'trend', 'vein', 'vital', 'wisdom', 'wrench', 'approv', 'attorney', 'calib', 'cent', 'chicago', 'cia', 'clone', 'condemn', 'drift', 'empathi', 'fay', 'feminist', 'gray', 'greek', 'helpless', 'hum', 'judi', 'nerd', 'pervers', 'phoni', 'pink', 'priceless', 'profit', 'reson', 'restrain', 'ritter', 'travesti', 'unimagin', 'volum', 'whine', 'abc', 'analysi', 'barrel', 'bowl', 'burton', 'cari', 'climat', 'craven', 'edgar', 'gambl', 'indiffer', 'kay', 'kennedi', 'literatur', 'lush', 'mistress', 'monologu', 'morbid', 'mortal', 'myth', 'robberi', 'sucker', 'testament', 'unsatisfi', 'vengeanc', 'what', 'woo', 'wretch', 'yawn', 'absent', 'accuraci', 'amanda', 'arnold', 'carl', 'christi', 'compromis', 'demis', 'doc', 'farmer', 'hamilton', 'heal', 'immigr', 'kingdom', 'lili', 'loyalti', 'mighti', 'minimum', 'monk', 'nicholson', 'passabl', 'patienc', 'perceiv', 'poetri', 'ponder', 'psychic', 'rick', 'rout', 'sensat', 'shaki', 'shameless', 'shoddi', 'shove', 'unawar', 'unravel', 'abomin', 'blake', 'coloni', 'contradict', 'crawl', 'deceas', 'eastern', 'edgi', 'enthusiasm', 'fleet', 'interior', 'junior', 'labor', 'margaret', 'mickey', 'neo', 'onlin', 'paranoia', 'perpetu', 'petti', 'pocket', 'preserv', 'prey', 'primit', 'purpl', 'ranger', 'realm', 'romero', 'roof', 'rope', 'samurai', 'seldom', 'session', 'showdown', 'stroke', 'uncov', 'wallac', 'wig', 'bend', 'blah', 'chicken', 'conduct', 'dawson', 'derang', 'despis', 'dreck', 'exposit', 'exposur', 'heel', 'improvis', 'judgment', 'nichola', 'pervert', 'pretens', 'robinson', 'shelley', 'spider', 'sunshin', 'sweep', 'taxi', 'tiger', 'trait', 'traumat', 'tube', 'unleash', 'valley', 'verbal', 'wholli', 'whoopi', 'awhil', 'baddi', 'critiqu', 'culmin', 'darn', 'degrad', 'delic', 'descent', 'divid', 'et', 'exclus', 'furious', 'grandfath', 'infect', 'keen', 'minus', 'mtv', 'orang', 'pale', 'rehash', 'schedul', 'sicken', 'sue', 'sustain', 'tourist', 'alarm', 'behold', 'biographi', 'bow', 'brando', 'businessman', 'butler', 'cd', 'charlott', 'cole', 'cream', 'crippl', 'cube', 'delv', 'dim', 'drove', 'duck', 'exhaust', 'flair', 'heston', 'inabl', 'ish', 'lacklust', 'mankind', 'mutant', 'nyc', 'preposter', 'roller', 'rubber', 'scriptwrit', 'suffici', 'tacki', 'temper', 'tribe', 'valid', 'voyag', 'aesthet', 'baffl', 'brooklyn', 'chronicl', 'cuba', 'dentist', 'disord', 'distress', 'entranc', 'femm', 'glare', 'greed', 'hackney', 'hal', 'im', 'jewel', 'linda', 'lugosi', 'monoton', 'newcom', 'norman', 'outlin', 'passag', 'radic', 'ritual', 'sandler', 'straightforward', 'superhero', 'surf', 'tarzan', 'teas', 'tech', 'tripe', 'warrant', 'april', 'bo', 'bradi', 'cloud', 'coast', 'cooki', 'dirt', 'freez', 'harmless', 'hello', 'hung', 'ireland', 'jew', 'liberti', 'lurk', 'mode', 'oblig', 'peril', 'rear', 'recogniz', 'represent', 'ruth', 'scotland', 'statu', 'tendenc', 'widmark', 'agenda', 'akshay', 'apt', 'choppi', 'clash', 'crown', 'dictat', 'enterpris', 'enthral', 'farrel', 'fought', 'fundament', 'graham', 'guitar', 'hypnot', 'ie', 'implic', 'impos', 'improb', 'ingeni', 'insur', 'jacket', 'leonard', 'maggi', 'map', 'millionair', 'muslim', 'natali', 'norm', 'painter', 'pearl', 'prequel', 'programm', 'regist', 'reliabl', 'richardson', 'shortcom', 'twilight', 'victoria', 'weav', 'abort', 'behaviour', 'brit', 'cannon', 'cg', 'characteris', 'cinderella', 'click', 'couch', 'counterpart', 'coward', 'distort', 'dutch', 'duval', 'ellen', 'enforc', 'faint', 'filler', 'florida', 'greg', 'hungri', 'insipid', 'mall', 'predat', 'propos', 'rampag', 'restrict', 'rhythm', 'rider', 'shootout', 'skeptic', 'smell', 'spiral', 'steadi', 'transcend', 'underneath', 'variat', 'vomit', 'abund', 'atroc', 'berlin', 'brenda', 'censor', 'chainsaw', 'clueless', 'crystal', 'dave', 'debt', 'del', 'delet', 'disastr', 'entitl', 'financ', 'fisher', 'gentleman', 'graini', 'grin', 'hallucin', 'heartfelt', 'immers', 'injuri', 'invad', 'joey', 'karen', 'kubrick', 'latin', 'literari', 'loneli', 'moreov', 'orson', 'out', 'palac', 'rub', 'scottish', 'septemb', 'speci', 'sublim', 'sugar', 'suspicion', 'tarantino', 'tasteless', 'unseen', 'youngest', 'acquaint', 'amazon', 'angst', 'beatti', 'bever', 'blackmail', 'brood', 'cap', 'champion', 'colonel', 'convert', 'cruelti', 'decept', 'disabl', 'donna', 'earnest', 'exterior', 'fart', 'frankenstein', 'hammi', 'june', 'mayhem', 'misguid', 'myer', 'net', 'overlong', 'paradis', 'perri', 'pole', 'proport', 'rapist', 'redund', 'setup', 'spain', 'spontan', 'virginia', 'yearn', 'abraham', 'agenc', 'bent', 'camcord', 'cigarett', 'conscienc', 'contempt', 'ethan', 'fabric', 'fog', 'fright', 'geek', 'grief', 'hay', 'headach', 'heap', 'hokey', 'incorrect', 'intric', 'lang', 'laurenc', 'legaci', 'molli', 'ninja', 'obligatori', 'rabbit', 'reign', 'scar', 'secondari', 'shatter', 'shell', 'skull', 'slam', 'spice', 'standout', 'steer', 'stream', 'sung', 'suprem', 'swedish', 'tactic', 'vain', 'worship', 'ww', 'alley', 'analyz', 'bounc', 'chorus', 'claus', 'coaster', 'cusack', 'dilemma', 'dracula', 'drip', 'effici', 'effortless', 'enabl', 'falk', 'franci', 'gasp', 'horn', 'immatur', 'josh', 'loath', 'mm', 'perman', 'preced', 'runner', 'shirley', 'snl', 'sooner', 'tick', 'virtu', 'arab', 'bewar', 'bike', 'bloom', 'bunni', 'discern', 'dismal', 'egg', 'feat', 'flirt', 'fonda', 'frantic', 'fuel', 'griffith', 'grudg', 'hart', 'justin', 'keith', 'lemmon', 'leon', 'lou', 'maci', 'margin', 'matthau', 'modest', 'mon', 'oldest', 'overt', 'phantom', 'repris', 'ross', 'rubi', 'sand', 'seller', 'shred', 'slimi', 'someday', 'stimul', 'strongest', 'tax', 'technicolor', 'todd', 'tomorrow', 'viewpoint', 'voight', 'weather', 'amor', 'antagonist', 'ashley', 'athlet', 'clerk', 'departur', 'despic', 'earl', 'flashi', 'fragil', 'ginger', 'inflict', 'instruct', 'iraq', 'kirk', 'leo', 'li', 'miracul', 'muscl', 'obstacl', 'olivi', 'pamela', 'persuad', 'phenomenon', 'preachi', 'proclaim', 'recit', 'rehears', 'remad', 'rumor', 'spree', 'stiller', 'sweat', 'triangl', 'trigger', 'tunnel', 'tyler', 'vibrant', 'wax', 'wield', 'akin', 'anxious', 'bernard', 'boxer', 'cancer', 'claustrophob', 'dwarf', 'elit', 'estrang', 'fluff', 'flynn', 'foil', 'goof', 'hamlet', 'hapless', 'hilar', 'idol', 'info', 'injur', 'macho', 'moder', 'mutual', 'narrow', 'off', 'owen', 'peer', 'policeman', 'rifl', 'rot', 'scandal', 'schlock', 'seedi', 'shorter', 'squad', 'sunni', 'swept', 'underworld', 'unexplain', 'alec', 'aris', 'bergman', 'brush', 'buzz', 'cartoonish', 'clad', 'comprehend', 'cow', 'deem', 'dish', 'disregard', 'drake', 'duel', 'emperor', 'energet', 'enlist', 'heist', 'hopper', 'khan', 'lampoon', 'legitim', 'les', 'paltrow', 'passeng', 'phil', 'psych', 'quinn', 'resum', 'rosemari', 'sailor', 'seed', 'sensual', 'smack', 'soprano', 'stack', 'stair', 'static', 'trivia', 'uh', 'watcher', 'widescreen', 'archiv', 'artsi', 'asylum', 'banter', 'bulk', 'carrey', 'compris', 'conquer', 'damon', 'deaf', 'durat', 'facil', 'flag', 'flavor', 'heartwarm', 'housewif', 'hyde', 'lavish', 'marc', 'mario', 'meryl', 'misfortun', 'mount', 'nemesi', 'neurot', 'newer', 'niro', 'orphan', 'phenomen', 'polici', 'retriev', 'russia', 'spawn', 'stanwyck', 'submit', 'traffic', 'unsuspect', 'vile', 'wardrob', 'www', 'abound', 'ace', 'angela', 'assert', 'bela', 'campbel', 'circus', 'dame', 'dvds', 'el', 'fluid', 'globe', 'glorifi', 'healthi', 'lectur', 'lighter', 'madonna', 'monument', 'northern', 'outright', 'prank', 'rhyme', 'senior', 'soup', 'spine', 'stalker', 'streep', 'strive', 'vaniti', 'appl', 'articl', 'austin', 'basketbal', 'belli', 'bros', 'btw', 'comprehens', 'congratul', 'cycl', 'dee', 'divin', 'dont', 'down', 'electron', 'eugen', 'feast', 'greet', 'hug', 'jade', 'joel', 'kapoor', 'linear', 'luxuri', 'mann', 'minist', 'morri', 'mytholog', 'naughti', 'nicol', 'orchestr', 'outlaw', 'poem', 'pronounc', 'ps', 'redneck', 'replay', 'sacrif', 'se', 'seal', 'sorrow', 'substanti', 'subt', 'summar', 'tack', 'token', 'uncut', 'undermin', 'vet', 'visitor', 'whore', 'airport', 'aristocrat', 'assort', 'axe', 'bastard', 'bean', 'bitten', 'breakdown', 'breakfast', 'candl', 'cerebr', 'claud', 'crisp', 'daisi', 'diari', 'dylan', 'elm', 'embark', 'epitom', 'fifth', 'forgiven', 'frontal', 'groan', 'helm', 'herring', 'holocaust', 'hooker', 'howl', 'inclus', 'knee', 'laurel', 'lifeless', 'louis', 'messi', 'murray', 'nauseat', 'occup', 'omin', 'orlean', 'outdat', 'penn', 'penni', 'plate', 'sergeant', 'spectacl', 'spill', 'stuart', 'stud', 'thompson', 'toe', 'turd', 'verg', 'weari', 'zoom', 'asset', 'bake', 'blur', 'boll', 'boo', 'boob', 'brosnan', 'churn', 'distributor', 'downey', 'dubious', 'ebert', 'feminin', 'glu', 'highway', 'hoot', 'horni', 'http', 'hurri', 'jan', 'karl', 'leigh', 'meal', 'monti', 'nicola', 'niec', 'ol', 'pc', 'peculiar', 'prophet', 'pump', 'ram', 'roth', 'soccer', 'trauma', 'artwork', 'constitut', 'curtain', 'da', 'decapit', 'detach', 'eli', 'elvi', 'embodi', 'fenc', 'furi', 'inaccur', 'incarn', 'insecur', 'jam', 'jenni', 'landmark', 'lauren', 'longest', 'mobster', 'nope', 'optimist', 'paramount', 'profil', 'rack', 'rambo', 'salt', 'sarcast', 'scariest', 'sheet', 'signal', 'sleaz', 'snatch', 'sparkl', 'stardom', 'starter', 'subtext', 'suburban', 'surgeri', 'tenant', 'toronto', 'turmoil', 'unattract', 'underwear', 'watson', 'whale', 'anchor', 'anyhow', 'bachelor', 'beard', 'boston', 'bucket', 'carradin', 'ceremoni', 'choke', 'classi', 'client', 'cohes', 'comeback', 'conneri', 'contend', 'coup', 'crow', 'dicken', 'entireti', 'esquir', 'grass', 'gregori', 'hi', 'historian', 'hostil', 'illus', 'incap', 'kiddi', 'laden', 'mayor', 'misunderstand', 'oppon', 'pacif', 'puppi', 'realize', 'revisit', 'roar', 'sassi', 'shield', 'smug', 'stagger', 'tooth', 'trivial', 'unsur', 'walt', 'weaker', 'adjust', 'baldwin', 'ballet', 'brick', 'calcul', 'chat', 'chip', 'clan', 'collector', 'columbo', 'corn', 'dwell', 'expedit', 'flood', 'foundat', 'gabriel', 'glove', 'growth', 'han', 'harold', 'hostag', 'imprison', 'infinit', 'intrus', 'israel', 'jealousi', 'joint', 'kansa', 'lui', 'lunch', 'marlon', 'meg', 'melodi', 'mobil', 'monitor', 'nun', 'offbeat', 'overshadow', 'phase', 'playboy', 'raini', 'randi', 'rebelli', 'reinforc', 'request', 'rita', 'rod', 'shave', 'shaw', 'shelter', 'sought', 'thrust', 'uwe', 'arrow', 'arti', 'barrymor', 'bikini', 'brat', 'charlton', 'classifi', 'corman', 'dana', 'diana', 'diminish', 'evolut', 'franco', 'hail', 'id', 'ideolog', 'inaccuraci', 'leather', 'martian', 'meyer', 'montana', 'necess', 'netflix', 'ordeal', 'overblown', 'patricia', 'patron', 'pedestrian', 'resent', 'salvag', 'sandra', 'spade', 'spout', 'spray', 'squeez', 'stylist', 'ugh', 'vintag', 'youtub', 'asia', 'avid', 'bravo', 'canyon', 'cheapli', 'clinic', 'deterior', 'drone', 'ethic', 'filter', 'gig', 'guardian', 'harrison', 'havoc', 'honour', 'hopkin', 'hybrid', 'imo', 'inch', 'inclin', 'lethal', 'lightn', 'likeabl', 'lunat', 'mentor', 'mummi', 'mutil', 'newman', 'odyssey', 'opt', 'pepper', 'pete', 'pioneer', 'poet', 'rerun', 'rewrit', 'robber', 'shotgun', 'sleepwalk', 'spacey', 'starv', 'styliz', 'taboo', 'tomato', 'unconsci', 'whini', 'wine', 'wtf', 'aimless', 'altman', 'biblic', 'blink', 'blossom', 'boggl', 'brow', 'casino', 'crop', 'daylight', 'digest', 'fascist', 'feebl', 'filthi', 'flimsi', 'freaki', 'galleri', 'genet', 'godzilla', 'goodby', 'grind', 'handicap', 'impecc', 'kumar', 'lace', 'mythic', 'nathan', 'nightclub', 'novelti', 'peck', 'plug', 'raid', 'sack', 'saddl', 'seagal', 'simmon', 'stan', 'stray', 'themat', 'thiev', 'transplant', 'undead', 'unsympathet', 'upsid', 'verdict', 'vibe', 'warp', 'whack', 'anguish', 'antonio', 'anytim', 'arous', 'biker', 'blaze', 'boyl', 'brainless', 'bread', 'carey', 'cbs', 'complement', 'conan', 'crocodil', 'deer', 'der', 'disciplin', 'disrespect', 'doo', 'download', 'dumber', 'eleven', 'eras', 'fetish', 'gerard', 'graveyard', 'hallmark', 'jersey', 'juri', 'ladder', 'licens', 'limb', 'macabr', 'merciless', 'misfit', 'motorcycl', 'mug', 'obscen', 'paxton', 'paycheck', 'perpetr', 'potent', 'psychologist', 'readili', 'ripoff', 'robbin', 'rome', 'rug', 'satisfact', 'sharon', 'skinni', 'stoog', 'stuf', 'verhoeven', 'versatil', 'vignett', 'violat', 'void', 'walsh', 'worm', 'yep', 'zane', 'aftermath', 'allur', 'andr', 'antholog', 'attenborough', 'buster', 'christin', 'christina', 'civilian', 'coffin', 'colin', 'concoct', 'cram', 'crave', 'damm', 'degener', 'dodg', 'draft', 'fierc', 'fulci', 'furnitur', 'giallo', 'heighten', 'inadvert', 'intertwin', 'mason', 'potter', 'privileg', 'python', 'quentin', 'reliev', 'righteous', 'shrink', 'sigh', 'sixth', 'stanc', 'superstar', 'torch', 'victorian', 'wider', 'youngster', 'abduct', 'audrey', 'august', 'austen', 'auto', 'bacal', 'barn', 'belushi', 'bruno', 'capac', 'cater', 'cherish', 'coke', 'drab', 'dudley', 'enigmat', 'evalu', 'eyebrow', 'eyr', 'filth', 'fuzzi', 'gaze', 'gilbert', 'harrow', 'herd', 'holli', 'hound', 'inmat', 'intro', 'martha', 'medicin', 'michel', 'mourn', 'mum', 'noteworthi', 'palm', 'patch', 'patho', 'pivot', 'prevail', 'prospect', 'retrospect', 'sour', 'speaker', 'splash', 'stripper', 'suppress', 'textur', 'agoni', 'amidst', 'amitabh', 'ant', 'artistri', 'bate', 'begun', 'bliss', 'boost', 'burden', 'carlo', 'carnag', 'catastroph', 'cattl', 'closeup', 'creek', 'dalton', 'deniro', 'dispatch', 'errol', 'fishburn', 'franki', 'frenzi', 'gigant', 'hardship', 'hick', 'hyper', 'impuls', 'indiana', 'insomnia', 'intoler', 'juliet', 'karat', 'lincoln', 'lindsay', 'logan', 'manufactur', 'meantim', 'miranda', 'omen', 'outlandish', 'overboard', 'pauli', 'porter', 'prom', 'pros', 'quintessenti', 'radiat', 'razor', 'reek', 'ronald', 'rooki', 'sid', 'simul', 'slim', 'sober', 'tide', 'transpar', 'um', 'unnatur', 'alot', 'approxim', 'bacon', 'bittersweet', 'boundari', 'bourn', 'bum', 'burnt', 'cecil', 'chore', 'clunki', 'corridor', 'counti', 'deft', 'denouement', 'drill', 'dumbest', 'dustin', 'entic', 'equat', 'exorcist', 'felix', 'fiend', 'galaxi', 'goldblum', 'harass', 'hmmm', 'idealist', 'ing', 'innuendo', 'jodi', 'jordan', 'judd', 'juliett', 'kyle', 'las', 'liam', 'marion', 'mart', 'masterson', 'mclaglen', 'melissa', 'midst', 'molest', 'momentum', 'nbc', 'overbear', 'payoff', 'pixar', 'poker', 'quasi', 'scarc', 'screwbal', 'seymour', 'sissi', 'slut', 'spinal', 'spotlight', 'stallon', 'sunset', 'unansw', 'uncanni', 'unforgiv', 'vinc', 'volunt', 'ach', 'aussi', 'bait', 'booth', 'cagney', 'collar', 'connor', 'conrad', 'courtroom', 'cun', 'deputi', 'distast', 'drastic', 'eh', 'eyebal', 'fabl', 'fruit', 'ghetto', 'hmm', 'in', 'intact', 'jacqu', 'kline', 'manifest', 'masturb', 'miami', 'nightmarish', 'novelist', 'paranoid', 'platform', 'playwright', 'polar', 'quaid', 'rag', 'ramon', 'regain', 'restraint', 'roam', 'runaway', 'spencer', 'spew', 'stern', 'strangl', 'syndrom', 'tcm', 'therapi', 'tripl', 'understat', 'wholesom', 'affirm', 'astronaut', 'auteur', 'basing', 'bio', 'bondag', 'bout', 'cann', 'chemic', 'chock', 'classmat', 'courtesi', 'debra', 'deck', 'delay', 'disco', 'district', 'elvira', 'extract', 'factual', 'faux', 'feder', 'foremost', 'frontier', 'gibson', 'gosh', 'harden', 'imaginari', 'injustic', 'insect', 'inter', 'len', 'loi', 'magician', 'marilyn', 'medit', 'misunderstood', 'muppet', 'mutat', 'neighbour', 'nutshel', 'oblivi', 'outdoor', 'overus', 'pipe', 'poe', 'psychedel', 'reckless', 'reid', 'reincarn', 'rochest', 'sarcasm', 'scan', 'scifi', 'shanghai', 'swift', 'temptat', 'tobi', 'tokyo', 'unclear', 'undertak', 'underton', 'unsuccess', 'upcom', 'vanessa', 'vault', 'venom', 'versa', 'wendi', 'wheelchair', 'ampl', 'anxieti', 'apocalypt', 'array', 'ash', 'biopic', 'bori', 'branch', 'careless', 'ceil', 'chaotic', 'chess', 'cliffhang', 'clooney', 'compuls', 'crawford', 'cum', 'deprav', 'dj', 'duh', 'envelop', 'essay', 'flamboy', 'gentlemen', 'gloss', 'goodi', 'harbor', 'hulk', 'insignific', 'iq', 'iv', 'karloff', 'kathi', 'loner', 'loop', 'lumet', 'malon', 'mama', 'mediev', 'meek', 'mick', 'mumbl', 'orgi', 'overton', 'palanc', 'persist', 'ranch', 'remaind', 'rever', 'romeo', 'rous', 'salesman', 'sang', 'scatter', 'sf', 'sli', 'slower', 'snuff', 'sophi', 'sophomor', 'spaghetti', 'spear', 'splice', 'spoon', 'strung', 'surrend', 'sway', 'sync', 'thelma', 'tho', 'thunder', 'tit', 'truman', 'underwat', 'uneasi', 'unfamiliar', 'unstabl', 'administr', 'admiss', 'anonym', 'apocalyps', 'archetyp', 'bald', 'battlefield', 'bimbo', 'bogart', 'cab', 'cameraman', 'can', 'caretak', 'cassidi', 'cocktail', 'collin', 'coma', 'compound', 'conceal', 'crank', 'dalla', 'denis', 'elicit', 'exud', 'flock', 'forrest', 'fraud', 'gina', 'gloomi', 'gunfight', 'herbert', 'homer', 'horizon', 'huston', 'iren', 'joker', 'jose', 'journal', 'kathryn', 'kent', 'lamb', 'limp', 'mccoy', 'merri', 'mice', 'miik', 'misfir', 'missil', 'moan', 'neill', 'nina', 'ny', 'pollut', 'prolong', 'propheci', 'salvat', 'samuel', 'sap', 'scarecrow', 'slug', 'spaceship', 'stitch', 'subdu', 'subway', 'tailor', 'tara', 'taut', 'unconvent', 'unimpress', 'unnerv', 'vigilant', 'wang', 'witchcraft', 'wrestler', 'abstract', 'adrian', 'alicia', 'assumpt', 'astair', 'awri', 'beatl', 'butch', 'campus', 'casablanca', 'ceas', 'cemeteri', 'championship', 'closur', 'columbia', 'comb', 'constraint', 'cur', 'diner', 'earliest', 'enact', 'endeavor', 'escal', 'fragment', 'gloria', 'grandma', 'halt', 'incest', 'iran', 'irresist', 'juan', 'judgement', 'juic', 'justif', 'kitti', 'knightley', 'legion', 'lung', 'mash', 'meteor', 'morph', 'mustach', 'occurr', 'ooz', 'ostens', 'paragraph', 'penelop', 'perplex', 'pizza', 'plead', 'randolph', 'saniti', 'scoobi', 'scrape', 'senat', 'shore', 'skeleton', 'skirt', 'suav', 'surgeon', 'sydney', 'tattoo', 'therebi', 'troma', 'unapp', 'videotap', 'whisper', 'agon', 'allianc', 'armstrong', 'beforehand', 'bewild', 'bonni', 'bye', 'cape', 'chronolog', 'clariti', 'clive', 'decay', 'divis', 'downfal', 'dreami', 'edi', 'elliott', 'erupt', 'ferri', 'filmographi', 'flourish', 'frog', 'frozen', 'futil', 'gadget', 'georgia', 'ghast', 'glossi', 'goat', 'griev', 'gypsi', 'hepburn', 'hitch', 'imho', 'inhuman', 'interrog', 'joli', 'julian', 'laboratori', 'lauri', 'lena', 'letdown', 'lighten', 'loy', 'magnet', 'manic', 'masochist', 'melancholi', 'mermaid', 'murki', 'nolan', 'nolt', 'otto', 'pierr', 'polli', 'puke', 'quaint', 'quirk', 'rampant', 'raven', 'ravish', 'rebellion', 'riddl', 'rogu', 'rooney', 'rupert', 'samantha', 'sampl', 'sane', 'scroog', 'shepherd', 'shocker', 'sidewalk', 'slum', 'sniper', 'snippet', 'spous', 'stapl', 'stubborn', 'sundanc', 'swell', 'titular', 'unemploy', 'unnecessarili', 'unwil', 'vapid', 'wartim', 'wee', 'wherev', 'whimsic', 'wisecrack', 'affleck', 'atlanti', 'bakshi', 'bicker', 'billion', 'blob', 'bogus', 'brawl', 'burk', 'caper', 'carpet', 'caution', 'chamber', 'circa', 'claw', 'commando', 'contin', 'coolest', 'darl', 'demeanor', 'dip', 'domino', 'euro', 'fodder', 'fuller', 'garag', 'garland', 'headlin', 'heath', 'incestu', 'infest', 'kurosawa', 'lad', 'longoria', 'masculin', 'maximum', 'mega', 'melvyn', 'miniseri', 'mold', 'moss', 'motif', 'moviego', 'orchestra', 'passiv', 'patti', 'pornograph', 'posey', 'prologu', 'propel', 'recept', 'regim', 'rene', 'repel', 'republ', 'rivalri', 'seamless', 'semblanc', 'sexist', 'shelv', 'signatur', 'sleeper', 'sleev', 'smuggl', 'sob', 'straw', 'streisand', 'trooper', 'upbeat', 'vcr', 'weirdo', 'wright', 'alison', 'ambianc', 'appoint', 'atlant', 'bauer', 'biolog', 'booz', 'botch', 'bounti', 'censorship', 'compil', 'crumbl', 'cuban', 'danish', 'deliri', 'desol', 'diabol', 'dissolv', 'doug', 'downward', 'drawback', 'dunn', 'esteem', 'foreshadow', 'grayson', 'gwyneth', 'hallway', 'hater', 'helmet', 'hindi', 'hometown', 'impend', 'jock', 'junki', 'keeper', 'korea', 'laps', 'lester', 'lurid', 'mae', 'marisa', 'moe', 'mud', 'nest', 'novak', 'optim', 'outset', 'pistol', 'placement', 'prone', 'pub', 'raunchi', 'reckon', 'repair', 'retreat', 'robbi', 'sabotag', 'sail', 'saloon', 'sammi', 'scoop', 'shriek', 'singular', 'sock', 'spectat', 'sterl', 'strap', 'streak', 'succumb', 'sunk', 'tissu', 'tramp', 'weep', 'woefulli', 'wong', 'ancestor', 'arkin', 'balloon', 'beam', 'bloke', 'bog', 'bridget', 'brink', 'conjur', 'deceiv', 'deepest', 'deliver', 'desk', 'dizzi', 'dock', 'dolph', 'dope', 'dynamit', 'economi', 'envi', 'ernest', 'escort', 'espionag', 'fold', 'forum', 'franklin', 'hara', 'heir', 'idioci', 'imperi', 'infant', 'influenti', 'interspers', 'intimid', 'kathleen', 'lament', 'lap', 'lightheart', 'lionel', 'lizard', 'log', 'madman', 'maureen', 'midget', 'neutral', 'occult', 'outburst', 'palma', 'peek', 'pill', 'pimp', 'polanski', 'pompous', 'port', 'recur', 'republican', 'rewind', 'rice', 'ritchi', 'scam', 'seattl', 'specul', 'sponsor', 'stem', 'stephani', 'submarin', 'suburb', 'sweetheart', 'uncertain', 'upstair', 'valentin', 'voodoo', 'warden', 'warehous', 'wesley', 'wreak', 'wrist', 'yarn', 'yorker', 'advers', 'allus', 'arch', 'architectur', 'attain', 'aura', 'bee', 'bitchi', 'bronson', 'burial', 'busey', 'chamberlain', 'chant', 'che', 'choir', 'clara', 'clay', 'conceit', 'condescend', 'crusad', 'curri', 'cush', 'cyborg', 'daytim', 'decemb', 'decenc', 'des', 'digress', 'disdain', 'dodgi', 'donat', 'du', 'dungeon', 'egypt', 'email', 'evan', 'everett', 'existenti', 'facet', 'fairbank', 'feather', 'ferrel', 'fiasco', 'fieri', 'flush', 'forebod', 'gee', 'gielgud', 'groom', 'gunshot', 'hannah', 'harmoni', 'henchman', 'hijack', 'hk', 'honeymoon', 'hostel', 'ici', 'inexperienc', 'ingenu', 'ingrid', 'interlud', 'intrud', 'ira', 'jare', 'jude', 'laser', 'liar', 'liu', 'lo', 'maiden', 'mcdonald', 'olymp', 'omar', 'pee', 'pond', 'prayer', 'predica', 'preming', 'presidenti', 'purs', 'raider', 'rail', 'reform', 'refuge', 'retel', 'ricki', 'riff', 'rocker', 'rowland', 'russ', 'satur', 'sgt', 'shack', 'shambl', 'sheen', 'sheep', 'shepard', 'shudder', 'slaveri', 'sleepi', 'slept', 'sophia', 'squander', 'stamp', 'standpoint', 'stomp', 'stricken', 'telegraph', 'thereof', 'thorn', 'titil', 'underdevelop', 'undergo', 'uptight', 'viscer', 'yank', 'adrenalin', 'allud', 'angelina', 'angi', 'barker', 'bing', 'biograph', 'breathless', 'carmen', 'chocol', 'compassion', 'conniv', 'crosbi', 'cutter', 'dandi', 'data', 'denial', 'detroit', 'devis', 'devour', 'dot', 'downbeat', 'drool', 'emmi', 'environment', 'forsyth', 'fort', 'fuss', 'goon', 'graviti', 'groundbreak', 'gruff', 'gus', 'hairstyl', 'hartley', 'herman', 'hypocrit', 'immor', 'incess', 'interplay', 'jerki', 'jumbl', 'kidman', 'lick', 'luka', 'marti', 'maverick', 'meadow', 'memoir', 'meredith', 'misogynist', 'monday', 'monstrous', 'nearest', 'ongo', 'overwrought', 'permit', 'pornographi', 'preacher', 'preston', 'procedur', 'recaptur', 'rework', 'sarandon', 'scarier', 'sentinel', 'sprinkl', 'stile', 'superflu', 'sweden', 'tasti', 'thereaft', 'tomb', 'tribul', 'uma', 'vow', 'wonderland', 'aboard', 'amid', 'anil', 'applaus', 'atom', 'autobiographi', 'bandit', 'beckinsal', 'bolt', 'boyer', 'breakthrough', 'chunk', 'clutch', 'cockney', 'cohen', 'coincident', 'conquest', 'corey', 'damsel', 'deborah', 'dopey', 'dori', 'electrocut', 'erni', 'extraordinarili', 'exuber', 'fidel', 'fritz', 'fur', 'geni', 'grader', 'grinch', 'grossli', 'guinea', 'gusto', 'hackman', 'hale', 'handi', 'harp', 'harvest', 'hillbilli', 'hooper', 'hunki', 'illumin', 'interfer', 'iranian', 'irv', 'isra', 'jo', 'jule', 'kinnear', 'labour', 'lex', 'logo', 'lola', 'lucill', 'macdonald', 'mauric', 'meter', 'millennium', 'mindset', 'misti', 'mitchum', 'mockeri', 'nomine', 'nonexist', 'notwithstand', 'oblivion', 'oddbal', 'organis', 'outcast', 'parrot', 'patent', 'persuas', 'pic', 'prolif', 'prototyp', 'punctuat', 'rea', 'recip', 'relish', 'retro', 'russo', 'shannon', 'shrill', 'slack', 'slot', 'snob', 'spars', 'stalwart', 'sting', 'subvers', 'superl', 'tent', 'tug', 'upbring', 'vanilla', 'vivian', 'voyeur', 'wink', 'wrath', 'abroad', 'allan', 'analog', 'anita', 'antiqu', 'armor', 'astut', 'babbl', 'bach', 'barbarian', 'beef', 'bennett', 'bicycl', 'bid', 'bloodsh', 'brunett', 'buffalo', 'butterfli', 'canon', 'chart', 'darren', 'deconstruct', 'delus', 'democrat', 'dens', 'downsid', 'erika', 'exec', 'fitzgerald', 'flew', 'foe', 'foxx', 'funki', 'gabl', 'gandhi', 'gillian', 'gossip', 'guru', 'hain', 'haircut', 'haphazard', 'happier', 'henchmen', 'hunk', 'implement', 'infuri', 'infus', 'intellect', 'interven', 'jagger', 'janet', 'jolli', 'jolt', 'lightweight', 'looni', 'madelein', 'mandatori', 'minnelli', 'mismatch', 'modesti', 'muscular', 'natasha', 'nerdi', 'northam', 'octob', 'olivia', 'overplay', 'pastor', 'peni', 'pfeiffer', 'plung', 'purport', 'quibbl', 'raj', 'randal', 'ratio', 'refin', 'reliv', 'renaiss', 'renew', 'renown', 'robertson', 'sander', 'sandi', 'scorses', 'sergio', 'shadi', 'shorten', 'snipe', 'stargat', 'supermarket', 'synchron', 'tedium', 'thwart', 'timer', 'tomei', 'traitor', 'urgenc', 'vader', 'val', 'veer', 'vera', 'weigh', 'whistl', 'zani', 'activist', 'angelo', 'articul', 'bachchan', 'ballad', 'basket', 'behalf', 'bodyguard', 'boogi', 'borderlin', 'buffi', 'capitalist', 'carel', 'caron', 'cement', 'cher', 'cindi', 'circuit', 'coal', 'cocain', 'collett', 'crass', 'criticis', 'dant', 'dern', 'dillon', 'dime', 'dwight', 'dyke', 'eater', 'eg', 'empath', 'esther', 'exhilar', 'finney', 'flare', 'footstep', 'gena', 'gladiat', 'golf', 'goodman', 'gorilla', 'gradi', 'gripe', 'grisli', 'grumpi', 'hairi', 'helena', 'hilton', 'histrion', 'holland', 'hord', 'hugo', 'impal', 'infatu', 'infidel', 'instructor', 'irrat', 'irrespons', 'kinki', 'lawn', 'lieuten', 'marathon', 'marx', 'masquerad', 'massey', 'miniatur', 'minion', 'mitch', 'monica', 'mormon', 'negoti', 'nifti', 'omit', 'paraphras', 'patriarch', 'pm', 'postur', 'preval', 'punchlin', 'purist', 'quip', 'reagan', 'rodriguez', 'romantic', 'ronni', 'rosario', 'rosi', 'satisfactori', 'scarfac', 'scarlett', 'schwarzenegg', 'shakespearean', 'smarmi', 'springer', 'squirm', 'stadium', 'starlet', 'statur', 'stella', 'stoop', 'subconsci', 'taunt', 'thespian', 'thurman', 'tierney', 'trim', 'turtl', 'uncredit', 'undercov', 'underscor', 'undeserv', 'vaudevill', 'werewolv', 'woke', 'academ', 'adept', 'alba', 'allegori', 'amok', 'aniston', 'arquett', 'barrier', 'bearabl', 'benjamin', 'benni', 'berkeley', 'bonham', 'brien', 'bront', 'buffoon', 'camper', 'capsul', 'cleaner', 'cloak', 'cocki', 'compon', 'conductor', 'consumm', 'coppola', 'corbin', 'coverag', 'cradl', 'daft', 'deadpan', 'digger', 'disconnect', 'disgruntl', 'dismay', 'disrupt', 'ditch', 'dogma', 'drifter', 'drummer', 'ebay', 'egyptian', 'eloqu', 'evoc', 'extravag', 'fellini', 'fewer', 'frenet', 'fugit', 'glee', 'glenda', 'godard', 'gown', 'hardest', 'harriet', 'hurl', 'hustler', 'inc', 'intermin', 'jurass', 'kingsley', 'kris', 'lar', 'leer', 'liotta', 'loom', 'loretta', 'lt', 'lump', 'madsen', 'marit', 'mcqueen', 'mildr', 'mira', 'miyazaki', 'monro', 'monstros', 'motor', 'myrna', 'na', 'neal', 'nutti', 'orlando', 'palett', 'paula', 'pawn', 'peasant', 'peep', 'penetr', 'penguin', 'phoenix', 'plotlin', 'prosecut', 'puls', 'ralli', 'raptur', 'reconcil', 'refund', 'requisit', 'restless', 'saddest', 'schneider', 'shah', 'shuffl', 'slew', 'snail', 'soak', 'socialist', 'sociopath', 'sporad', 'starship', 'stride', 'swamp', 'sylvia', 'takashi', 'telephon', 'throne', 'toxic', 'transvestit', 'unintellig', 'unlucki', 'unremark', 'unwit', 'vanc', 'vers', 'vinni', 'wagner', 'warhol', 'wondrous', 'woven', 'adulteri', 'adversari', 'aircraft', 'alexandra', 'almighti', 'andrea', 'banana', 'bartend', 'blondel', 'bloodbath', 'bomber', 'brainwash', 'brash', 'braveri', 'burgess', 'capot', 'carrier', 'cheaper', 'chiller', 'clumsili', 'clyde', 'coars', 'communism', 'comrad', 'correspond', 'cramp', 'custodi', 'demean', 'demill', 'discount', 'dispens', 'dom', 'emin', 'encompass', 'eponym', 'expans', 'extern', 'farewel', 'flicker', 'fontain', 'forbid', 'formid', 'frost', 'geoffrey', 'grandpar', 'heartless', 'hitchhik', 'il', 'insuffer', 'introspect', 'irrever', 'jedi', 'jill', 'joyous', 'keyboard', 'knack', 'lara', 'mano', 'mastermind', 'mcdowel', 'metaphys', 'metropoli', 'miner', 'mischiev', 'misplac', 'needl', 'niven', 'novemb', 'odditi', 'operat', 'othello', 'overnight', 'penalti', 'permeat', 'persecut', 'pianist', 'pine', 'policemen', 'proverbi', 'sabrina', 'sacr', 'shini', 'shiver', 'shooter', 'simpler', 'sirk', 'smirk', 'snappi', 'spectrum', 'stepmoth', 'steril', 'strut', 'stupidest', 'teddi', 'temporari', 'tepid', 'thailand', 'theodor', 'throwaway', 'tin', 'trier', 'turgid', 'underlin', 'undevelop', 'undress', 'unfaith', 'unhing', 'untru', 'usag', 'wage', 'witless', 'wrinkl', 'ali', 'amiabl', 'appetit', 'arbitrari', 'backyard', 'barney', 'bass', 'beau', 'beaver', 'brandon', 'brisk', 'busbi', 'carv', 'chloe', 'chong', 'clockwork', 'conni', 'consol', 'cracker', 'crypt', 'curv', 'darkest', 'darth', 'debbi', 'deform', 'demograph', 'depardieu', 'dignifi', 'discard', 'divert', 'downtown', 'dung', 'eagl', 'einstein', 'endors', 'expertis', 'fathom', 'featurett', 'firework', 'formal', 'gamut', 'garbo', 'gard', 'gere', 'goldi', 'grandson', 'guin', 'gum', 'haha', 'hark', 'hispan', 'incom', 'infecti', 'intestin', 'islam', 'jacob', 'janitor', 'januari', 'jenna', 'kirsten', 'knit', 'knive', 'largest', 'latino', 'leak', 'levi', 'litter', 'mac', 'malden', 'marijuana', 'maze', 'medal', 'mister', 'mo', 'motel', 'mpaa', 'muse', 'ne', 'neeson', 'olsen', 'oop', 'ounc', 'outta', 'oversea', 'palpabl', 'payment', 'percent', 'philadelphia', 'promo', 'psychiatr', 'rabid', 'rhys', 'rigid', 'roach', 'romanian', 'runtim', 'rusti', 'seinfeld', 'slate', 'sloan', 'smarter', 'smitten', 'somber', 'speechless', 'stabl', 'summon', 'swiss', 'til', 'tobe', 'transpir', 'trump', 'trumpet', 'typecast', 'underus', 'unnam', 'vacuous', 'vincenzo', 'waist', 'wal', 'worldwid', 'yanke', 'zeta', 'anniversari', 'anton', 'avant', 'backwood', 'balconi', 'bereng', 'berserk', 'brent', 'carniv', 'castro', 'chalk', 'chef', 'chevi', 'consult', 'crummi', 'darken', 'deceit', 'denver', 'devious', 'discrimin', 'disput', 'doyl', 'dunst', 'dupe', 'dusti', 'eal', 'edison', 'elementari', 'emul', 'errat', 'estim', 'exclud', 'exil', 'extinct', 'fend', 'flounder', 'framework', 'garfield', 'gershwin', 'gilliam', 'governor', 'grain', 'grandpa', 'groov', 'guis', 'hatch', 'heather', 'illiter', 'interv', 'izzard', 'je', 'jewelri', 'joanna', 'jumbo', 'keanu', 'lanc', 'ledger', 'lil', 'lopez', 'lotr', 'lynn', 'madison', 'micheal', 'mole', 'muddi', 'narcissist', 'novic', 'onward', 'opus', 'outlook', 'overweight', 'parson', 'pinnacl', 'portman', 'potato', 'pupil', 'putrid', 'quantum', 'radar', 'railroad', 'rainbow', 'rariti', 'recollect', 'remors', 'repertoir', 'sandwich', 'sara', 'scantili', 'scorpion', 'scrap', 'scum', 'sebastian', 'seren', 'serum', 'shadowi', 'shenanigan', 'showgirl', 'showtim', 'shrek', 'sixteen', 'skimpi', 'smallest', 'sneer', 'soderbergh', 'sorvino', 'steami', 'stoic', 'strangest', 'strategi', 'submiss', 'sunris', 'surfer', 'surrealist', 'taint', 'tangl', 'telli', 'tess', 'testimoni', 'textbook', 'thirteen', 'toll', 'tumbl', 'uber', 'uncontrol', 'underwhelm', 'untouch', 'ustinov', 'valeri', 'vaughn', 'veng', 'wagon', 'weaver', 'weed', 'winchest', 'yahoo', 'accentu', 'aggrav', 'airlin', 'anal', 'annual', 'apollo', 'arizona', 'artifact', 'ate', 'attic', 'barbra', 'bark', 'basil', 'boyish', 'brennan', 'britney', 'burrow', 'caf', 'cam', 'cassavet', 'catalog', 'chariti', 'cheung', 'chimp', 'classroom', 'commiss', 'completist', 'condens', 'contamin', 'crouch', 'debacl', 'devilish', 'dine', 'dir', 'disclos', 'diva', 'duchovni', 'dummi', 'duplic', 'entiti', 'envis', 'erotic', 'escapist', 'exemplifi', 'fling', 'frat', 'freed', 'galor', 'gambler', 'gandolfini', 'garcia', 'grenad', 'gretchen', 'groceri', 'hawaii', 'hawn', 'heritag', 'hotti', 'ilk', 'incongru', 'indirect', 'intimaci', 'jeep', 'kati', 'kentucki', 'kinski', 'krueger', 'lent', 'librarian', 'lifelong', 'loren', 'lorr', 'lumber', 'lundgren', 'malevol', 'math', 'merg', 'mishap', 'morgu', 'mors', 'muster', 'napoleon', 'nicknam', 'olli', 'orphanag', 'outbreak', 'pickup', 'poignanc', 'rapper', 'redgrav', 'refrain', 'regrett', 'replic', 'resign', 'rig', 'rko', 'romania', 'sadden', 'satellit', 'scenic', 'seclud', 'seventh', 'sewer', 'shtick', 'shun', 'sieg', 'sleuth', 'snowman', 'soar', 'sordid', 'soulless', 'ss', 'staircas', 'stunk', 'swap', 'swashbuckl', 'talentless', 'tango', 'teller', 'therein', 'timon', 'tina', 'tow', 'trader', 'transmit', 'trendi', 'trot', 'turkish', 'underdog', 'unfinish', 'unjust', 'unrat', 'upward', 'veget', 'veil', 'wan', 'wayan', 'witherspoon', 'wu', 'wwi', 'zealand', 'acrobat', 'advoc', 'affection', 'ajay', 'alvin', 'antonioni', 'archaeologist', 'babysitt', 'ballroom', 'battlestar', 'benson', 'bombast', 'brendan', 'brew', 'brim', 'brothel', 'bruis', 'bryan', 'caesar', 'calibr', 'canva', 'chandler', 'cheerlead', 'chord', 'cigar', 'cite', 'coleman', 'counsel', 'dafo', 'dam', 'defenc', 'democraci', 'dialect', 'diaz', 'diego', 'diet', 'disfigur', 'disservic', 'distraught', 'diver', 'dukaki', 'egotist', 'electrifi', 'elliot', 'elus', 'epidem', 'expressionist', 'extermin', 'fairytal', 'fearless', 'feud', 'fluffi', 'foreground', 'freeli', 'glamour', 'goddess', 'gospel', 'greas', 'growl', 'gung', 'hadley', 'hairdo', 'henderson', 'heterosexu', 'housew', 'hubbi', 'hungarian', 'idl', 'infiltr', 'invari', 'invinc', 'jackass', 'keitel', 'levin', 'liquor', 'locker', 'longtim', 'loot', 'luc', 'luscious', 'masterwork', 'mcadam', 'mccarthi', 'minimalist', 'mistreat', 'nielsen', 'norton', 'notorieti', 'offspr', 'oprah', 'output', 'parasit', 'pardon', 'pbs', 'pegg', 'permiss', 'ploy', 'poo', 'posh', 'pranc', 'prehistor', 'prestigi', 'primal', 'promiscu', 'quicki', 'rebecca', 'recount', 'referenc', 'refug', 'rib', 'riski', 'sardon', 'scholar', 'screech', 'seiz', 'signifi', 'siren', 'slob', 'snowi', 'sonni', 'spook', 'stain', 'stroll', 'sur', 'surrog', 'switzerland', 'theft', 'timberlak', 'toddler', 'toro', 'townspeopl', 'travolta', 'tricki', 'uncertainti', 'uneduc', 'unmistak', 'untal', 'verit', 'viggo', 'vike', 'wallach', 'wallet', 'woeful', 'yike', 'accomplic', 'acquit', 'afterthought', 'apartheid', 'aplomb', 'applic', 'archer', 'architect', 'argento', 'automobil', 'beckham', 'behead', 'bishop', 'brass', 'braveheart', 'brazilian', 'brett', 'byrn', 'carlito', 'carson', 'casualti', 'chavez', 'cheadl', 'childlik', 'christensen', 'collid', 'combo', 'comer', 'coron', 'cos', 'cunningham', 'curl', 'dakota', 'daphn', 'denomin', 'depriv', 'dilut', 'disillus', 'duet', 'dug', 'edith', 'eleanor', 'emil', 'englund', 'enrag', 'erect', 'esqu', 'ether', 'farcic', 'farnsworth', 'farrah', 'foley', 'fore', 'galactica', 'gardner', 'googl', 'grail', 'groovi', 'hottest', 'humphrey', 'hustl', 'hysteria', 'iceberg', 'immun', 'inconsequenti', 'ineffect', 'ir', 'isabell', 'kaufman', 'kazan', 'lecher', 'lib', 'liza', 'lore', 'lucio', 'magnolia', 'maguir', 'majest', 'malcolm', 'misus', 'mommi', 'myriad', 'naval', 'nich', 'nippl', 'olympia', 'overpow', 'palat', 'parisian', 'paz', 'penchant', 'percentag', 'plumb', 'plummer', 'postman', 'predomin', 'pregnanc', 'recap', 'rees', 'reno', 'rom', 'roug', 'rourk', 'rudd', 'salman', 'schtick', 'scrub', 'seuss', 'sherlock', 'shook', 'snore', 'societ', 'sorta', 'spock', 'spur', 'stereo', 'syndic', 'travi', 'ultimatum', 'uncommon', 'underestim', 'unknow', 'velvet', 'villa', 'visionari', 'wallow', 'warfar', 'waterfal', 'willem', 'winger', 'wolv', 'yacht', 'zoo', 'abid', 'abli', 'afghanistan', 'agatha', 'alpha', 'arena', 'atop', 'barr', 'bart', 'barton', 'batter', 'beggar', 'bert', 'bloat', 'boon', 'breez', 'bribe', 'brute', 'byron', 'cafe', 'cassel', 'categor', 'chin', 'chow', 'cillian', 'clunker', 'coen', 'coin', 'committe', 'confeder', 'connolli', 'cypher', 'czech', 'discourag', 'dispar', 'ditto', 'dixon', 'domain', 'duncan', 'effemin', 'elia', 'elisha', 'embezzl', 'endow', 'ewan', 'ewok', 'feisti', 'fictiti', 'fireplac', 'forg', 'furri', 'gape', 'geeki', 'gi', 'granddaught', 'grunt', 'guidanc', 'gullibl', 'gym', 'hamper', 'hayden', 'hayworth', 'heed', 'heiress', 'hindsight', 'hobbi', 'honey', 'hrs', 'idyl', 'imperfect', 'ivori', 'johansson', 'kerri', 'kitten', 'lamp', 'leari', 'liz', 'looney', 'lubitsch', 'mack', 'matin', 'mcdermott', 'mia', 'milo', 'mimic', 'mis', 'misadventur', 'mist', 'nanni', 'naturalist', 'nc', 'nitpick', 'oral', 'orbit', 'outlet', 'ozzi', 'peckinpah', 'peel', 'pertwe', 'picnic', 'picturesqu', 'plea', 'poop', 'pueril', 'radiant', 'raimi', 'ransom', 'reappear', 'regal', 'relic', 'retread', 'ripe', 'rosco', 'savior', 'scorn', 'segal', 'sen', 'sfx', 'shaft', 'shaun', 'shoestr', 'shovel', 'simplest', 'skate', 'slit', 'soften', 'soooo', 'sprawl', 'squeamish', 'sr', 'stow', 'successor', 'syke', 'synthes', 'throwback', 'tighten', 'tighter', 'timid', 'townsfolk', 'trainer', 'tread', 'twentieth', 'unquestion', 'unstopp', 'urin', 'vertigo', 'voter', 'werner', 'wherein', 'whomev', 'wimp', 'winc', 'wiser', 'wobbl', 'wri', 'yuppi', 'aborigin', 'accolad', 'adulthood', 'agreement', 'ail', 'alain', 'alexandr', 'aloof', 'amrita', 'anatomi', 'anthem', 'backbon', 'backstori', 'bathtub', 'bench', 'berri', 'bewitch', 'bigot', 'bind', 'binoch', 'bogdanovich', 'broderick', 'brows', 'callous', 'carnal', 'carolin', 'carr', 'carrol', 'cathi', 'cedric', 'ch', 'cheech', 'clarenc', 'clarifi', 'cock', 'competitor', 'conform', 'conspir', 'consumpt', 'culkin', 'cutout', 'cybil', 'dale', 'delud', 'den', 'denmark', 'deviat', 'dice', 'dickinson', 'didnt', 'din', 'disapprov', 'disinterest', 'dorm', 'dreyfuss', 'emotionless', 'engulf', 'ernst', 'esoter', 'evelyn', 'extravaganza', 'falcon', 'fave', 'fawcett', 'fernando', 'filmic', 'fixat', 'flatter', 'forehead', 'fork', 'fourteen', 'gackt', 'gerald', 'getaway', 'gilligan', 'goth', 'greta', 'grit', 'guerrilla', 'hamburg', 'hamil', 'harlem', 'heartili', 'heroism', 'hes', 'hypocrisi', 'ignit', 'imbecil', 'implant', 'impot', 'indoor', 'inflat', 'inventor', 'ivan', 'jab', 'jameson', 'juici', 'kit', 'leadership', 'lennon', 'lin', 'liquid', 'loan', 'lull', 'machineri', 'malici', 'marcel', 'marvin', 'mastroianni', 'melbourn', 'menu', 'microphon', 'midway', 'mileston', 'moonlight', 'nt', 'outweigh', 'owl', 'paradox', 'perki', 'perkin', 'personifi', 'personnel', 'philipp', 'plaster', 'platoon', 'pokemon', 'pow', 'prematur', 'prioriti', 'probe', 'raft', 'razzi', 'reclus', 'redford', 'reiser', 'rhetor', 'roast', 'robe', 'ruler', 'salut', 'scriptur', 'shawshank', 'sheridan', 'silhouett', 'silverman', 'slant', 'sorceri', 'sox', 'statist', 'sympathis', 'therapist', 'tickl', 'tilt', 'tout', 'troll', 'turbul', 'uncompromis', 'unev', 'vessel', 'violin', 'waterfront', 'whim', 'withstand', 'yea', 'yup', 'zelah', 'adher', 'afflict', 'aisl', 'allig', 'appeas', 'assess', 'avenu', 'barb', 'berat', 'beth', 'bloodthirsti', 'bon', 'boobi', 'bra', 'breezi', 'bulb', 'bunuel', 'buscemi', 'ca', 'caption', 'carefre', 'caribbean', 'casper', 'caucasian', 'chubbi', 'clutter', 'cohort', 'commi', 'concret', 'cooler', 'copyright', 'costello', 'cough', 'criteria', 'crotch', 'cruz', 'culprit', 'dagger', 'delinqu', 'deluis', 'dental', 'deplor', 'di', 'disconcert', 'displeasur', 'doorway', 'doubtless', 'drawer', 'duff', 'easiest', 'ecstasi', 'eldest', 'ella', 'elsa', 'europa', 'evacu', 'excerpt', 'facad', 'fascism', 'fee', 'fido', 'fleme', 'frail', 'frailti', 'freshman', 'fumbl', 'genit', 'geraldin', 'goo', 'grandios', 'gremlin', 'haggard', 'haul', 'hector', 'heyday', 'hilt', 'homework', 'houston', 'ineptitud', 'innat', 'insomniac', 'intercut', 'intox', 'isabel', 'ivi', 'juxtapos', 'kenni', 'kilmer', 'kristofferson', 'labyrinth', 'lam', 'landlord', 'leonardo', 'lest', 'lumin', 'macbeth', 'madam', 'mandi', 'manga', 'manson', 'masteri', 'mercenari', 'merchandis', 'merchant', 'mesh', 'mish', 'mol', 'neon', 'noon', 'nora', 'northwest', 'ohio', 'outdo', 'palestinian', 'panti', 'pastich', 'payn', 'peggi', 'philo', 'pluck', 'poorest', 'pov', 'proposit', 'prowl', 'quotabl', 'reassur', 'rediscov', 'reginald', 'renni', 'revert', 'ripper', 'rizzo', 'roland', 'royalti', 'savvi', 'sceptic', 'schindler', 'shatner', 'shue', 'slutti', 'snicker', 'soil', 'spinster', 'stardust', 'stepfath', 'stoner', 'stutter', 'suffoc', 'tabloid', 'tearjerk', 'thankless', 'theolog', 'thrive', 'toast', 'torso', 'trifl', 'trunk', 'tub', 'vamp', 'vista', 'vogu', 'vu', 'waiter', 'wasteland', 'whoa', 'whodunit', 'willard', 'accommod', 'accustom', 'afterlif', 'aiello', 'akira', 'anecdot', 'ang', 'antwon', 'ark', 'autist', 'autobiograph', 'backstag', 'belgium', 'bemus', 'bethani', 'blais', 'blaxploit', 'bloodless', 'blunder', 'blurri', 'boogeyman', 'brodi', 'bruckheim', 'cassi', 'cleans', 'congress', 'consent', 'coordin', 'copious', 'costar', 'council', 'counterpoint', 'crenna', 'dangl', 'deanna', 'defect', 'differenti', 'dimwit', 'dino', 'discomfort', 'dismemb', 'doze', 'dunno', 'earthquak', 'eclips', 'emmanuell', 'entangl', 'escapad', 'exasper', 'execr', 'femin', 'flap', 'foch', 'foggi', 'folli', 'formul', 'fratern', 'geisha', 'gil', 'govinda', 'graffiti', 'grandeur', 'gunfir', 'gutter', 'guzman', 'gyllenha', 'harlin', 'harmon', 'headlight', 'herald', 'hobgoblin', 'hockey', 'hodg', 'holden', 'hormon', 'impati', 'impressionist', 'intervent', 'intrins', 'jackman', 'katherin', 'keeler', 'kramer', 'lansburi', 'laundri', 'lemon', 'levant', 'lilli', 'liven', 'lurch', 'magnum', 'manhood', 'mc', 'mcintir', 'meticul', 'mime', 'mortensen', 'mumbo', 'muriel', 'mystifi', 'naivet', 'navig', 'nicki', 'overdo', 'pander', 'paulin', 'peg', 'pervas', 'peterson', 'petit', 'phantasm', 'pi', 'pickpocket', 'piper', 'plantat', 'poppin', 'powder', 'powerhous', 'pr', 'puddl', 'rainer', 'rancid', 'rathbon', 'ratso', 'rattl', 'releg', 'renegad', 'reverend', 'richer', 'rodney', 'rotoscop', 'rukh', 'salem', 'scarlet', 'schizophren', 'seth', 'shabbi', 'shaken', 'shawn', 'shelli', 'shrewd', 'slacker', 'slater', 'slay', 'snoop', 'sondra', 'songwrit', 'spoilt', 'stall', 'strangelov', 'sultri', 'superimpos', 'superpow', 'sybil', 'tempest', 'thaw', 'theoret', 'timmi', 'troup', 'tucker', 'tycoon', 'ubiquit', 'undi', 'unlock', 'unpretenti', 'unspeak', 'ursula', 'valiant', 'vent', 'venu', 'vh', 'vic', 'vienna', 'vocabulari', 'vonnegut', 'walli', 'wendigo', 'winslet', 'zoe', 'advert', 'affluent', 'afloat', 'allison', 'amber', 'ambush', 'ariel', 'armageddon', 'arni', 'ax', 'azaria', 'barbar', 'baron', 'belgian', 'bernsen', 'bi', 'bleach', 'bonanza', 'bronx', 'cambodia', 'canal', 'capshaw', 'carbon', 'catalogu', 'cavalri', 'ck', 'cleveland', 'column', 'comatos', 'comedienn', 'confidenti', 'connelli', 'cotton', 'critter', 'croc', 'cuckoo', 'derail', 'detriment', 'devgan', 'devout', 'dexter', 'dial', 'dicaprio', 'dis', 'disarm', 'disk', 'dissect', 'don', 'dorki', 'dreamlik', 'dual', 'dune', 'dye', 'edmund', 'elud', 'embellish', 'englishman', 'everyman', 'excurs', 'falter', 'fella', 'floyd', 'folklor', 'forens', 'franchot', 'freakish', 'freudian', 'fring', 'furnish', 'fuse', 'garish', 'gen', 'geograph', 'gertrud', 'glimmer', 'glue', 'goos', 'greenaway', 'griffin', 'grindhous', 'gunga', 'gymnast', 'heavyweight', 'heinous', 'herein', 'hine', 'homeland', 'homo', 'homophob', 'hoodlum', 'horseback', 'hunger', 'hurrican', 'imbu', 'inadequ', 'incomplet', 'indescrib', 'infantil', 'instil', 'invok', 'ironsid', 'jaff', 'joyc', 'jumpi', 'ka', 'kitsch', 'knox', 'krabb', 'lambert', 'leaden', 'learnt', 'leno', 'lens', 'liaison', 'listless', 'lithgow', 'loach', 'madden', 'mamet', 'mcgregor', 'megan', 'meld', 'mend', 'merril', 'modicum', 'momentarili', 'monasteri', 'mostel', 'mullet', 'multitud', 'nap', 'neglig', 'ness', 'noisi', 'nurtur', 'obsolet', 'omg', 'ott', 'outtak', 'outward', 'panel', 'parabl', 'partnership', 'patrol', 'patton', 'peanut', 'perenni', 'persever', 'pessimist', 'pickford', 'picki', 'pigeon', 'po', 'poni', 'precursor', 'problemat', 'prodigi', 'prowess', 'pullman', 'qualm', 'quantiti', 'radioact', 'reconstruct', 'reload', 'reproduc', 'risqu', 'rotat', 'saccharin', 'sant', 'savini', 'scholarship', 'seasid', 'selma', 'sensate', 'sg', 'shaolin', 'sharpli', 'sho', 'silk', 'skywalk', 'slayer', 'slipper', 'sluggish', 'snack', 'stealth', 'stifl', 'sumptuous', 'swirl', 'sydow', 'techno', 'temperatur', 'testifi', 'thrash', 'tint', 'tranc', 'trey', 'triad', 'tropic', 'tsui', 'tung', 'undercurr', 'underpin', 'uninvolv', 'unnot', 'untim', 'unwant', 'utmost', 'vancouv', 'vigor', 'wade', 'wanda', 'wane', 'wayward', 'wimpi', 'winston', 'wrought', 'yo', 'yr', 'zhang', 'zip', 'aaron', 'abbott', 'abe', 'adulter', 'align', 'amo', 'apprentic', 'archi', 'assail', 'atheist', 'austrian', 'babysit', 'bailey', 'bankrupt', 'barbi', 'barren', 'billboard', 'blain', 'borg', 'breaker', 'brightest', 'brigitt', 'bsg', 'bureaucrat', 'cannibalist', 'cano', 'capt', 'carla', 'catalyst', 'certainti', 'cesar', 'charit', 'chauffeur', 'cherri', 'chile', 'chinatown', 'columbin', 'commonplac', 'companionship', 'confer', 'connecticut', 'costner', 'crab', 'credenti', 'cylon', 'dani', 'darryl', 'defiant', 'delta', 'dench', 'deter', 'detest', 'devo', 'discredit', 'disintegr', 'dove', 'downer', 'dribbl', 'droll', 'duryea', 'eerili', 'elli', 'elmer', 'enrich', 'epp', 'erik', 'err', 'es', 'exclaim', 'expend', 'faceless', 'fanni', 'fassbind', 'finch', 'finnish', 'forb', 'franz', 'frenchman', 'fridg', 'gellar', 'gigolo', 'glitch', 'glitter', 'goodfella', 'gratitud', 'gump', 'hartman', 'haze', 'hazzard', 'hearti', 'hedi', 'hike', 'hog', 'hostess', 'housekeep', 'illinoi', 'inbr', 'insinu', 'insuffici', 'iowa', 'jessi', 'johnston', 'joshua', 'kareena', 'keira', 'klein', 'kooki', 'leia', 'letharg', 'lon', 'machet', 'magnitud', 'marlen', 'marley', 'mcshane', 'mockumentari', 'munch', 'muni', 'mutter', 'nevada', 'noah', 'norma', 'nuke', 'obey', 'oft', 'ooh', 'overst', 'pa', 'palsi', 'papa', 'pave', 'phylli', 'plethora', 'pope', 'portugues', 'potboil', 'prod', 'prosper', 'prot', 'pryor', 'pumbaa', 'quinci', 'raul', 'resound', 'revis', 'rewatch', 'salari', 'sammo', 'scath', 'schooler', 'sculptur', 'sedat', 'semin', 'shuttl', 'sideway', 'sim', 'singin', 'slang', 'smear', 'sooo', 'sorcer', 'soylent', 'spacek', 'specialist', 'specialti', 'steiner', 'stoltz', 'strangler', 'su', 'suburbia', 'sugari', 'swarm', 'tarnish', 'temporarili', 'terrain', 'thirst', 'thou', 'thunderbird', 'tilli', 'tng', 'tolkien', 'trippi', 'trophi', 'unabash', 'unavail', 'unborn', 'unexcit', 'unfocus', 'unscath', 'unsurpris', 'vernon', 'verv', 'visconti', 'wari', 'waver', 'weaken', 'wicker', 'wist', 'writh', 'wwe', 'yay', 'aficionado', 'afro', 'ahem', 'alejandro', 'alia', 'anachron', 'anchorman', 'ander', 'ankl', 'antidot', 'appleg', 'asinin', 'attir', 'atyp', 'ava', 'beowulf', 'biko', 'blanket', 'boomer', 'bourgeoi', 'bullshit', 'cal', 'calam', 'camel', 'caprica', 'captor', 'cargo', 'cassandra', 'celin', 'cellar', 'chagrin', 'chaney', 'chatter', 'ching', 'chronic', 'clap', 'cleavag', 'cling', 'clinton', 'cobb', 'collag', 'corki', 'crackl', 'csi', 'deja', 'dessert', 'detractor', 'deus', 'dictatorship', 'dietrich', 'disclaim', 'eden', 'eileen', 'entail', 'esp', 'evad', 'excrement', 'faulti', 'fienn', 'firefight', 'flea', 'fled', 'flute', 'foray', 'forewarn', 'freud', 'fricker', 'gage', 'gail', 'gazzara', 'gibberish', 'goldsmith', 'goldsworthi', 'grappl', 'groin', 'gundam', 'gunsling', 'hare', 'hash', 'helper', 'here', 'hinder', 'humanist', 'humdrum', 'impression', 'incompar', 'intercours', 'intuit', 'isaac', 'isl', 'janin', 'jeopardi', 'lamarr', 'lana', 'laud', 'leisur', 'lite', 'loathsom', 'lodg', 'lsd', 'majesti', 'malign', 'manchu', 'maneuv', 'manor', 'mantegna', 'marbl', 'marcus', 'marina', 'mat', 'mercuri', 'milland', 'missouri', 'morton', 'motley', 'moustach', 'mph', 'nag', 'naschi', 'neve', 'newest', 'newsreel', 'nintendo', 'nit', 'nobil', 'offset', 'ogl', 'oklahoma', 'overhead', 'overkil', 'pacifist', 'pact', 'pancak', 'parol', 'pedophil', 'perish', 'perlman', 'pillow', 'pollack', 'puerto', 'raoul', 'ravag', 'reconcili', 'redefin', 'rekindl', 'remast', 'ren', 'repugn', 'robust', 'rori', 'rumbl', 'sabu', 'schumach', 'scout', 'sesam', 'sexploit', 'shaggi', 'shia', 'shroud', 'simplifi', 'sizzl', 'snapshot', 'softwar', 'solitari', 'soo', 'sp', 'spar', 'stagi', 'steadili', 'steep', 'stripe', 'stuntman', 'subscrib', 'suitor', 'suzann', 'te', 'tel', 'thinner', 'tidi', 'tormentor', 'tracey', 'treacher', 'trench', 'triniti', 'undemand', 'underbelli', 'unfathom', 'unfulfil', 'unheard', 'unorthodox', 'unscrupul', 'unthink', 'uproari', 'villian', 'vixen', 'whichev', 'whimper', 'whisk', 'wholeheart', 'wikipedia', 'withdraw', 'wray', 'wyatt', 'wyom', 'yuck', 'zorro', 'abbot', 'abhorr', 'adolf', 'affin', 'agn', 'amnesia', 'ana', 'android', 'atwil', 'audibl', 'aunti', 'auster', 'bail', 'baptist', 'barrag', 'beal', 'bel', 'bestial', 'blackboard', 'bolivia', 'bombard', 'bowel', 'bradley', 'bratti', 'brigad', 'brighter', 'btk', 'burlesqu', 'burstyn', 'cabinet', 'cad', 'cane', 'capra', 'certif', 'chad', 'cheeki', 'chimney', 'cinemax', 'civilis', 'clees', 'col', 'colman', 'copper', 'cord', 'creed', 'cristina', 'croni', 'cryptic', 'curtiz', 'dc', 'deathtrap', 'deciph', 'decrepit', 'defici', 'demi', 'denholm', 'deposit', 'depp', 'diaper', 'diplomat', 'dna', 'dodger', 'doe', 'doggi', 'dolli', 'dreamer', 'dreamwork', 'dross', 'dv', 'elisabeth', 'epilogu', 'exam', 'fagin', 'fallon', 'farrelli', 'farther', 'fertil', 'fiona', 'fisherman', 'forese', 'fractur', 'ft', 'gall', 'gameplay', 'geographi', 'gleefulli', 'grammar', 'gush', 'hardwick', 'harlow', 'harper', 'harron', 'hast', 'hazard', 'headstrong', 'hectic', 'hercul', 'highland', 'hillari', 'hing', 'hoover', 'humorless', 'hut', 'incredul', 'indel', 'inescap', 'interwoven', 'intricaci', 'irani', 'iturbi', 'jabba', 'jeez', 'joss', 'kari', 'ketchup', 'kindergarten', 'knuckl', 'lair', 'landi', 'leaf', 'leopold', 'lohan', 'lookalik', 'loung', 'maltin', 'mangl', 'mansfield', 'martino', 'mattei', 'midler', 'migrat', 'milieu', 'monarch', 'moonstruck', 'moralist', 'moran', 'multiplex', 'nadir', 'nasa', 'nationalist', 'nefari', 'newbi', 'noodl', 'norri', 'nymphomaniac', 'omega', 'oneself', 'orgasm', 'outshin', 'painstak', 'pakistani', 'pam', 'paranorm', 'paresh', 'pedro', 'pencil', 'pesci', 'pinch', 'plagiar', 'porki', 'poss', 'presley', 'pristin', 'prohibit', 'prosecutor', 'prosthet', 'protector', 'railway', 'rebirth', 'reflex', 'reinvent', 'rejoic', 'relay', 'relianc', 'rhode', 'rigor', 'ringwald', 'robocop', 'rohmer', 'roosevelt', 'rosanna', 'rudi', 'sanit', 'schlocki', 'scot', 'scumbag', 'sermon', 'shane', 'sholay', 'shortag', 'shrug', 'sketchi', 'ski', 'skim', 'slaughterhous', 'slumber', 'snarl', 'snif', 'sniff', 'snobbish', 'snooz', 'sooooo', 'spiderman', 'splendor', 'spun', 'squeal', 'stevenson', 'stint', 'stormi', 'strait', 'stuffi', 'succinct', 'sullen', 'sunlight', 'supervis', 'supris', 'susannah', 'swanson', 'swat', 'sweati', 'swordsman', 'taglin', 'tempo', 'tennesse', 'texan', 'thirsti', 'thornton', 'threadbar', 'tiffani', 'tornado', 'towel', 'twitch', 'unbeknownst', 'undercut', 'unearth', 'uneas', 'unimport', 'unpreced', 'unresolv', 'unveil', 'urgent', 'usher', 'vicki', 'vietnames', 'wail', 'watt', 'wendt', 'wildlif', 'wisconsin', 'woe', 'zelda', 'acceler', 'accumul', 'adel', 'aerial', 'affabl', 'afi', 'ahh', 'allegor', 'aloud', 'amato', 'ambul', 'arctic', 'ardent', 'ascend', 'austria', 'autumn', 'banjo', 'banker', 'batteri', 'bava', 'betsi', 'bigfoot', 'blare', 'blith', 'blurb', 'boorish', 'bot', 'brag', 'brake', 'burrough', 'cardin', 'cart', 'casey', 'cheesiest', 'chen', 'claustrophobia', 'clearer', 'coastal', 'conroy', 'constanc', 'coop', 'corbett', 'courtney', 'crane', 'creak', 'cricket', 'curat', 'cuss', 'customari', 'danza', 'daze', 'deepen', 'delusion', 'demolish', 'deploy', 'devito', 'diagnos', 'didact', 'docudrama', 'dough', 'dour', 'drench', 'earp', 'eighteen', 'eighth', 'elijah', 'enslav', 'etch', 'fatigu', 'ferrer', 'finess', 'fingernail', 'flavour', 'fluke', 'fondl', 'forsaken', 'forthcom', 'fountain', 'frolic', 'gedd', 'geez', 'gel', 'giddi', 'gleason', 'glib', 'gloom', 'godmoth', 'goodnight', 'granni', 'grape', 'greec', 'gruel', 'guevara', 'guidelin', 'har', 'hazi', 'hebrew', 'hogan', 'hokum', 'holt', 'hone', 'hooray', 'humil', 'ichi', 'ida', 'indign', 'inexcus', 'infomerci', 'inn', 'input', 'insensit', 'irrevers', 'itchi', 'ive', 'jada', 'jefferson', 'jerker', 'jester', 'juxtaposit', 'kara', 'kerr', 'kidnapp', 'kipl', 'knockout', 'krishna', 'kristin', 'lamest', 'lessen', 'libido', 'lindsey', 'liv', 'livingston', 'lobbi', 'luis', 'lunaci', 'maggot', 'malta', 'manual', 'manuscript', 'marxist', 'masala', 'maudlin', 'mayer', 'mcgavin', 'mcmahon', 'meatbal', 'metro', 'millard', 'misogyni', 'missionari', 'misstep', 'moonwalk', 'moreau', 'multipli', 'mushroom', 'nada', 'nana', 'nash', 'nausea', 'newhart', 'newton', 'nicer', 'nixon', 'nonchal', 'nonstop', 'nubil', 'obes', 'overdos', 'overlap', 'overload', 'pagan', 'panach', 'panahi', 'pantheon', 'partit', 'pas', 'patholog', 'patsi', 'pecker', 'peet', 'physician', 'pier', 'pitfal', 'plump', 'pod', 'populac', 'pretext', 'protocol', 'pussi', 'quo', 'reactionari', 'reaper', 'reclaim', 'regurgit', 'remedi', 'renam', 'replet', 'reptil', 'retribut', 'reuben', 'ricardo', 'ricci', 'ridley', 'rio', 'rockwel', 'rodger', 'sag', 'sank', 'scowl', 'scrambl', 'scrappi', 'scroll', 'scrutini', 'sematari', 'semit', 'sexism', 'sharif', 'sheesh', 'showi', 'smother', 'snatcher', 'snort', 'sociolog', 'sofia', 'softcor', 'sol', 'spellbind', 'staci', 'stash', 'sticki', 'strengthen', 'sullavan', 'survey', 'swayz', 'swoon', 'tan', 'tantrum', 'teaser', 'templat', 'tenth', 'tenuous', 'thai', 'theresa', 'tournament', 'tripod', 'tristan', 'troy', 'tutor', 'twisti', 'tyron', 'ufo', 'unbalanc', 'uncharacterist', 'undo', 'unflinch', 'unmotiv', 'unpopular', 'unreason', 'unrecogniz', 'unsuit', 'unto', 'upstag', 'vacant', 'volatil', 'vulcan', 'waltz', 'wb', 'weaponri', 'welch', 'whirl', 'willing', 'windshield', 'yield', 'yrs', 'yvonn', 'zabriski', 'abyss', 'affili', 'altar', 'ambient', 'amend', 'americana', 'amplifi', 'anamorph', 'astor', 'autopsi', 'avalanch', 'baltimor', 'bam', 'beatric', 'bevi', 'boman', 'boorman', 'brashear', 'brotherhood', 'bs', 'budapest', 'bulldog', 'bullock', 'butter', 'buyer', 'chap', 'chester', 'chic', 'chico', 'chrissi', 'clifford', 'climber', 'cliqu', 'coburn', 'codi', 'colbert', 'commenc', 'cosmic', 'countess', 'cozi', 'creepiest', 'crous', 'crud', 'crusti', 'crutch', 'cynthia', 'damien', 'daniell', 'depalma', 'detent', 'devote', 'dey', 'dishonest', 'doppelgang', 'ds', 'dunaway', 'eschew', 'est', 'ethel', 'evidenc', 'fari', 'feinston', 'flashlight', 'fran', 'frye', 'fundamentalist', 'gamer', 'gangsta', 'gargantuan', 'glitz', 'gomez', 'greenwood', 'grimi', 'grizzl', 'gwynn', 'hampton', 'hangov', 'harvard', 'havana', 'hayward', 'heav', 'helga', 'hid', 'hiss', 'homemad', 'hunchback', 'indict', 'ink', 'interf', 'intersect', 'jayn', 'jfk', 'josi', 'keller', 'khanna', 'kinet', 'klaus', 'knockoff', 'krell', 'landladi', 'lash', 'latch', 'lbs', 'leas', 'lindi', 'lipstick', 'loggia', 'lorenzo', 'lorn', 'lotteri', 'louisiana', 'lucid', 'lucif', 'luthor', 'lyle', 'macmurray', 'madrid', 'mannequin', 'marker', 'marsha', 'mathieu', 'melinda', 'merk', 'meteorit', 'miklo', 'moll', 'montgomeri', 'munro', 'myra', 'nichol', 'noel', 'novella', 'oldi', 'ole', 'omiss', 'optic', 'orwel', 'overthrow', 'pakistan', 'panther', 'phenomena', 'ping', 'postwar', 'potti', 'prairi', 'projector', 'puberti', 'quartet', 'rama', 'redhead', 'rico', 'ringo', 'romano', 'rooftop', 'rooker', 'rudimentari', 'rumour', 'saget', 'saif', 'salaci', 'sasquatch', 'saxon', 'scant', 'seam', 'sear', 'secular', 'serbian', 'sexiest', 'shahid', 'sheila', 'shin', 'skew', 'spall', 'speakeasi', 'sphere', 'squalor', 'stepsist', 'stockwel', 'storag', 'strathairn', 'sunglass', 'supremaci', 'surveil', 'swipe', 'telescop', 'teri', 'thee', 'theo', 'through', 'thump', 'tier', 'tomlinson', 'tougher', 'triumphant', 'turturro', 'una', 'unaccept', 'unavoid', 'underplay', 'underwritten', 'undon', 'unsavori', 'utah', 'veneer', 'venezuela', 'ventura', 'vern', 'veronica', 'wale', 'webster', 'weir', 'wilcox', 'woodard', 'yeti', 'yoda', 'zen', 'zodiac', 'zu', 'achill', 'anglo', 'annihil', 'ashton', 'askey', 'banner', 'beck', 'beep', 'beeri', 'blacki', 'bloodsuck', 'bosworth', 'bulg', 'bunker', 'caan', 'cabaret', 'calvin', 'cambodian', 'camerawork', 'campfir', 'carlyl', 'carriag', 'carrot', 'catchphras', 'cbc', 'charley', 'cheezi', 'cheryl', 'chopper', 'chopra', 'chucki', 'collis', 'coyot', 'crimson', 'crispin', 'criterion', 'cromwel', 'cub', 'dahl', 'daria', 'demolit', 'disagr', 'dolbi', 'donni', 'dramatis', 'dublin', 'dunk', 'dusk', 'ecolog', 'edinburgh', 'elf', 'elton', 'enigma', 'erm', 'escape', 'gale', 'garri', 'germ', 'ghoul', 'granger', 'grendel', 'haley', 'hanna', 'hind', 'hiv', 'homeward', 'hoo', 'hose', 'irwin', 'jonestown', 'jos', 'jovi', 'kahn', 'kalifornia', 'kiefer', 'krige', 'lag', 'lain', 'lama', 'launcher', 'lawless', 'lds', 'levinson', 'lillian', 'lizzi', 'luther', 'madelin', 'mainland', 'marco', 'maud', 'maugham', 'merlin', 'moriarti', 'mulder', 'oakland', 'of', 'outsmart', 'paralyz', 'peach', 'philippin', 'piggi', 'pledg', 'rajpal', 'rao', 'regul', 'renov', 'rockin', 'saber', 'scarf', 'shea', 'sheffer', 'shes', 'sierra', 'simba', 'siu', 'solar', 'solomon', 'soni', 'squirt', 'stahl', 'stallion', 'starr', 'stratton', 'subtract', 'suv', 'swan', 'swordplay', 'ta', 'tenni', 'thi', 'throb', 'tigerland', 'traffick', 'twister', 'umbrella', 'underl', 'unedit', 'wager', 'weissmul', 'welsh', 'whereabout', 'woodland', 'yokai', 'yuen', 'yugoslavia', 'zap', 'ackland', 'alexi', 'ambassador', 'anakin', 'andrei', 'archaeolog', 'argentina', 'auction', 'aviv', 'aztec', 'bafta', 'barman', 'baxter', 'benchmark', 'bender', 'benicio', 'beta', 'binder', 'blanc', 'blous', 'blush', 'bradford', 'bret', 'bryant', 'buddhist', 'bureau', 'callahan', 'carolina', 'celi', 'chairman', 'char', 'cheri', 'coax', 'conceptu', 'condon', 'costa', 'cr', 'cukor', 'cuti', 'darlen', 'dien', 'donner', 'dourif', 'evangel', 'exorc', 'francoi', 'gandalf', 'gino', 'hacker', 'hammerhead', 'hanson', 'hatcher', 'heh', 'hellrais', 'henson', 'hernandez', 'hindu', 'hutton', 'igor', 'impoverish', 'inferno', 'itch', 'jafar', 'kamal', 'katsu', 'kei', 'kermit', 'kimber', 'kolchak', 'kovac', 'kudrow', 'labeouf', 'laputa', 'lassi', 'lau', 'lolita', 'lombard', 'luzhin', 'mabel', 'maltes', 'marsh', 'matheson', 'maya', 'mcnalli', 'mona', 'monaghan', 'mose', 'mumbai', 'nam', 'nameless', 'notebook', 'ogr', 'om', 'oxygen', 'paquin', 'portug', 'puri', 'pyramid', 'regina', 'repent', 'rite', 'rubbl', 'serpent', 'sheedi', 'sinclair', 'singh', 'smallvill', 'spurt', 'stairway', 'tarkovski', 'thesi', 'threesom', 'toolbox', 'tori', 'toto', 'tribal', 'truffaut', 'tulli', 'uniti', 'varga', 'veidt', 'venezuelan', 'venic', 'vibrat', 'warlord', 'williamson', 'woronov', 'wwf', 'yadav', 'yakuza', 'zucker', 'ab', 'adelaid', 'alibi', 'ameli', 'ar', 'asano', 'aweigh', 'bagdad', 'baseketbal', 'bombshel', 'booker', 'brittani', 'broomstick', 'bureaucraci', 'burr', 'buse', 'cate', 'caveman', 'cavemen', 'celesti', 'champ', 'chiba', 'clori', 'cobra', 'colleen', 'contractor', 'corleon', 'corp', 'cowgirl', 'crasher', 'crossbow', 'cruella', 'culp', 'dahmer', 'desi', 'dingo', 'doesnt', 'fahey', 'falco', 'fanboy', 'fenton', 'ferrari', 'flamenco', 'flora', 'fortress', 'giovanna', 'girlfight', 'glen', 'goin', 'gong', 'gorehound', 'gould', 'gover', 'grasshopp', 'grifter', 'hai', 'hewitt', 'jj', 'keener', 'knot', 'korda', 'kristi', 'leachman', 'leftist', 'lerner', 'lulu', 'mahoney', 'manni', 'marjori', 'martinez', 'maxwel', 'molina', 'morgana', 'mulligan', 'munchi', 'nat', 'necklac', 'norwegian', 'panama', 'pang', 'pazu', 'peru', 'pitcher', 'prix', 'priyadarshan', 'probat', 'provinc', 'revu', 'rican', 'roddenberri', 'rowan', 'rudolph', 'sabretooth', 'serl', 'shaq', 'shefali', 'sheppard', 'silverston', 'singleton', 'sloth', 'sphinx', 'staden', 'stagecoach', 'statham', 'stifler', 'stratten', 'streetcar', 'suzi', 'sylvest', 'syrup', 'theron', 'tibet', 'tibetan', 'townsend', 'trelkovski', 'tucci', 'vacuum', 'vagina', 'voluptu', 'wai', 'wellington', 'zach', 'aag', 'abu', 'acr', 'ada', 'ai', 'amicus', 'amour', 'artemisia', 'audiard', 'bead', 'boyd', 'brock', 'cahil', 'carlton', 'celest', 'cena', 'claymat', 'cobweb', 'coltran', 'comet', 'corinn', 'cortez', 'counselor', 'crater', 'creeper', 'dangerfield', 'doodl', 'dooley', 'dorff', 'dyer', 'elitist', 'evergreen', 'famin', 'fineman', 'gerri', 'giamatti', 'gigi', 'goebbel', 'gopal', 'grabl', 'hagen', 'happenst', 'hauser', 'herb', 'heret', 'hickock', 'hilliard', 'hobbit', 'hogg', 'hoop', 'hush', 'iago', 'iri', 'janean', 'jeanett', 'jigsaw', 'kattan', 'knoxvill', 'lando', 'lapd', 'liang', 'marqui', 'mathemat', 'mcclure', 'mcintyr', 'mecha', 'med', 'messiah', 'metamorphosi', 'microfilm', 'ming', 'modin', 'mononok', 'morita', 'nell', 'nomad', 'norway', 'obi', 'pabst', 'pidgeon', 'pino', 'ppv', 'raja', 'renoir', 'rhonda', 'riley', 'roddi', 'roeg', 'standup', 'tashan', 'tavern', 'transylvania', 'ullman', 'vipul', 'weisz', 'zack', 'zentropa', 'zizek', 'anastasia', 'antichrist', 'antwerp', 'aragorn', 'barrett', 'beetl', 'benet', 'bluth', 'breckinridg', 'brisson', 'capric', 'carrel', 'clarkson', 'dalmatian', 'della', 'delon', 'demm', 'durant', 'ephemer', 'erica', 'fez', 'finlay', 'footlight', 'frodo', 'gabbi', 'greengrass', 'grier', 'guiness', 'haril', 'hazel', 'hels', 'hendrix', 'hess', 'hillyer', 'hooligan', 'imax', 'jed', 'jeroen', 'jox', 'ju', 'kali', 'karisma', 'kelso', 'keyston', 'kraus', 'kristen', 'landon', 'lenni', 'linklat', 'lommel', 'macdowel', 'maclean', 'malik', 'mammoth', 'mccartney', 'melvin', 'morbius', 'mower', 'myrtl', 'nic', 'noam', 'offsid', 'orca', 'pia', 'pragu', 'prashant', 'priyanka', 'ra', 'raptor', 'raquel', 'rpg', 'saul', 'scanner', 'schmidt', 'shakti', 'sheeta', 'shemp', 'sherman', 'sherri', 'skater', 'stewardess', 'taker', 'temp', 'textil', 'tourneur', 'trish', 'urmila', 'weller', 'wheeler', 'whos', 'workout', 'wtc', 'zatoichi', 'abbey', 'becki', 'bigelow', 'bowi', 'bozz', 'braun', 'cadet', 'carfac', 'cartwright', 'cecilia', 'cohn', 'creepshow', 'curr', 'custer', 'cyber', 'darkwolf', 'davidson', 'dell', 'demonicus', 'deol', 'devon', 'dome', 'domergu', 'doolittl', 'duchess', 'duffel', 'egan', 'elinor', 'filipino', 'flippen', 'gojo', 'gummer', 'gypo', 'homecom', 'juda', 'kennel', 'ki', 'kitamura', 'lan', 'lumier', 'maddi', 'mal', 'matador', 'mindi', 'ossession', 'paperhous', 'perdit', 'richi', 'rochon', 'romi', 'rosenstrass', 'savala', 'scola', 'sharma', 'siegfri', 'tautou', 'teal', 'tos', 'tremor', 'trent', 'violet', 'vivah', 'waqt', 'wargam', 'abbi', 'abhay', 'alamo', 'batista', 'batwoman', 'berkowitz', 'berni', 'blackadd', 'blackwood', 'carlisl', 'carnosaur', 'chikatilo', 'creasi', 'desdemona', 'eccleston', 'fleischer', 'frosti', 'garson', 'graci', 'gram', 'grieco', 'guillotin', 'halperin', 'hanzo', 'hasselhoff', 'hellman', 'hershey', 'hobson', 'ilona', 'indemn', 'jonni', 'knott', 'kusturica', 'lila', 'lordi', 'lupino', 'macarthur', 'macgregor', 'mahatma', 'maher', 'mcbain', 'muller', 'munster', 'nacho', 'nausicaa', 'pappa', 'pasolini', 'poirot', 'popey', 'refere', 'reve', 'rhine', 'saura', 'scheider', 'schlesing', 'shekhar', 'shogun', 'stefan', 'tobacco', 'torranc', 'trojan', 'tyson', 'vampyr', 'wahlberg', 'waterman', 'wentworth', 'wolfman', 'wrestlemania', 'yuzna', 'abigail', 'axel', 'barjatya', 'benoit', 'bhandarkar', 'bilg', 'bubba', 'chu', 'coonskin', 'darius', 'deathstalk', 'delia', 'detmer', 'dhoom', 'eustach', 'gaelic', 'heaton', 'heflin', 'hermann', 'hoechlin', 'hoon', 'hou', 'houseman', 'hundstag', 'incubus', 'jaffar', 'kat', 'kazaam', 'kell', 'kornbluth', 'lanza', 'lori', 'marci', 'maryle', 'matuschek', 'mencia', 'milligan', 'mj', 'montros', 'nadia', 'peruvian', 'pimlico', 'pyun', 'quartier', 'radium', 'santo', 'scorces', 'seberg', 'speedi', 'squir', 'stein', 'susi', 'templar', 'trotta', 'wender', 'wolverin', 'yada', 'aditya', 'ahmad', 'anand', 'ashraf', 'ayer', 'azumi', 'babbag', 'bannist', 'burgundi', 'buttgereit', 'caruso', 'chocolat', 'dilling', 'dumbland', 'durbin', 'flavia', 'gabe', 'gamera', 'gannon', 'haim', 'hartnett', 'herbi', 'huppert', 'jud', 'kiki', 'mace', 'mcgovern', 'mordrid', 'morti', 'mraovich', 'naudet', 'pakeezah', 'pavarotti', 'picker', 'pike', 'pita', 'prem', 'railli', 'resnai', 'ripley', 'sarno', 'seidl', 'shearer', 'skagway', 'talespin', 'tanya', 'togar', 'tulip', 'volckman', 'wei', 'wodehous', 'yadda', 'yuma', 'bjm', 'burtynski', 'chou', 'cort', 'digicorp', 'dressler', 'fiqu', 'firemen', 'hickok', 'jericho', 'ji', 'ling', 'lorna', 'maclain', 'magnus', 'miraglia', 'moto', 'newcomb', 'ork', 'pinjar', 'raggedi', 'sade', 'sayuri', 'schmid', 'serb', 'sollett', 'tassi', 'tintin', 'ungar', 'varma', 'ae', 'baloo', 'bathsheba', 'casa', 'crain', 'dev', 'dinocroc', 'dominick', 'eskimo', 'florian', 'grisbi', 'herg', 'herschel', 'kirkland', 'louqu', 'nostril', 'oberon', 'provo', 'pym', 'sarn', 'soha', 'sooki', 'tito', 'todesk', 'veronika', 'bey', 'burakov', 'coe', 'coffi', 'darkman', 'doodlebop', 'ferdi', 'gammera', 'hagar', 'khouri', 'kriemhild', 'parsif', 'priya', 'ranma', 'samhain', 'scalis', 'snafu', 'stirba', 'syberberg', 'unisol', 'vez', 'xica', 'bla', 'chomski', 'dibias', 'fanfan', 'fitz', 'gosha', 'hackenstein', 'hitokiri', 'mukhsin', 'pok', 'purvi', 'schneebaum', 'tas', 'trancer', 'angelopoulo', 'burgad', 'ek', 'flem', 'maradona', 'milverton', 'morvern', 'noriko', 'oshii', 'reda', 'zenia', 'emori', 'hallam', 'ivanna', 'kibbutz', 'leonora', 'petiot', 'rvd', 'gauri', 'palermo']\n",
            "movi palermo\n",
            "1.6868075727959275\n",
            "4.053401385590648\n"
          ]
        }
      ],
      "source": [
        "dd=dict(zip(vect.get_feature_names_out(), idf))\n",
        "l=sorted(dd, key=(dd).get)\n",
        "print(l)\n",
        "print(l[0],l[-1])\n",
        "print(dd['like'])\n",
        "print(dd['success'])"
      ]
    },
    {
      "cell_type": "markdown",
      "metadata": {
        "papermill": {
          "duration": 0.022495,
          "end_time": "2020-09-21T19:00:56.447746",
          "exception": false,
          "start_time": "2020-09-21T19:00:56.425251",
          "status": "completed"
        },
        "tags": [],
        "id": "u9ouZKDV6Q2H"
      },
      "source": [
        "> We can therefore see that on the basis of the idf value , 'like' is the least frequent word while 'success' is most frequently occuring word."
      ]
    },
    {
      "cell_type": "code",
      "execution_count": 101,
      "metadata": {
        "execution": {
          "iopub.execute_input": "2020-09-21T19:00:56.497138Z",
          "iopub.status.busy": "2020-09-21T19:00:56.496578Z",
          "iopub.status.idle": "2020-09-21T19:00:56.502158Z",
          "shell.execute_reply": "2020-09-21T19:00:56.502593Z"
        },
        "papermill": {
          "duration": 0.031615,
          "end_time": "2020-09-21T19:00:56.502720",
          "exception": false,
          "start_time": "2020-09-21T19:00:56.471105",
          "status": "completed"
        },
        "tags": [],
        "colab": {
          "base_uri": "https://localhost:8080/"
        },
        "id": "n4y0GHnr6Q2H",
        "outputId": "14d31b71-3b11-459b-e7b3-b687d4a78cb9"
      },
      "outputs": [
        {
          "output_type": "execute_result",
          "data": {
            "text/plain": [
              "0    stuff go moment mj start listen music watch od...\n",
              "1    classic war world timothi hine entertain film ...\n",
              "2    film start manag nichola bell give welcom inve...\n",
              "3    must assum prais film greatest film opera ever...\n",
              "4    superbl trashi wondrous unpretenti exploit hoo...\n",
              "Name: cleaned_text, dtype: object"
            ]
          },
          "metadata": {},
          "execution_count": 101
        }
      ],
      "source": [
        "new1['cleaned_text'].head()"
      ]
    },
    {
      "cell_type": "markdown",
      "metadata": {
        "papermill": {
          "duration": 0.023781,
          "end_time": "2020-09-21T19:00:56.550137",
          "exception": false,
          "start_time": "2020-09-21T19:00:56.526356",
          "status": "completed"
        },
        "tags": [],
        "id": "tV9eNCeV6Q2H"
      },
      "source": [
        "### TOPIC MODELLING"
      ]
    },
    {
      "cell_type": "markdown",
      "metadata": {
        "papermill": {
          "duration": 0.023242,
          "end_time": "2020-09-21T19:00:56.596955",
          "exception": false,
          "start_time": "2020-09-21T19:00:56.573713",
          "status": "completed"
        },
        "tags": [],
        "id": "IIs0MwvX6Q2I"
      },
      "source": [
        "Latent Semantic Analysis (LSA)\n",
        "The first approach that I have used is the LSA. LSA is basically singular value decomposition.\n",
        "\n",
        "SVD decomposes the original DTM into three matrices S=U.(sigma).(V.T). Here the matrix U denotes the document-topic matrix while (V) is the topic-term matrix.\n",
        "\n",
        "Each row of the matrix U(document-term matrix) is the vector representation of the corresponding document. The length of these vectors is the number of desired topics. Vector representation for the terms in our data can be found in the matrix V (term-topic matrix).\n",
        "\n",
        "So, SVD gives us vectors for every document and term in our data. The length of each vector would be k. We can then use these vectors to find similar words and similar documents using the cosine similarity method.\n",
        "\n",
        "We can use the truncatedSVD function to implement LSA. The n_components parameter is the number of topics we wish to extract. The model is then fit and transformed on the result given by vectorizer.\n",
        "\n",
        "Lastly note that LSA and LSI (I for indexing) are the same and the later is just sometimes used in information retrieval contexts."
      ]
    },
    {
      "cell_type": "code",
      "execution_count": 132,
      "metadata": {
        "execution": {
          "iopub.execute_input": "2020-09-21T19:00:56.647018Z",
          "iopub.status.busy": "2020-09-21T19:00:56.646483Z",
          "iopub.status.idle": "2020-09-21T19:00:56.911733Z",
          "shell.execute_reply": "2020-09-21T19:00:56.910787Z"
        },
        "papermill": {
          "duration": 0.291518,
          "end_time": "2020-09-21T19:00:56.911888",
          "exception": false,
          "start_time": "2020-09-21T19:00:56.620370",
          "status": "completed"
        },
        "tags": [],
        "id": "tkdp3IyY6Q2I"
      },
      "outputs": [],
      "source": [
        "n_comp = 5\n",
        "lsa_model = TruncatedSVD(n_components=n_comp, algorithm='randomized', n_iter=10, random_state=42)\n",
        "\n",
        "lsa_top=lsa_model.fit_transform(vect_text)"
      ]
    },
    {
      "cell_type": "code",
      "execution_count": 133,
      "metadata": {
        "execution": {
          "iopub.execute_input": "2020-09-21T19:00:56.964634Z",
          "iopub.status.busy": "2020-09-21T19:00:56.963913Z",
          "iopub.status.idle": "2020-09-21T19:00:56.967151Z",
          "shell.execute_reply": "2020-09-21T19:00:56.967771Z"
        },
        "papermill": {
          "duration": 0.032366,
          "end_time": "2020-09-21T19:00:56.968001",
          "exception": false,
          "start_time": "2020-09-21T19:00:56.935635",
          "status": "completed"
        },
        "tags": [],
        "colab": {
          "base_uri": "https://localhost:8080/"
        },
        "id": "WLxE-hFE6Q2I",
        "outputId": "b2499fab-3202-4d3b-8c7f-45191a2896c9"
      },
      "outputs": [
        {
          "output_type": "stream",
          "name": "stdout",
          "text": [
            "[0.19285472 0.00375621]\n",
            "(25000, 2)\n"
          ]
        }
      ],
      "source": [
        "print(lsa_top[0])\n",
        "print(lsa_top.shape)  # (no_of_doc*no_of_topics)"
      ]
    },
    {
      "cell_type": "code",
      "execution_count": 134,
      "metadata": {
        "execution": {
          "iopub.execute_input": "2020-09-21T19:00:57.023922Z",
          "iopub.status.busy": "2020-09-21T19:00:57.022963Z",
          "iopub.status.idle": "2020-09-21T19:00:57.029566Z",
          "shell.execute_reply": "2020-09-21T19:00:57.030218Z"
        },
        "papermill": {
          "duration": 0.036292,
          "end_time": "2020-09-21T19:00:57.030377",
          "exception": false,
          "start_time": "2020-09-21T19:00:56.994085",
          "status": "completed"
        },
        "tags": [],
        "colab": {
          "base_uri": "https://localhost:8080/"
        },
        "id": "fk_7nS2D6Q2I",
        "outputId": "8499c62c-5145-4d47-b3a6-1b98b0c5c6cb"
      },
      "outputs": [
        {
          "output_type": "stream",
          "name": "stdout",
          "text": [
            "Document 0 :\n",
            "Topic  0  :  19.285471500493227\n",
            "Topic  1  :  0.37562141261301374\n"
          ]
        }
      ],
      "source": [
        "l=lsa_top[0]\n",
        "print(\"Document 0 :\")\n",
        "for i,topic in enumerate(l):\n",
        "  print(\"Topic \",i,\" : \",topic*100)"
      ]
    },
    {
      "cell_type": "markdown",
      "metadata": {
        "papermill": {
          "duration": 0.023933,
          "end_time": "2020-09-21T19:00:57.079779",
          "exception": false,
          "start_time": "2020-09-21T19:00:57.055846",
          "status": "completed"
        },
        "tags": [],
        "id": "OJzeoaME6Q2I"
      },
      "source": [
        "> Similalry for other documents we can do this. However note that values don't add to 1 as in LSA it is not probabiltiy of a topic in a document."
      ]
    },
    {
      "cell_type": "code",
      "execution_count": 135,
      "metadata": {
        "execution": {
          "iopub.execute_input": "2020-09-21T19:00:57.134921Z",
          "iopub.status.busy": "2020-09-21T19:00:57.134354Z",
          "iopub.status.idle": "2020-09-21T19:00:57.137773Z",
          "shell.execute_reply": "2020-09-21T19:00:57.138379Z"
        },
        "papermill": {
          "duration": 0.03473,
          "end_time": "2020-09-21T19:00:57.138509",
          "exception": false,
          "start_time": "2020-09-21T19:00:57.103779",
          "status": "completed"
        },
        "tags": [],
        "colab": {
          "base_uri": "https://localhost:8080/"
        },
        "id": "MCze7qwk6Q2I",
        "outputId": "b8d90486-3233-4519-d8b8-c67e953ef70d"
      },
      "outputs": [
        {
          "output_type": "stream",
          "name": "stdout",
          "text": [
            "(2, 10000)\n",
            "[[ 5.20537726e-04  8.10420992e-04  6.83133704e-04 ...  9.13422369e-04\n",
            "   9.87365221e-04  6.09301535e-04]\n",
            " [ 3.72979431e-06 -6.52150786e-04  8.54467946e-04 ... -1.67305175e-03\n",
            "   2.69412020e-05  7.58288318e-04]]\n"
          ]
        }
      ],
      "source": [
        "print(lsa_model.components_.shape) # (no_of_topics*no_of_words)\n",
        "print(lsa_model.components_)"
      ]
    },
    {
      "cell_type": "markdown",
      "metadata": {
        "papermill": {
          "duration": 0.0243,
          "end_time": "2020-09-21T19:00:57.188565",
          "exception": false,
          "start_time": "2020-09-21T19:00:57.164265",
          "status": "completed"
        },
        "tags": [],
        "id": "kUQXepPB6Q2J"
      },
      "source": [
        "Now we can get a list of the important words for each of the 10 topics as shown. For simplicity here I have shown 10 words for each topic."
      ]
    },
    {
      "cell_type": "code",
      "execution_count": 136,
      "metadata": {
        "execution": {
          "iopub.execute_input": "2020-09-21T19:00:57.241626Z",
          "iopub.status.busy": "2020-09-21T19:00:57.240755Z",
          "iopub.status.idle": "2020-09-21T19:00:57.278584Z",
          "shell.execute_reply": "2020-09-21T19:00:57.277508Z"
        },
        "papermill": {
          "duration": 0.065268,
          "end_time": "2020-09-21T19:00:57.278702",
          "exception": false,
          "start_time": "2020-09-21T19:00:57.213434",
          "status": "completed"
        },
        "tags": [],
        "colab": {
          "base_uri": "https://localhost:8080/"
        },
        "id": "m45LeJBC6Q2J",
        "outputId": "ea0fe594-5219-43a9-fa6f-acef0e9f7bfb"
      },
      "outputs": [
        {
          "output_type": "stream",
          "name": "stdout",
          "text": [
            "Topic 0: \n",
            "movi film one like watch good time see make realli \n",
            "\n",
            "Topic 1: \n",
            "movi bad watch worst wast good ever funni like seen \n",
            "\n"
          ]
        }
      ],
      "source": [
        "# most important words for each topic\n",
        "# vocab = vect.get_feature_names()\n",
        "vocab = vect.get_feature_names_out()\n",
        "\n",
        "for i, comp in enumerate(lsa_model.components_):\n",
        "    vocab_comp = zip(vocab, comp)\n",
        "    sorted_words = sorted(vocab_comp, key= lambda x:x[1], reverse=True)[:10]\n",
        "    print(\"Topic \"+str(i)+\": \")\n",
        "    for t in sorted_words:\n",
        "        print(t[0],end=\" \")\n",
        "    print(\"\\n\")"
      ]
    },
    {
      "cell_type": "code",
      "source": [
        "lsa_top"
      ],
      "metadata": {
        "colab": {
          "base_uri": "https://localhost:8080/"
        },
        "id": "WdcBBXCZA7Da",
        "outputId": "9d6e8aea-9b0d-4dcd-8167-9c3f697033b2"
      },
      "execution_count": 137,
      "outputs": [
        {
          "output_type": "execute_result",
          "data": {
            "text/plain": [
              "array([[ 0.19285472,  0.00375621],\n",
              "       [ 0.16833204, -0.018487  ],\n",
              "       [ 0.15793031, -0.06445216],\n",
              "       ...,\n",
              "       [ 0.20701603, -0.02614045],\n",
              "       [ 0.14429045, -0.02401218],\n",
              "       [ 0.18515709,  0.07274105]])"
            ]
          },
          "metadata": {},
          "execution_count": 137
        }
      ]
    },
    {
      "cell_type": "code",
      "source": [
        "print(lsa_top.shape)\n",
        "print(df['sentiment'].shape)"
      ],
      "metadata": {
        "colab": {
          "base_uri": "https://localhost:8080/"
        },
        "id": "cGoGjdrOBpHf",
        "outputId": "b89a0d91-9b01-44a6-9bcb-23cb8339f1fe"
      },
      "execution_count": 138,
      "outputs": [
        {
          "output_type": "stream",
          "name": "stdout",
          "text": [
            "(25000, 2)\n",
            "(25000,)\n"
          ]
        }
      ]
    },
    {
      "cell_type": "code",
      "source": [
        "from sklearn.ensemble import RandomForestClassifier\n",
        "\n",
        "# 랜덤포레스트 분류기를 사용\n",
        "forest = RandomForestClassifier(\n",
        "    n_estimators = 100, n_jobs = -1, random_state=2018)\n",
        "forest"
      ],
      "metadata": {
        "colab": {
          "base_uri": "https://localhost:8080/",
          "height": 74
        },
        "id": "pFk_IRTDAV5P",
        "outputId": "ea97d599-7e71-430c-cd09-d8a428f54074"
      },
      "execution_count": 139,
      "outputs": [
        {
          "output_type": "execute_result",
          "data": {
            "text/plain": [
              "RandomForestClassifier(n_jobs=-1, random_state=2018)"
            ],
            "text/html": [
              "<style>#sk-container-id-4 {color: black;background-color: white;}#sk-container-id-4 pre{padding: 0;}#sk-container-id-4 div.sk-toggleable {background-color: white;}#sk-container-id-4 label.sk-toggleable__label {cursor: pointer;display: block;width: 100%;margin-bottom: 0;padding: 0.3em;box-sizing: border-box;text-align: center;}#sk-container-id-4 label.sk-toggleable__label-arrow:before {content: \"▸\";float: left;margin-right: 0.25em;color: #696969;}#sk-container-id-4 label.sk-toggleable__label-arrow:hover:before {color: black;}#sk-container-id-4 div.sk-estimator:hover label.sk-toggleable__label-arrow:before {color: black;}#sk-container-id-4 div.sk-toggleable__content {max-height: 0;max-width: 0;overflow: hidden;text-align: left;background-color: #f0f8ff;}#sk-container-id-4 div.sk-toggleable__content pre {margin: 0.2em;color: black;border-radius: 0.25em;background-color: #f0f8ff;}#sk-container-id-4 input.sk-toggleable__control:checked~div.sk-toggleable__content {max-height: 200px;max-width: 100%;overflow: auto;}#sk-container-id-4 input.sk-toggleable__control:checked~label.sk-toggleable__label-arrow:before {content: \"▾\";}#sk-container-id-4 div.sk-estimator input.sk-toggleable__control:checked~label.sk-toggleable__label {background-color: #d4ebff;}#sk-container-id-4 div.sk-label input.sk-toggleable__control:checked~label.sk-toggleable__label {background-color: #d4ebff;}#sk-container-id-4 input.sk-hidden--visually {border: 0;clip: rect(1px 1px 1px 1px);clip: rect(1px, 1px, 1px, 1px);height: 1px;margin: -1px;overflow: hidden;padding: 0;position: absolute;width: 1px;}#sk-container-id-4 div.sk-estimator {font-family: monospace;background-color: #f0f8ff;border: 1px dotted black;border-radius: 0.25em;box-sizing: border-box;margin-bottom: 0.5em;}#sk-container-id-4 div.sk-estimator:hover {background-color: #d4ebff;}#sk-container-id-4 div.sk-parallel-item::after {content: \"\";width: 100%;border-bottom: 1px solid gray;flex-grow: 1;}#sk-container-id-4 div.sk-label:hover label.sk-toggleable__label {background-color: #d4ebff;}#sk-container-id-4 div.sk-serial::before {content: \"\";position: absolute;border-left: 1px solid gray;box-sizing: border-box;top: 0;bottom: 0;left: 50%;z-index: 0;}#sk-container-id-4 div.sk-serial {display: flex;flex-direction: column;align-items: center;background-color: white;padding-right: 0.2em;padding-left: 0.2em;position: relative;}#sk-container-id-4 div.sk-item {position: relative;z-index: 1;}#sk-container-id-4 div.sk-parallel {display: flex;align-items: stretch;justify-content: center;background-color: white;position: relative;}#sk-container-id-4 div.sk-item::before, #sk-container-id-4 div.sk-parallel-item::before {content: \"\";position: absolute;border-left: 1px solid gray;box-sizing: border-box;top: 0;bottom: 0;left: 50%;z-index: -1;}#sk-container-id-4 div.sk-parallel-item {display: flex;flex-direction: column;z-index: 1;position: relative;background-color: white;}#sk-container-id-4 div.sk-parallel-item:first-child::after {align-self: flex-end;width: 50%;}#sk-container-id-4 div.sk-parallel-item:last-child::after {align-self: flex-start;width: 50%;}#sk-container-id-4 div.sk-parallel-item:only-child::after {width: 0;}#sk-container-id-4 div.sk-dashed-wrapped {border: 1px dashed gray;margin: 0 0.4em 0.5em 0.4em;box-sizing: border-box;padding-bottom: 0.4em;background-color: white;}#sk-container-id-4 div.sk-label label {font-family: monospace;font-weight: bold;display: inline-block;line-height: 1.2em;}#sk-container-id-4 div.sk-label-container {text-align: center;}#sk-container-id-4 div.sk-container {/* jupyter's `normalize.less` sets `[hidden] { display: none; }` but bootstrap.min.css set `[hidden] { display: none !important; }` so we also need the `!important` here to be able to override the default hidden behavior on the sphinx rendered scikit-learn.org. See: https://github.com/scikit-learn/scikit-learn/issues/21755 */display: inline-block !important;position: relative;}#sk-container-id-4 div.sk-text-repr-fallback {display: none;}</style><div id=\"sk-container-id-4\" class=\"sk-top-container\"><div class=\"sk-text-repr-fallback\"><pre>RandomForestClassifier(n_jobs=-1, random_state=2018)</pre><b>In a Jupyter environment, please rerun this cell to show the HTML representation or trust the notebook. <br />On GitHub, the HTML representation is unable to render, please try loading this page with nbviewer.org.</b></div><div class=\"sk-container\" hidden><div class=\"sk-item\"><div class=\"sk-estimator sk-toggleable\"><input class=\"sk-toggleable__control sk-hidden--visually\" id=\"sk-estimator-id-4\" type=\"checkbox\" checked><label for=\"sk-estimator-id-4\" class=\"sk-toggleable__label sk-toggleable__label-arrow\">RandomForestClassifier</label><div class=\"sk-toggleable__content\"><pre>RandomForestClassifier(n_jobs=-1, random_state=2018)</pre></div></div></div></div></div>"
            ]
          },
          "metadata": {},
          "execution_count": 139
        }
      ]
    },
    {
      "cell_type": "code",
      "source": [
        "%time forest = forest.fit(lsa_top, df['sentiment'])"
      ],
      "metadata": {
        "colab": {
          "base_uri": "https://localhost:8080/"
        },
        "id": "faAGQOOyAZUB",
        "outputId": "c17f60fc-8152-4d28-81c4-7b5064effb3d"
      },
      "execution_count": 140,
      "outputs": [
        {
          "output_type": "stream",
          "name": "stdout",
          "text": [
            "CPU times: user 8.18 s, sys: 81.2 ms, total: 8.26 s\n",
            "Wall time: 4.44 s\n"
          ]
        }
      ]
    },
    {
      "cell_type": "code",
      "source": [
        "# import joblib\n",
        "# joblib.dump(forest, filepath+'trained_forest_model.pkl')"
      ],
      "metadata": {
        "id": "9UEz85N6Ck9j"
      },
      "execution_count": 141,
      "outputs": []
    },
    {
      "cell_type": "code",
      "source": [
        "vocab = vect.get_feature_names_out()\n",
        "print(len(vocab))\n",
        "vocab[:10]"
      ],
      "metadata": {
        "colab": {
          "base_uri": "https://localhost:8080/"
        },
        "id": "psjpUhqoC4oW",
        "outputId": "59065d5e-d6ce-4523-8ec0-79c2ed9663c9"
      },
      "execution_count": 142,
      "outputs": [
        {
          "output_type": "stream",
          "name": "stdout",
          "text": [
            "10000\n"
          ]
        },
        {
          "output_type": "execute_result",
          "data": {
            "text/plain": [
              "array(['aag', 'aaron', 'ab', 'abandon', 'abbey', 'abbi', 'abbot',\n",
              "       'abbott', 'abc', 'abduct'], dtype=object)"
            ]
          },
          "metadata": {},
          "execution_count": 142
        }
      ]
    },
    {
      "cell_type": "code",
      "source": [
        "from sklearn.model_selection import cross_val_score\n",
        "%time score = np.mean(cross_val_score(\\\n",
        "    forest, lsa_top, \\\n",
        "    df['sentiment'], cv=5, scoring='roc_auc'))\n",
        "score"
      ],
      "metadata": {
        "colab": {
          "base_uri": "https://localhost:8080/"
        },
        "id": "vMPfSP9YDUsI",
        "outputId": "95ba009e-ef79-47a4-8c6b-eb938df7ceb9"
      },
      "execution_count": 143,
      "outputs": [
        {
          "output_type": "stream",
          "name": "stdout",
          "text": [
            "CPU times: user 32.6 s, sys: 354 ms, total: 32.9 s\n",
            "Wall time: 19.4 s\n"
          ]
        },
        {
          "output_type": "execute_result",
          "data": {
            "text/plain": [
              "0.562020192"
            ]
          },
          "metadata": {},
          "execution_count": 143
        }
      ]
    },
    {
      "cell_type": "markdown",
      "metadata": {
        "id": "AdpqVzOs3wmF"
      },
      "source": [
        "# 예측"
      ]
    },
    {
      "cell_type": "code",
      "source": [
        "test = pd.read_csv('https://github.com/corazzon/KaggleStruggle/raw/master/word2vec-nlp-tutorial/data/testData.tsv', delimiter='\\t', quoting=3)"
      ],
      "metadata": {
        "id": "G4HyJWDcDw70"
      },
      "execution_count": 144,
      "outputs": []
    },
    {
      "cell_type": "code",
      "source": [
        "test['review']=test['review'].apply(clean_text)"
      ],
      "metadata": {
        "colab": {
          "base_uri": "https://localhost:8080/"
        },
        "id": "D11XwvQCFpgu",
        "outputId": "01cea401-8fe5-46cb-d6f2-0f11dea0f6df"
      },
      "execution_count": 145,
      "outputs": [
        {
          "output_type": "stream",
          "name": "stderr",
          "text": [
            "<ipython-input-91-f8b70ae067ee>:3: MarkupResemblesLocatorWarning: The input looks more like a filename than markup. You may want to open this file and pass the filehandle into Beautiful Soup.\n",
            "  review_text = BeautifulSoup(raw_review, 'html.parser').get_text()\n"
          ]
        }
      ]
    },
    {
      "cell_type": "code",
      "source": [
        "test.head()"
      ],
      "metadata": {
        "colab": {
          "base_uri": "https://localhost:8080/",
          "height": 206
        },
        "id": "TaXTppLAGaxW",
        "outputId": "638c73b7-dc3e-4e5e-c17b-92c12a6bce98"
      },
      "execution_count": 146,
      "outputs": [
        {
          "output_type": "execute_result",
          "data": {
            "text/plain": [
              "           id                                             review\n",
              "0  \"12311_10\"  natur film main theme mortal nostalgia loss in...\n",
              "1    \"8348_2\"  movi disast within disast film full great acti...\n",
              "2    \"5828_4\"  movi kid saw tonight child love one point kid ...\n",
              "3    \"7186_2\"  afraid dark left impress sever differ screenpl...\n",
              "4   \"12128_7\"  accur depict small time mob life film new jers..."
            ],
            "text/html": [
              "\n",
              "  <div id=\"df-b12d9f3d-74e7-47e8-94e7-c5f4617a0550\" class=\"colab-df-container\">\n",
              "    <div>\n",
              "<style scoped>\n",
              "    .dataframe tbody tr th:only-of-type {\n",
              "        vertical-align: middle;\n",
              "    }\n",
              "\n",
              "    .dataframe tbody tr th {\n",
              "        vertical-align: top;\n",
              "    }\n",
              "\n",
              "    .dataframe thead th {\n",
              "        text-align: right;\n",
              "    }\n",
              "</style>\n",
              "<table border=\"1\" class=\"dataframe\">\n",
              "  <thead>\n",
              "    <tr style=\"text-align: right;\">\n",
              "      <th></th>\n",
              "      <th>id</th>\n",
              "      <th>review</th>\n",
              "    </tr>\n",
              "  </thead>\n",
              "  <tbody>\n",
              "    <tr>\n",
              "      <th>0</th>\n",
              "      <td>\"12311_10\"</td>\n",
              "      <td>natur film main theme mortal nostalgia loss in...</td>\n",
              "    </tr>\n",
              "    <tr>\n",
              "      <th>1</th>\n",
              "      <td>\"8348_2\"</td>\n",
              "      <td>movi disast within disast film full great acti...</td>\n",
              "    </tr>\n",
              "    <tr>\n",
              "      <th>2</th>\n",
              "      <td>\"5828_4\"</td>\n",
              "      <td>movi kid saw tonight child love one point kid ...</td>\n",
              "    </tr>\n",
              "    <tr>\n",
              "      <th>3</th>\n",
              "      <td>\"7186_2\"</td>\n",
              "      <td>afraid dark left impress sever differ screenpl...</td>\n",
              "    </tr>\n",
              "    <tr>\n",
              "      <th>4</th>\n",
              "      <td>\"12128_7\"</td>\n",
              "      <td>accur depict small time mob life film new jers...</td>\n",
              "    </tr>\n",
              "  </tbody>\n",
              "</table>\n",
              "</div>\n",
              "    <div class=\"colab-df-buttons\">\n",
              "\n",
              "  <div class=\"colab-df-container\">\n",
              "    <button class=\"colab-df-convert\" onclick=\"convertToInteractive('df-b12d9f3d-74e7-47e8-94e7-c5f4617a0550')\"\n",
              "            title=\"Convert this dataframe to an interactive table.\"\n",
              "            style=\"display:none;\">\n",
              "\n",
              "  <svg xmlns=\"http://www.w3.org/2000/svg\" height=\"24px\" viewBox=\"0 -960 960 960\">\n",
              "    <path d=\"M120-120v-720h720v720H120Zm60-500h600v-160H180v160Zm220 220h160v-160H400v160Zm0 220h160v-160H400v160ZM180-400h160v-160H180v160Zm440 0h160v-160H620v160ZM180-180h160v-160H180v160Zm440 0h160v-160H620v160Z\"/>\n",
              "  </svg>\n",
              "    </button>\n",
              "\n",
              "  <style>\n",
              "    .colab-df-container {\n",
              "      display:flex;\n",
              "      gap: 12px;\n",
              "    }\n",
              "\n",
              "    .colab-df-convert {\n",
              "      background-color: #E8F0FE;\n",
              "      border: none;\n",
              "      border-radius: 50%;\n",
              "      cursor: pointer;\n",
              "      display: none;\n",
              "      fill: #1967D2;\n",
              "      height: 32px;\n",
              "      padding: 0 0 0 0;\n",
              "      width: 32px;\n",
              "    }\n",
              "\n",
              "    .colab-df-convert:hover {\n",
              "      background-color: #E2EBFA;\n",
              "      box-shadow: 0px 1px 2px rgba(60, 64, 67, 0.3), 0px 1px 3px 1px rgba(60, 64, 67, 0.15);\n",
              "      fill: #174EA6;\n",
              "    }\n",
              "\n",
              "    .colab-df-buttons div {\n",
              "      margin-bottom: 4px;\n",
              "    }\n",
              "\n",
              "    [theme=dark] .colab-df-convert {\n",
              "      background-color: #3B4455;\n",
              "      fill: #D2E3FC;\n",
              "    }\n",
              "\n",
              "    [theme=dark] .colab-df-convert:hover {\n",
              "      background-color: #434B5C;\n",
              "      box-shadow: 0px 1px 3px 1px rgba(0, 0, 0, 0.15);\n",
              "      filter: drop-shadow(0px 1px 2px rgba(0, 0, 0, 0.3));\n",
              "      fill: #FFFFFF;\n",
              "    }\n",
              "  </style>\n",
              "\n",
              "    <script>\n",
              "      const buttonEl =\n",
              "        document.querySelector('#df-b12d9f3d-74e7-47e8-94e7-c5f4617a0550 button.colab-df-convert');\n",
              "      buttonEl.style.display =\n",
              "        google.colab.kernel.accessAllowed ? 'block' : 'none';\n",
              "\n",
              "      async function convertToInteractive(key) {\n",
              "        const element = document.querySelector('#df-b12d9f3d-74e7-47e8-94e7-c5f4617a0550');\n",
              "        const dataTable =\n",
              "          await google.colab.kernel.invokeFunction('convertToInteractive',\n",
              "                                                    [key], {});\n",
              "        if (!dataTable) return;\n",
              "\n",
              "        const docLinkHtml = 'Like what you see? Visit the ' +\n",
              "          '<a target=\"_blank\" href=https://colab.research.google.com/notebooks/data_table.ipynb>data table notebook</a>'\n",
              "          + ' to learn more about interactive tables.';\n",
              "        element.innerHTML = '';\n",
              "        dataTable['output_type'] = 'display_data';\n",
              "        await google.colab.output.renderOutput(dataTable, element);\n",
              "        const docLink = document.createElement('div');\n",
              "        docLink.innerHTML = docLinkHtml;\n",
              "        element.appendChild(docLink);\n",
              "      }\n",
              "    </script>\n",
              "  </div>\n",
              "\n",
              "\n",
              "<div id=\"df-7d267db2-25cb-4308-a86b-ac90bfd9bd71\">\n",
              "  <button class=\"colab-df-quickchart\" onclick=\"quickchart('df-7d267db2-25cb-4308-a86b-ac90bfd9bd71')\"\n",
              "            title=\"Suggest charts\"\n",
              "            style=\"display:none;\">\n",
              "\n",
              "<svg xmlns=\"http://www.w3.org/2000/svg\" height=\"24px\"viewBox=\"0 0 24 24\"\n",
              "     width=\"24px\">\n",
              "    <g>\n",
              "        <path d=\"M19 3H5c-1.1 0-2 .9-2 2v14c0 1.1.9 2 2 2h14c1.1 0 2-.9 2-2V5c0-1.1-.9-2-2-2zM9 17H7v-7h2v7zm4 0h-2V7h2v10zm4 0h-2v-4h2v4z\"/>\n",
              "    </g>\n",
              "</svg>\n",
              "  </button>\n",
              "\n",
              "<style>\n",
              "  .colab-df-quickchart {\n",
              "      --bg-color: #E8F0FE;\n",
              "      --fill-color: #1967D2;\n",
              "      --hover-bg-color: #E2EBFA;\n",
              "      --hover-fill-color: #174EA6;\n",
              "      --disabled-fill-color: #AAA;\n",
              "      --disabled-bg-color: #DDD;\n",
              "  }\n",
              "\n",
              "  [theme=dark] .colab-df-quickchart {\n",
              "      --bg-color: #3B4455;\n",
              "      --fill-color: #D2E3FC;\n",
              "      --hover-bg-color: #434B5C;\n",
              "      --hover-fill-color: #FFFFFF;\n",
              "      --disabled-bg-color: #3B4455;\n",
              "      --disabled-fill-color: #666;\n",
              "  }\n",
              "\n",
              "  .colab-df-quickchart {\n",
              "    background-color: var(--bg-color);\n",
              "    border: none;\n",
              "    border-radius: 50%;\n",
              "    cursor: pointer;\n",
              "    display: none;\n",
              "    fill: var(--fill-color);\n",
              "    height: 32px;\n",
              "    padding: 0;\n",
              "    width: 32px;\n",
              "  }\n",
              "\n",
              "  .colab-df-quickchart:hover {\n",
              "    background-color: var(--hover-bg-color);\n",
              "    box-shadow: 0 1px 2px rgba(60, 64, 67, 0.3), 0 1px 3px 1px rgba(60, 64, 67, 0.15);\n",
              "    fill: var(--button-hover-fill-color);\n",
              "  }\n",
              "\n",
              "  .colab-df-quickchart-complete:disabled,\n",
              "  .colab-df-quickchart-complete:disabled:hover {\n",
              "    background-color: var(--disabled-bg-color);\n",
              "    fill: var(--disabled-fill-color);\n",
              "    box-shadow: none;\n",
              "  }\n",
              "\n",
              "  .colab-df-spinner {\n",
              "    border: 2px solid var(--fill-color);\n",
              "    border-color: transparent;\n",
              "    border-bottom-color: var(--fill-color);\n",
              "    animation:\n",
              "      spin 1s steps(1) infinite;\n",
              "  }\n",
              "\n",
              "  @keyframes spin {\n",
              "    0% {\n",
              "      border-color: transparent;\n",
              "      border-bottom-color: var(--fill-color);\n",
              "      border-left-color: var(--fill-color);\n",
              "    }\n",
              "    20% {\n",
              "      border-color: transparent;\n",
              "      border-left-color: var(--fill-color);\n",
              "      border-top-color: var(--fill-color);\n",
              "    }\n",
              "    30% {\n",
              "      border-color: transparent;\n",
              "      border-left-color: var(--fill-color);\n",
              "      border-top-color: var(--fill-color);\n",
              "      border-right-color: var(--fill-color);\n",
              "    }\n",
              "    40% {\n",
              "      border-color: transparent;\n",
              "      border-right-color: var(--fill-color);\n",
              "      border-top-color: var(--fill-color);\n",
              "    }\n",
              "    60% {\n",
              "      border-color: transparent;\n",
              "      border-right-color: var(--fill-color);\n",
              "    }\n",
              "    80% {\n",
              "      border-color: transparent;\n",
              "      border-right-color: var(--fill-color);\n",
              "      border-bottom-color: var(--fill-color);\n",
              "    }\n",
              "    90% {\n",
              "      border-color: transparent;\n",
              "      border-bottom-color: var(--fill-color);\n",
              "    }\n",
              "  }\n",
              "</style>\n",
              "\n",
              "  <script>\n",
              "    async function quickchart(key) {\n",
              "      const quickchartButtonEl =\n",
              "        document.querySelector('#' + key + ' button');\n",
              "      quickchartButtonEl.disabled = true;  // To prevent multiple clicks.\n",
              "      quickchartButtonEl.classList.add('colab-df-spinner');\n",
              "      try {\n",
              "        const charts = await google.colab.kernel.invokeFunction(\n",
              "            'suggestCharts', [key], {});\n",
              "      } catch (error) {\n",
              "        console.error('Error during call to suggestCharts:', error);\n",
              "      }\n",
              "      quickchartButtonEl.classList.remove('colab-df-spinner');\n",
              "      quickchartButtonEl.classList.add('colab-df-quickchart-complete');\n",
              "    }\n",
              "    (() => {\n",
              "      let quickchartButtonEl =\n",
              "        document.querySelector('#df-7d267db2-25cb-4308-a86b-ac90bfd9bd71 button');\n",
              "      quickchartButtonEl.style.display =\n",
              "        google.colab.kernel.accessAllowed ? 'block' : 'none';\n",
              "    })();\n",
              "  </script>\n",
              "</div>\n",
              "\n",
              "    </div>\n",
              "  </div>\n"
            ],
            "application/vnd.google.colaboratory.intrinsic+json": {
              "type": "dataframe",
              "variable_name": "test",
              "summary": "{\n  \"name\": \"test\",\n  \"rows\": 25000,\n  \"fields\": [\n    {\n      \"column\": \"id\",\n      \"properties\": {\n        \"dtype\": \"string\",\n        \"num_unique_values\": 25000,\n        \"samples\": [\n          \"\\\"10610_7\\\"\",\n          \"\\\"10557_8\\\"\",\n          \"\\\"3118_9\\\"\"\n        ],\n        \"semantic_type\": \"\",\n        \"description\": \"\"\n      }\n    },\n    {\n      \"column\": \"review\",\n      \"properties\": {\n        \"dtype\": \"string\",\n        \"num_unique_values\": 24796,\n        \"samples\": [\n          \"look posit user comment movi check see often one post user comment post seem compani probabl pay servic post junk pro movi comment imdb movi aw plot stupid act poor joke even funni movi includ minor nuditi look like porn actress none charact clear first minut movi funni slapstick humor suppos deriv charact talk behind back spread rumor even done well everi joke obvious see come movi worthi fast forward better yet watch regret watch movi could charg studio distributor hrs stole would\",\n          \"class tous risqu feel like granddaddi soprano mix crimin domest buddi film feel contemporari reservoir dog even gangster affection entangl wive children lover parent cold ruthless constant remind matter warm situat also see tousl kid hair shoot threat cold blood key loyalti male camaraderi beauti convey without ethnic class stereotyp even web past oblig pay back narrow suspicion paranoia old gang various stage parol retir bail new less profit ventur intens accus send stranger perform old escap scenario high point emot wife told one gangster friend virtual time hear music soundtrack recal wife streetscap itali franc marvel use blind daylight dark water highway open set pair brazen robber travel one wife two kid rug craggi lino ventura captur screen immedi crimin dad second thug clear casual avuncular presenc live smooth coordin theft escap car buse boat motorcycl easi tandem clich crusti old guy soften big eye orphan job famili intersect horrif way film pull punch unexpect kill charact direct collater damag challeng sympathi right unsentiment end probabl never american remak seem fresh jean paul belmondo enter almost third way film look insouci young punk one realiz sultri sandra milo smart terrif chemistri ambul elev hospit bed film forum show new mm print newli translat subtitl pristin program note explain titl refer kind insur polici pun tourist class\",\n          \"surpris movi get chair wait last minut film leav leap sweet tast want good actor portugues actor lot experi world theater film million euro budget film still see destruct car excel perspect get movi opportun get hand excel film wait anoth minut see film think portugues film increas qualiti watch spanish produc portugues get high qualiti standard saw film wait\"\n        ],\n        \"semantic_type\": \"\",\n        \"description\": \"\"\n      }\n    }\n  ]\n}"
            }
          },
          "metadata": {},
          "execution_count": 146
        }
      ]
    },
    {
      "cell_type": "code",
      "execution_count": 147,
      "metadata": {
        "id": "G6cDpn7wBFf3"
      },
      "outputs": [],
      "source": [
        "test_data_features = vect.transform(test['review'])\n",
        "# test_data_features = test_data_features.toarray()"
      ]
    },
    {
      "cell_type": "code",
      "execution_count": 148,
      "metadata": {
        "id": "vOmGFzGh3wmF",
        "colab": {
          "base_uri": "https://localhost:8080/"
        },
        "outputId": "f895322c-e1b8-432b-c72a-e036a3d4d6e1"
      },
      "outputs": [
        {
          "output_type": "execute_result",
          "data": {
            "text/plain": [
              "<25000x10000 sparse matrix of type '<class 'numpy.float64'>'\n",
              "\twith 2162848 stored elements in Compressed Sparse Row format>"
            ]
          },
          "metadata": {},
          "execution_count": 148
        }
      ],
      "source": [
        "test_data_features"
      ]
    },
    {
      "cell_type": "code",
      "source": [
        "lsa_top=lsa_model.fit_transform(test_data_features)"
      ],
      "metadata": {
        "id": "f02v3qfiIFXJ"
      },
      "execution_count": 149,
      "outputs": []
    },
    {
      "cell_type": "code",
      "source": [
        "print(lsa_top[0])\n",
        "print(lsa_top.shape)"
      ],
      "metadata": {
        "colab": {
          "base_uri": "https://localhost:8080/"
        },
        "id": "L2lPLtTjIoSM",
        "outputId": "ae923f9f-8c04-4e0f-b9ae-817ed22c3ab2"
      },
      "execution_count": 150,
      "outputs": [
        {
          "output_type": "stream",
          "name": "stdout",
          "text": [
            "[ 0.1555627  -0.11958903]\n",
            "(25000, 2)\n"
          ]
        }
      ]
    },
    {
      "cell_type": "code",
      "source": [
        "l=lsa_top[0]\n",
        "print(\"Document 0 :\")\n",
        "for i,topic in enumerate(l):\n",
        "  print(\"Topic \",i,\" : \",topic*100)"
      ],
      "metadata": {
        "colab": {
          "base_uri": "https://localhost:8080/"
        },
        "id": "k_64wDoyIp6O",
        "outputId": "fc78c8be-4297-49e5-848d-ba2993324d9a"
      },
      "execution_count": 151,
      "outputs": [
        {
          "output_type": "stream",
          "name": "stdout",
          "text": [
            "Document 0 :\n",
            "Topic  0  :  15.556269930434679\n",
            "Topic  1  :  -11.958903241224974\n"
          ]
        }
      ]
    },
    {
      "cell_type": "code",
      "source": [
        "print(lsa_model.components_.shape) # (no_of_topics*no_of_words)\n",
        "print(lsa_model.components_)"
      ],
      "metadata": {
        "colab": {
          "base_uri": "https://localhost:8080/"
        },
        "id": "MB5nLtChIsrL",
        "outputId": "e15691cd-c289-4146-ff3a-8616c9fb2be0"
      },
      "execution_count": 152,
      "outputs": [
        {
          "output_type": "stream",
          "name": "stdout",
          "text": [
            "(2, 10000)\n",
            "[[ 6.84814988e-25  3.26455499e-03  6.36109869e-04 ...  2.06237031e-04\n",
            "   1.05344786e-04  5.93265535e-04]\n",
            " [-1.84249725e-16  6.89991162e-04 -7.07726648e-04 ...  5.67786469e-05\n",
            "   1.01033959e-04  9.38026001e-05]]\n"
          ]
        }
      ]
    },
    {
      "cell_type": "code",
      "source": [
        "test_data_features = test_data_features.toarray()\n",
        "test_data_features"
      ],
      "metadata": {
        "colab": {
          "base_uri": "https://localhost:8080/"
        },
        "id": "UKC1rY3JJRxw",
        "outputId": "b5fe432b-13cb-4892-ae5f-f1e8f2496753"
      },
      "execution_count": 153,
      "outputs": [
        {
          "output_type": "execute_result",
          "data": {
            "text/plain": [
              "array([[0., 0., 0., ..., 0., 0., 0.],\n",
              "       [0., 0., 0., ..., 0., 0., 0.],\n",
              "       [0., 0., 0., ..., 0., 0., 0.],\n",
              "       ...,\n",
              "       [0., 0., 0., ..., 0., 0., 0.],\n",
              "       [0., 0., 0., ..., 0., 0., 0.],\n",
              "       [0., 0., 0., ..., 0., 0., 0.]])"
            ]
          },
          "metadata": {},
          "execution_count": 153
        }
      ]
    },
    {
      "cell_type": "code",
      "execution_count": 154,
      "metadata": {
        "id": "78-EKV_R3wmF"
      },
      "outputs": [],
      "source": [
        "# 벡터화 하며 만든 사전에서 해당 단어가 무엇인지 찾아볼 수 있다.\n",
        "# vocab = vectorizer.get_feature_names()\n",
        "# vocab[8], vocab[2558], vocab[2559], vocab[2560]"
      ]
    },
    {
      "cell_type": "code",
      "execution_count": 155,
      "metadata": {
        "id": "xqQV0xHT3wmF",
        "colab": {
          "base_uri": "https://localhost:8080/"
        },
        "outputId": "8d2f8cb0-34a7-47fc-8cf2-a8630df90902"
      },
      "outputs": [
        {
          "output_type": "execute_result",
          "data": {
            "text/plain": [
              "array([1, 0, 1, 1, 1, 1, 0, 1, 0, 0])"
            ]
          },
          "metadata": {},
          "execution_count": 155
        }
      ],
      "source": [
        "# 테스트 데이터를 넣고 예측한다.\n",
        "result = forest.predict(lsa_top)\n",
        "result[:10]"
      ]
    },
    {
      "cell_type": "markdown",
      "metadata": {
        "id": "HihpTKsc3wmF"
      },
      "source": [
        "# 캐글 제출을 위해 예측결과 저장"
      ]
    },
    {
      "cell_type": "code",
      "execution_count": 156,
      "metadata": {
        "id": "dPgAmnQ-3wmG",
        "colab": {
          "base_uri": "https://localhost:8080/",
          "height": 206
        },
        "outputId": "573b30a4-4198-4dfd-8232-8b564d500e5a"
      },
      "outputs": [
        {
          "output_type": "execute_result",
          "data": {
            "text/plain": [
              "           id  sentiment\n",
              "0  \"12311_10\"          1\n",
              "1    \"8348_2\"          0\n",
              "2    \"5828_4\"          1\n",
              "3    \"7186_2\"          1\n",
              "4   \"12128_7\"          1"
            ],
            "text/html": [
              "\n",
              "  <div id=\"df-db3891e5-3a0d-4463-a30b-192a70766ac6\" class=\"colab-df-container\">\n",
              "    <div>\n",
              "<style scoped>\n",
              "    .dataframe tbody tr th:only-of-type {\n",
              "        vertical-align: middle;\n",
              "    }\n",
              "\n",
              "    .dataframe tbody tr th {\n",
              "        vertical-align: top;\n",
              "    }\n",
              "\n",
              "    .dataframe thead th {\n",
              "        text-align: right;\n",
              "    }\n",
              "</style>\n",
              "<table border=\"1\" class=\"dataframe\">\n",
              "  <thead>\n",
              "    <tr style=\"text-align: right;\">\n",
              "      <th></th>\n",
              "      <th>id</th>\n",
              "      <th>sentiment</th>\n",
              "    </tr>\n",
              "  </thead>\n",
              "  <tbody>\n",
              "    <tr>\n",
              "      <th>0</th>\n",
              "      <td>\"12311_10\"</td>\n",
              "      <td>1</td>\n",
              "    </tr>\n",
              "    <tr>\n",
              "      <th>1</th>\n",
              "      <td>\"8348_2\"</td>\n",
              "      <td>0</td>\n",
              "    </tr>\n",
              "    <tr>\n",
              "      <th>2</th>\n",
              "      <td>\"5828_4\"</td>\n",
              "      <td>1</td>\n",
              "    </tr>\n",
              "    <tr>\n",
              "      <th>3</th>\n",
              "      <td>\"7186_2\"</td>\n",
              "      <td>1</td>\n",
              "    </tr>\n",
              "    <tr>\n",
              "      <th>4</th>\n",
              "      <td>\"12128_7\"</td>\n",
              "      <td>1</td>\n",
              "    </tr>\n",
              "  </tbody>\n",
              "</table>\n",
              "</div>\n",
              "    <div class=\"colab-df-buttons\">\n",
              "\n",
              "  <div class=\"colab-df-container\">\n",
              "    <button class=\"colab-df-convert\" onclick=\"convertToInteractive('df-db3891e5-3a0d-4463-a30b-192a70766ac6')\"\n",
              "            title=\"Convert this dataframe to an interactive table.\"\n",
              "            style=\"display:none;\">\n",
              "\n",
              "  <svg xmlns=\"http://www.w3.org/2000/svg\" height=\"24px\" viewBox=\"0 -960 960 960\">\n",
              "    <path d=\"M120-120v-720h720v720H120Zm60-500h600v-160H180v160Zm220 220h160v-160H400v160Zm0 220h160v-160H400v160ZM180-400h160v-160H180v160Zm440 0h160v-160H620v160ZM180-180h160v-160H180v160Zm440 0h160v-160H620v160Z\"/>\n",
              "  </svg>\n",
              "    </button>\n",
              "\n",
              "  <style>\n",
              "    .colab-df-container {\n",
              "      display:flex;\n",
              "      gap: 12px;\n",
              "    }\n",
              "\n",
              "    .colab-df-convert {\n",
              "      background-color: #E8F0FE;\n",
              "      border: none;\n",
              "      border-radius: 50%;\n",
              "      cursor: pointer;\n",
              "      display: none;\n",
              "      fill: #1967D2;\n",
              "      height: 32px;\n",
              "      padding: 0 0 0 0;\n",
              "      width: 32px;\n",
              "    }\n",
              "\n",
              "    .colab-df-convert:hover {\n",
              "      background-color: #E2EBFA;\n",
              "      box-shadow: 0px 1px 2px rgba(60, 64, 67, 0.3), 0px 1px 3px 1px rgba(60, 64, 67, 0.15);\n",
              "      fill: #174EA6;\n",
              "    }\n",
              "\n",
              "    .colab-df-buttons div {\n",
              "      margin-bottom: 4px;\n",
              "    }\n",
              "\n",
              "    [theme=dark] .colab-df-convert {\n",
              "      background-color: #3B4455;\n",
              "      fill: #D2E3FC;\n",
              "    }\n",
              "\n",
              "    [theme=dark] .colab-df-convert:hover {\n",
              "      background-color: #434B5C;\n",
              "      box-shadow: 0px 1px 3px 1px rgba(0, 0, 0, 0.15);\n",
              "      filter: drop-shadow(0px 1px 2px rgba(0, 0, 0, 0.3));\n",
              "      fill: #FFFFFF;\n",
              "    }\n",
              "  </style>\n",
              "\n",
              "    <script>\n",
              "      const buttonEl =\n",
              "        document.querySelector('#df-db3891e5-3a0d-4463-a30b-192a70766ac6 button.colab-df-convert');\n",
              "      buttonEl.style.display =\n",
              "        google.colab.kernel.accessAllowed ? 'block' : 'none';\n",
              "\n",
              "      async function convertToInteractive(key) {\n",
              "        const element = document.querySelector('#df-db3891e5-3a0d-4463-a30b-192a70766ac6');\n",
              "        const dataTable =\n",
              "          await google.colab.kernel.invokeFunction('convertToInteractive',\n",
              "                                                    [key], {});\n",
              "        if (!dataTable) return;\n",
              "\n",
              "        const docLinkHtml = 'Like what you see? Visit the ' +\n",
              "          '<a target=\"_blank\" href=https://colab.research.google.com/notebooks/data_table.ipynb>data table notebook</a>'\n",
              "          + ' to learn more about interactive tables.';\n",
              "        element.innerHTML = '';\n",
              "        dataTable['output_type'] = 'display_data';\n",
              "        await google.colab.output.renderOutput(dataTable, element);\n",
              "        const docLink = document.createElement('div');\n",
              "        docLink.innerHTML = docLinkHtml;\n",
              "        element.appendChild(docLink);\n",
              "      }\n",
              "    </script>\n",
              "  </div>\n",
              "\n",
              "\n",
              "<div id=\"df-247d0016-601e-4d1b-9c36-a2a719b5443c\">\n",
              "  <button class=\"colab-df-quickchart\" onclick=\"quickchart('df-247d0016-601e-4d1b-9c36-a2a719b5443c')\"\n",
              "            title=\"Suggest charts\"\n",
              "            style=\"display:none;\">\n",
              "\n",
              "<svg xmlns=\"http://www.w3.org/2000/svg\" height=\"24px\"viewBox=\"0 0 24 24\"\n",
              "     width=\"24px\">\n",
              "    <g>\n",
              "        <path d=\"M19 3H5c-1.1 0-2 .9-2 2v14c0 1.1.9 2 2 2h14c1.1 0 2-.9 2-2V5c0-1.1-.9-2-2-2zM9 17H7v-7h2v7zm4 0h-2V7h2v10zm4 0h-2v-4h2v4z\"/>\n",
              "    </g>\n",
              "</svg>\n",
              "  </button>\n",
              "\n",
              "<style>\n",
              "  .colab-df-quickchart {\n",
              "      --bg-color: #E8F0FE;\n",
              "      --fill-color: #1967D2;\n",
              "      --hover-bg-color: #E2EBFA;\n",
              "      --hover-fill-color: #174EA6;\n",
              "      --disabled-fill-color: #AAA;\n",
              "      --disabled-bg-color: #DDD;\n",
              "  }\n",
              "\n",
              "  [theme=dark] .colab-df-quickchart {\n",
              "      --bg-color: #3B4455;\n",
              "      --fill-color: #D2E3FC;\n",
              "      --hover-bg-color: #434B5C;\n",
              "      --hover-fill-color: #FFFFFF;\n",
              "      --disabled-bg-color: #3B4455;\n",
              "      --disabled-fill-color: #666;\n",
              "  }\n",
              "\n",
              "  .colab-df-quickchart {\n",
              "    background-color: var(--bg-color);\n",
              "    border: none;\n",
              "    border-radius: 50%;\n",
              "    cursor: pointer;\n",
              "    display: none;\n",
              "    fill: var(--fill-color);\n",
              "    height: 32px;\n",
              "    padding: 0;\n",
              "    width: 32px;\n",
              "  }\n",
              "\n",
              "  .colab-df-quickchart:hover {\n",
              "    background-color: var(--hover-bg-color);\n",
              "    box-shadow: 0 1px 2px rgba(60, 64, 67, 0.3), 0 1px 3px 1px rgba(60, 64, 67, 0.15);\n",
              "    fill: var(--button-hover-fill-color);\n",
              "  }\n",
              "\n",
              "  .colab-df-quickchart-complete:disabled,\n",
              "  .colab-df-quickchart-complete:disabled:hover {\n",
              "    background-color: var(--disabled-bg-color);\n",
              "    fill: var(--disabled-fill-color);\n",
              "    box-shadow: none;\n",
              "  }\n",
              "\n",
              "  .colab-df-spinner {\n",
              "    border: 2px solid var(--fill-color);\n",
              "    border-color: transparent;\n",
              "    border-bottom-color: var(--fill-color);\n",
              "    animation:\n",
              "      spin 1s steps(1) infinite;\n",
              "  }\n",
              "\n",
              "  @keyframes spin {\n",
              "    0% {\n",
              "      border-color: transparent;\n",
              "      border-bottom-color: var(--fill-color);\n",
              "      border-left-color: var(--fill-color);\n",
              "    }\n",
              "    20% {\n",
              "      border-color: transparent;\n",
              "      border-left-color: var(--fill-color);\n",
              "      border-top-color: var(--fill-color);\n",
              "    }\n",
              "    30% {\n",
              "      border-color: transparent;\n",
              "      border-left-color: var(--fill-color);\n",
              "      border-top-color: var(--fill-color);\n",
              "      border-right-color: var(--fill-color);\n",
              "    }\n",
              "    40% {\n",
              "      border-color: transparent;\n",
              "      border-right-color: var(--fill-color);\n",
              "      border-top-color: var(--fill-color);\n",
              "    }\n",
              "    60% {\n",
              "      border-color: transparent;\n",
              "      border-right-color: var(--fill-color);\n",
              "    }\n",
              "    80% {\n",
              "      border-color: transparent;\n",
              "      border-right-color: var(--fill-color);\n",
              "      border-bottom-color: var(--fill-color);\n",
              "    }\n",
              "    90% {\n",
              "      border-color: transparent;\n",
              "      border-bottom-color: var(--fill-color);\n",
              "    }\n",
              "  }\n",
              "</style>\n",
              "\n",
              "  <script>\n",
              "    async function quickchart(key) {\n",
              "      const quickchartButtonEl =\n",
              "        document.querySelector('#' + key + ' button');\n",
              "      quickchartButtonEl.disabled = true;  // To prevent multiple clicks.\n",
              "      quickchartButtonEl.classList.add('colab-df-spinner');\n",
              "      try {\n",
              "        const charts = await google.colab.kernel.invokeFunction(\n",
              "            'suggestCharts', [key], {});\n",
              "      } catch (error) {\n",
              "        console.error('Error during call to suggestCharts:', error);\n",
              "      }\n",
              "      quickchartButtonEl.classList.remove('colab-df-spinner');\n",
              "      quickchartButtonEl.classList.add('colab-df-quickchart-complete');\n",
              "    }\n",
              "    (() => {\n",
              "      let quickchartButtonEl =\n",
              "        document.querySelector('#df-247d0016-601e-4d1b-9c36-a2a719b5443c button');\n",
              "      quickchartButtonEl.style.display =\n",
              "        google.colab.kernel.accessAllowed ? 'block' : 'none';\n",
              "    })();\n",
              "  </script>\n",
              "</div>\n",
              "\n",
              "    </div>\n",
              "  </div>\n"
            ],
            "application/vnd.google.colaboratory.intrinsic+json": {
              "type": "dataframe",
              "variable_name": "output",
              "summary": "{\n  \"name\": \"output\",\n  \"rows\": 25000,\n  \"fields\": [\n    {\n      \"column\": \"id\",\n      \"properties\": {\n        \"dtype\": \"string\",\n        \"num_unique_values\": 25000,\n        \"samples\": [\n          \"\\\"10610_7\\\"\",\n          \"\\\"10557_8\\\"\",\n          \"\\\"3118_9\\\"\"\n        ],\n        \"semantic_type\": \"\",\n        \"description\": \"\"\n      }\n    },\n    {\n      \"column\": \"sentiment\",\n      \"properties\": {\n        \"dtype\": \"number\",\n        \"std\": 0,\n        \"min\": 0,\n        \"max\": 1,\n        \"num_unique_values\": 2,\n        \"samples\": [\n          0,\n          1\n        ],\n        \"semantic_type\": \"\",\n        \"description\": \"\"\n      }\n    }\n  ]\n}"
            }
          },
          "metadata": {},
          "execution_count": 156
        }
      ],
      "source": [
        "# 예측 결과를 저장하기 위해 데이터프레임에 담아 준다.\n",
        "output = pd.DataFrame(data={'id':test['id'], 'sentiment':result})\n",
        "output.head()"
      ]
    },
    {
      "cell_type": "code",
      "execution_count": 157,
      "metadata": {
        "id": "taw9CFT53wmG"
      },
      "outputs": [],
      "source": [
        "# output.to_csv('lsa_max_feat_'+max_feat+'_n_comp_'+n_comp+'.csv', index=False, quoting=3)\n",
        "output.to_csv('lsa_max_feat_%s_n_comp_%s.csv' % (max_feat, n_comp), index=False, quoting=3)"
      ]
    },
    {
      "cell_type": "code",
      "execution_count": 158,
      "metadata": {
        "id": "l1FPZMXMpFv6",
        "colab": {
          "base_uri": "https://localhost:8080/"
        },
        "outputId": "027051b1-2fd9-4c74-db0f-ffde72e75bb1"
      },
      "outputs": [
        {
          "output_type": "stream",
          "name": "stdout",
          "text": [
            "1132\n"
          ]
        },
        {
          "output_type": "execute_result",
          "data": {
            "text/plain": [
              "0    13066\n",
              "1    11934\n",
              "Name: sentiment, dtype: int64"
            ]
          },
          "metadata": {},
          "execution_count": 158
        }
      ],
      "source": [
        "output_sentiment = output['sentiment'].value_counts()\n",
        "print(np.abs(output_sentiment[0] - output_sentiment[1]))\n",
        "output_sentiment"
      ]
    },
    {
      "cell_type": "markdown",
      "source": [
        "===================="
      ],
      "metadata": {
        "id": "RIMgvbdpKseK"
      }
    },
    {
      "cell_type": "markdown",
      "metadata": {
        "papermill": {
          "duration": 0.02676,
          "end_time": "2020-09-21T19:01:01.208699",
          "exception": false,
          "start_time": "2020-09-21T19:01:01.181939",
          "status": "completed"
        },
        "tags": [],
        "id": "DqIkJYft6Q2R"
      },
      "source": [
        "To better visualize words in a topic we can see the word cloud. For each topic top 25 words are plotted."
      ]
    },
    {
      "cell_type": "code",
      "execution_count": 159,
      "metadata": {
        "execution": {
          "iopub.execute_input": "2020-09-21T19:01:01.269660Z",
          "iopub.status.busy": "2020-09-21T19:01:01.268897Z",
          "iopub.status.idle": "2020-09-21T19:01:01.303419Z",
          "shell.execute_reply": "2020-09-21T19:01:01.302876Z"
        },
        "papermill": {
          "duration": 0.067982,
          "end_time": "2020-09-21T19:01:01.303523",
          "exception": false,
          "start_time": "2020-09-21T19:01:01.235541",
          "status": "completed"
        },
        "tags": [],
        "id": "92LXi33B6Q2R"
      },
      "outputs": [],
      "source": [
        "from wordcloud import WordCloud\n",
        "# Generate a word cloud image for given topic\n",
        "def draw_word_cloud(index):\n",
        "  imp_words_topic=\"\"\n",
        "  comp=lsa_model.components_[index]\n",
        "  vocab_comp = zip(vocab, comp)\n",
        "  sorted_words = sorted(vocab_comp, key= lambda x:x[1], reverse=True)[:25]\n",
        "  for word in sorted_words:\n",
        "    imp_words_topic=imp_words_topic+\" \"+word[0]\n",
        "\n",
        "  wordcloud = WordCloud(width=900, height=600).generate(imp_words_topic)\n",
        "  plt.figure( figsize=(5,5))\n",
        "  plt.imshow(wordcloud)\n",
        "  plt.axis(\"off\")\n",
        "  plt.tight_layout()\n",
        "  plt.show()"
      ]
    },
    {
      "cell_type": "code",
      "execution_count": 160,
      "metadata": {
        "execution": {
          "iopub.execute_input": "2020-09-21T19:01:01.365143Z",
          "iopub.status.busy": "2020-09-21T19:01:01.364250Z",
          "iopub.status.idle": "2020-09-21T19:01:02.098968Z",
          "shell.execute_reply": "2020-09-21T19:01:02.098296Z"
        },
        "papermill": {
          "duration": 0.767511,
          "end_time": "2020-09-21T19:01:02.099086",
          "exception": false,
          "start_time": "2020-09-21T19:01:01.331575",
          "status": "completed"
        },
        "tags": [],
        "colab": {
          "base_uri": "https://localhost:8080/",
          "height": 342
        },
        "id": "SFui14tf6Q2R",
        "outputId": "0de9c0d5-6cc8-4817-b036-bde4b71efa1f"
      },
      "outputs": [
        {
          "output_type": "display_data",
          "data": {
            "text/plain": [
              "<Figure size 500x500 with 1 Axes>"
            ],
            "image/png": "[encoded data removed]"
          },
          "metadata": {}
        }
      ],
      "source": [
        "# topic 0\n",
        "draw_word_cloud(0)"
      ]
    },
    {
      "cell_type": "code",
      "source": [
        "draw_word_cloud(1)"
      ],
      "metadata": {
        "colab": {
          "base_uri": "https://localhost:8080/",
          "height": 342
        },
        "id": "TwOBYU1FYWmX",
        "outputId": "1c580960-a754-4c56-bd4b-ca37a610670b"
      },
      "execution_count": 161,
      "outputs": [
        {
          "output_type": "display_data",
          "data": {
            "text/plain": [
              "<Figure size 500x500 with 1 Axes>"
            ],
            "image/png": "[encoded data removed]"
          },
          "metadata": {}
        }
      ]
    }
  ],
  "metadata": {
    "kernelspec": {
      "display_name": "Python 3",
      "language": "python",
      "name": "python3"
    },
    "language_info": {
      "codemirror_mode": {
        "name": "ipython",
        "version": 3
      },
      "file_extension": ".py",
      "mimetype": "text/x-python",
      "name": "python",
      "nbconvert_exporter": "python",
      "pygments_lexer": "ipython3",
      "version": "3.7.6"
    },
    "papermill": {
      "duration": 37.660499,
      "end_time": "2020-09-21T19:01:02.236872",
      "environment_variables": {},
      "exception": null,
      "input_path": "__notebook__.ipynb",
      "output_path": "__notebook__.ipynb",
      "parameters": {},
      "start_time": "2020-09-21T19:00:24.576373",
      "version": "2.1.0"
    },
    "colab": {
      "provenance": []
    }
  },
  "nbformat": 4,
  "nbformat_minor": 0
}