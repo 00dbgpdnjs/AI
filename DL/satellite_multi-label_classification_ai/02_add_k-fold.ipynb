{
 "cells": [
  {
   "cell_type": "code",
   "execution_count": 46,
   "id": "237791fd-a0d2-4955-8c3b-ad16e8169a29",
   "metadata": {},
   "outputs": [],
   "source": [
    "# import shutil\n",
    "\n",
    "# file_name = \"open.zip\"\n",
    "# # output_dir = \"dataset/dataset\"\n",
    "# output_dir = \".\"\n",
    "\n",
    "# format = \"zip\"\n",
    "# shutil.unpack_archive(file_name, output_dir, format)"
   ]
  },
  {
   "cell_type": "code",
   "execution_count": 47,
   "id": "f06ae11e-6d3c-41a9-a45f-01bb55c53d65",
   "metadata": {},
   "outputs": [],
   "source": [
    "import torch\n",
    "import torch.nn as nn\n",
    "import torch.optim as optim\n",
    "import numpy as np\n",
    "import pandas as pd\n",
    "\n",
    "SEED = 777\n",
    "\n",
    "np.random.seed(SEED)\n",
    "torch.manual_seed(SEED)\n",
    "torch.cuda.manual_seed(SEED)"
   ]
  },
  {
   "cell_type": "code",
   "execution_count": 48,
   "id": "a65005d4-29a2-456b-9472-1f8cd8d4e7ae",
   "metadata": {},
   "outputs": [
    {
     "name": "stdout",
     "output_type": "stream",
     "text": [
      "        img_id                 img_path  airplane  airport  bare soil  \\\n",
      "0  TRAIN_00000  ./train/TRAIN_00000.jpg         0        0          1   \n",
      "1  TRAIN_00001  ./train/TRAIN_00001.jpg         0        0          1   \n",
      "\n",
      "   baseball diamond  basketball court  beach  bridge  buildings  ...  tanks  \\\n",
      "0                 0                 0      0       0          0  ...      0   \n",
      "1                 0                 0      0       0          1  ...      0   \n",
      "\n",
      "   tennis court  terrace  track  trail  transmission tower  trees  water  \\\n",
      "0             0        0      0      0                   0      1      0   \n",
      "1             0        0      0      0                   0      0      0   \n",
      "\n",
      "   wetland  wind turbine  \n",
      "0        0             0  \n",
      "1        0             0  \n",
      "\n",
      "[2 rows x 62 columns]\n"
     ]
    }
   ],
   "source": [
    "df_train = pd.read_csv('train.csv')\n",
    "print(df_train.head(2))"
   ]
  },
  {
   "cell_type": "code",
   "execution_count": 49,
   "id": "96c53775-2de0-4e35-9c23-417ec97567c0",
   "metadata": {},
   "outputs": [
    {
     "name": "stdout",
     "output_type": "stream",
     "text": [
      "       img_id               img_path\n",
      "0  TEST_00000  ./test/TEST_00000.jpg\n",
      "1  TEST_00001  ./test/TEST_00001.jpg\n"
     ]
    }
   ],
   "source": [
    "df_test = pd.read_csv('test.csv')\n",
    "print(df_test.head(2))"
   ]
  },
  {
   "cell_type": "code",
   "execution_count": 50,
   "id": "86d1e71c-25a8-4dfc-895b-a23bd953e6e2",
   "metadata": {},
   "outputs": [
    {
     "name": "stdout",
     "output_type": "stream",
     "text": [
      "65496 43665\n"
     ]
    }
   ],
   "source": [
    "print(len(df_train), len(df_test)) # 65496, 43665"
   ]
  },
  {
   "cell_type": "code",
   "execution_count": 51,
   "id": "3eda90b6-db49-4cdc-93ef-b5b5c126091f",
   "metadata": {},
   "outputs": [],
   "source": [
    "# df_train.info()"
   ]
  },
  {
   "cell_type": "code",
   "execution_count": 52,
   "id": "835db7dc-1992-4007-81cb-eba0bec24a46",
   "metadata": {},
   "outputs": [],
   "source": [
    "# !pip install iterative-stratification"
   ]
  },
  {
   "cell_type": "code",
   "execution_count": 53,
   "id": "da8ceef1-f0ef-40d7-a337-5176fa7bebcd",
   "metadata": {
    "scrolled": true
   },
   "outputs": [],
   "source": [
    "import numpy as np\n",
    "from PIL import Image\n",
    "from sklearn.model_selection import train_test_split\n",
    "from torch.utils.data import Dataset, DataLoader\n",
    "from torchvision import transforms # , models\n",
    "from iterstrat.ml_stratifiers import MultilabelStratifiedKFold\n",
    "\n",
    "# 이미지 경로와 레이블을 나눕니다\n",
    "image_paths = df_train['img_path'].values\n",
    "labels = df_train.iloc[:, 2:].values  # 레이블 열 선택"
   ]
  },
  {
   "cell_type": "code",
   "execution_count": 54,
   "id": "d892fb05-526a-4d27-86b8-bd3cb62830c7",
   "metadata": {},
   "outputs": [],
   "source": [
    "# 사용자 정의 데이터셋 클래스\n",
    "class SatelliteDataset(Dataset):\n",
    "    def __init__(self, image_paths, labels, transform=None):\n",
    "        self.image_paths = image_paths\n",
    "        self.labels = labels\n",
    "        self.transform = transform\n",
    "\n",
    "    def __len__(self):\n",
    "        return len(self.image_paths)\n",
    "\n",
    "    def __getitem__(self, idx):\n",
    "        img_path = self.image_paths[idx]\n",
    "        image = Image.open(img_path).convert('RGB')\n",
    "        label = self.labels[idx].astype(np.float32)\n",
    "\n",
    "        if self.transform:\n",
    "            image = self.transform(image)\n",
    "\n",
    "        return image, label"
   ]
  },
  {
   "cell_type": "code",
   "execution_count": 55,
   "id": "9106bebe-a3ce-431d-a6d2-33f96c01b4b7",
   "metadata": {},
   "outputs": [],
   "source": [
    "# 이미지 전처리 및 데이터 증강\n",
    "train_transform = transforms.Compose([\n",
    "    transforms.Resize((224, 224)),  # Larger size for more complex models\n",
    "    transforms.RandomHorizontalFlip(),\n",
    "    transforms.RandomVerticalFlip(),\n",
    "    transforms.RandomResizedCrop(224, scale=(0.8, 1.0)),\n",
    "    transforms.RandomApply([\n",
    "        transforms.ColorJitter(brightness=0.4, contrast=0.4, saturation=0.4, hue=0.1)\n",
    "    ], p=0.8),\n",
    "    transforms.RandomGrayscale(p=0.2),\n",
    "    transforms.ToTensor(),\n",
    "    transforms.Normalize(mean=[0.485, 0.456, 0.406], std=[0.229, 0.224, 0.225])\n",
    "])\n",
    "\n",
    "val_transform = transforms.Compose([\n",
    "    transforms.Resize((224, 224)),\n",
    "    transforms.ToTensor(),\n",
    "    transforms.Normalize(mean=[0.485, 0.456, 0.406], std=[0.229, 0.224, 0.225])\n",
    "])"
   ]
  },
  {
   "cell_type": "code",
   "execution_count": 56,
   "id": "d775482f-5371-4294-9a11-9971fe23c0ab",
   "metadata": {},
   "outputs": [],
   "source": [
    "k_folds = 5\n",
    "skf = MultilabelStratifiedKFold(n_splits=k_folds, shuffle=True, random_state=42)"
   ]
  },
  {
   "cell_type": "code",
   "execution_count": 57,
   "id": "14c0d45c-2982-42ff-93ba-da0da68be5f7",
   "metadata": {},
   "outputs": [
    {
     "name": "stdout",
     "output_type": "stream",
     "text": [
      "60\n"
     ]
    }
   ],
   "source": [
    "from torchvision.models import resnet50\n",
    "\n",
    "num_classes = labels.shape[1]\n",
    "print(num_classes)"
   ]
  },
  {
   "cell_type": "code",
   "execution_count": 58,
   "id": "f7d09272-c346-408a-898f-8be9e35db215",
   "metadata": {},
   "outputs": [
    {
     "name": "stdout",
     "output_type": "stream",
     "text": [
      "cuda\n"
     ]
    }
   ],
   "source": [
    "from torch.optim import lr_scheduler\n",
    "\n",
    "device = torch.device('cuda' if torch.cuda.is_available() else 'cpu')\n",
    "print(device)"
   ]
  },
  {
   "cell_type": "code",
   "execution_count": 59,
   "id": "f5f47caa-b7af-4ef8-b44f-a96c4b1b68d0",
   "metadata": {},
   "outputs": [],
   "source": [
    "from tqdm import tqdm\n",
    "\n",
    "def train_model(model, train_loader, val_loader, criterion, optimizer, fold, num_epochs=10):\n",
    "    best_val_loss = float('inf')\n",
    "    best_epoch = -1\n",
    "    for epoch in range(num_epochs):\n",
    "        model.train()\n",
    "        train_loss = 0.0\n",
    "        for images, labels in train_loader:\n",
    "            images = images.to(device)\n",
    "            labels = labels.to(device)\n",
    "            \n",
    "            optimizer.zero_grad()\n",
    "            outputs = model(images)\n",
    "            loss = criterion(outputs, labels)\n",
    "            loss.backward()\n",
    "            optimizer.step()\n",
    "\n",
    "            train_loss += loss.item() * images.size(0)\n",
    "        \n",
    "        train_loss /= len(train_loader.dataset)\n",
    "\n",
    "        if epoch >= 9:\n",
    "            torch.save(model.state_dict(), f'{fold}_epoch{epoch}.pt')\n",
    "        \n",
    "        model.eval()\n",
    "        val_loss = 0.0\n",
    "        with torch.no_grad():\n",
    "            for images, labels in val_loader:\n",
    "                images = images.to(device)\n",
    "                labels = labels.to(device)\n",
    "                \n",
    "                outputs = model(images)\n",
    "                loss = criterion(outputs, labels)\n",
    "                \n",
    "                val_loss += loss.item() * images.size(0)\n",
    "        \n",
    "        val_loss /= len(val_loader.dataset)\n",
    "        \n",
    "        scheduler.step()\n",
    "\n",
    "        if epoch % 3 == 0:\n",
    "            print(f'Epoch {epoch+1}/{num_epochs}, Train Loss: {train_loss:.4f}, Val Loss: {val_loss:.4f}')\n",
    "        \n",
    "        if val_loss < best_val_loss:\n",
    "            best_val_loss = val_loss\n",
    "            best_epoch = epoch\n",
    "            best_model = model.state_dict()\n",
    "    print(fold, 'fold | best_val_loss :', best_val_loss, ', best_epoch :', best_epoch)\n",
    "    return best_model"
   ]
  },
  {
   "cell_type": "code",
   "execution_count": 60,
   "id": "fe1c8fbb-e79c-431d-8774-63f083a555b7",
   "metadata": {},
   "outputs": [
    {
     "name": "stderr",
     "output_type": "stream",
     "text": [
      "0it [00:00, ?it/s]"
     ]
    },
    {
     "name": "stdout",
     "output_type": "stream",
     "text": [
      "Fold 1/5\n"
     ]
    },
    {
     "name": "stderr",
     "output_type": "stream",
     "text": [
      "/opt/conda/lib/python3.10/site-packages/torchvision/models/_utils.py:208: UserWarning: The parameter 'pretrained' is deprecated since 0.13 and may be removed in the future, please use 'weights' instead.\n",
      "  warnings.warn(\n",
      "/opt/conda/lib/python3.10/site-packages/torchvision/models/_utils.py:223: UserWarning: Arguments other than a weight enum or `None` for 'weights' are deprecated since 0.13 and may be removed in the future. The current behavior is equivalent to passing `weights=ResNet50_Weights.IMAGENET1K_V1`. You can also use `weights=ResNet50_Weights.DEFAULT` to get the most up-to-date weights.\n",
      "  warnings.warn(msg)\n"
     ]
    },
    {
     "name": "stdout",
     "output_type": "stream",
     "text": [
      "Epoch 1/50, Train Loss: 0.1657, Val Loss: 0.1111\n",
      "Epoch 4/50, Train Loss: 0.0991, Val Loss: 0.0780\n",
      "Epoch 7/50, Train Loss: 0.0861, Val Loss: 0.0710\n",
      "Epoch 10/50, Train Loss: 0.0778, Val Loss: 0.0668\n",
      "Epoch 13/50, Train Loss: 0.0728, Val Loss: 0.0644\n",
      "Epoch 16/50, Train Loss: 0.0683, Val Loss: 0.0598\n",
      "Epoch 19/50, Train Loss: 0.0648, Val Loss: 0.0597\n",
      "Epoch 22/50, Train Loss: 0.0619, Val Loss: 0.0573\n",
      "Epoch 25/50, Train Loss: 0.0590, Val Loss: 0.0572\n",
      "Epoch 28/50, Train Loss: 0.0561, Val Loss: 0.0542\n",
      "Epoch 31/50, Train Loss: 0.0542, Val Loss: 0.0538\n",
      "Epoch 34/50, Train Loss: 0.0533, Val Loss: 0.0546\n",
      "Epoch 37/50, Train Loss: 0.0512, Val Loss: 0.0564\n",
      "Epoch 40/50, Train Loss: 0.0502, Val Loss: 0.0539\n",
      "Epoch 43/50, Train Loss: 0.0477, Val Loss: 0.0547\n",
      "Epoch 46/50, Train Loss: 0.0463, Val Loss: 0.0557\n",
      "Epoch 49/50, Train Loss: 0.0448, Val Loss: 0.0539\n"
     ]
    },
    {
     "name": "stderr",
     "output_type": "stream",
     "text": [
      "1it [1:22:10, 4930.04s/it]"
     ]
    },
    {
     "name": "stdout",
     "output_type": "stream",
     "text": [
      "0 fold | best_val_loss : 0.0515682163144033 , best_epoch : 43\n",
      "Fold 2/5\n",
      "Epoch 1/50, Train Loss: 0.1605, Val Loss: 0.1080\n",
      "Epoch 4/50, Train Loss: 0.0975, Val Loss: 0.0828\n",
      "Epoch 7/50, Train Loss: 0.0849, Val Loss: 0.0714\n",
      "Epoch 10/50, Train Loss: 0.0769, Val Loss: 0.0661\n",
      "Epoch 13/50, Train Loss: 0.0719, Val Loss: 0.0642\n",
      "Epoch 16/50, Train Loss: 0.0670, Val Loss: 0.0603\n",
      "Epoch 19/50, Train Loss: 0.0629, Val Loss: 0.0610\n",
      "Epoch 22/50, Train Loss: 0.0602, Val Loss: 0.0616\n",
      "Epoch 25/50, Train Loss: 0.0586, Val Loss: 0.0584\n",
      "Epoch 28/50, Train Loss: 0.0564, Val Loss: 0.0605\n",
      "Epoch 31/50, Train Loss: 0.0541, Val Loss: 0.0585\n",
      "Epoch 34/50, Train Loss: 0.0515, Val Loss: 0.0574\n",
      "Epoch 37/50, Train Loss: 0.0495, Val Loss: 0.0570\n",
      "Epoch 40/50, Train Loss: 0.0484, Val Loss: 0.0569\n",
      "Epoch 43/50, Train Loss: 0.0465, Val Loss: 0.0577\n",
      "Epoch 46/50, Train Loss: 0.0468, Val Loss: 0.0562\n",
      "Epoch 49/50, Train Loss: 0.0444, Val Loss: 0.0583\n"
     ]
    },
    {
     "name": "stderr",
     "output_type": "stream",
     "text": [
      "2it [2:44:48, 4946.58s/it]"
     ]
    },
    {
     "name": "stdout",
     "output_type": "stream",
     "text": [
      "1 fold | best_val_loss : 0.05492507908032293 , best_epoch : 46\n",
      "Fold 3/5\n",
      "Epoch 1/50, Train Loss: 0.1655, Val Loss: 0.1072\n",
      "Epoch 4/50, Train Loss: 0.0982, Val Loss: 0.0781\n",
      "Epoch 7/50, Train Loss: 0.0849, Val Loss: 0.0700\n",
      "Epoch 10/50, Train Loss: 0.0777, Val Loss: 0.0634\n",
      "Epoch 13/50, Train Loss: 0.0716, Val Loss: 0.0640\n",
      "Epoch 16/50, Train Loss: 0.0675, Val Loss: 0.0587\n",
      "Epoch 19/50, Train Loss: 0.0637, Val Loss: 0.0585\n",
      "Epoch 22/50, Train Loss: 0.0603, Val Loss: 0.0565\n",
      "Epoch 25/50, Train Loss: 0.0578, Val Loss: 0.0550\n",
      "Epoch 28/50, Train Loss: 0.0553, Val Loss: 0.0543\n",
      "Epoch 31/50, Train Loss: 0.0533, Val Loss: 0.0617\n",
      "Epoch 34/50, Train Loss: 0.0514, Val Loss: 0.0536\n",
      "Epoch 37/50, Train Loss: 0.0504, Val Loss: 0.0519\n",
      "Epoch 40/50, Train Loss: 0.0479, Val Loss: 0.0527\n",
      "Epoch 43/50, Train Loss: 0.0467, Val Loss: 0.0600\n",
      "Epoch 46/50, Train Loss: 0.0447, Val Loss: 0.0572\n",
      "Epoch 49/50, Train Loss: 0.0450, Val Loss: 0.0533\n"
     ]
    },
    {
     "name": "stderr",
     "output_type": "stream",
     "text": [
      "3it [4:06:43, 4932.47s/it]"
     ]
    },
    {
     "name": "stdout",
     "output_type": "stream",
     "text": [
      "2 fold | best_val_loss : 0.051895222650090875 , best_epoch : 36\n",
      "Fold 4/5\n",
      "Epoch 1/50, Train Loss: 0.1684, Val Loss: 0.1161\n",
      "Epoch 4/50, Train Loss: 0.0999, Val Loss: 0.0808\n",
      "Epoch 7/50, Train Loss: 0.0854, Val Loss: 0.0764\n",
      "Epoch 10/50, Train Loss: 0.0779, Val Loss: 0.0685\n",
      "Epoch 13/50, Train Loss: 0.0721, Val Loss: 0.0680\n",
      "Epoch 16/50, Train Loss: 0.0687, Val Loss: 0.0641\n",
      "Epoch 19/50, Train Loss: 0.0641, Val Loss: 0.0634\n",
      "Epoch 22/50, Train Loss: 0.0611, Val Loss: 0.0637\n",
      "Epoch 25/50, Train Loss: 0.0584, Val Loss: 0.0619\n",
      "Epoch 28/50, Train Loss: 0.0563, Val Loss: 0.0609\n",
      "Epoch 31/50, Train Loss: 0.0538, Val Loss: 0.0594\n",
      "Epoch 34/50, Train Loss: 0.0519, Val Loss: 0.0605\n",
      "Epoch 37/50, Train Loss: 0.0503, Val Loss: 0.0610\n",
      "Epoch 40/50, Train Loss: 0.0494, Val Loss: 0.0574\n",
      "Epoch 43/50, Train Loss: 0.0475, Val Loss: 0.0615\n",
      "Epoch 46/50, Train Loss: 0.0461, Val Loss: 0.0581\n",
      "Epoch 49/50, Train Loss: 0.0449, Val Loss: 0.0572\n"
     ]
    },
    {
     "name": "stderr",
     "output_type": "stream",
     "text": [
      "4it [5:28:37, 4925.01s/it]"
     ]
    },
    {
     "name": "stdout",
     "output_type": "stream",
     "text": [
      "3 fold | best_val_loss : 0.05721002376025043 , best_epoch : 48\n",
      "Fold 5/5\n",
      "Epoch 1/50, Train Loss: 0.1685, Val Loss: 0.1204\n",
      "Epoch 4/50, Train Loss: 0.0991, Val Loss: 0.0822\n",
      "Epoch 7/50, Train Loss: 0.0847, Val Loss: 0.0715\n",
      "Epoch 10/50, Train Loss: 0.0777, Val Loss: 0.0653\n",
      "Epoch 13/50, Train Loss: 0.0715, Val Loss: 0.0710\n",
      "Epoch 16/50, Train Loss: 0.0674, Val Loss: 0.0752\n",
      "Epoch 19/50, Train Loss: 0.0640, Val Loss: 0.0634\n",
      "Epoch 22/50, Train Loss: 0.0608, Val Loss: 0.0595\n",
      "Epoch 25/50, Train Loss: 0.0589, Val Loss: 0.0570\n",
      "Epoch 28/50, Train Loss: 0.0571, Val Loss: 0.0583\n",
      "Epoch 31/50, Train Loss: 0.0545, Val Loss: 0.0594\n",
      "Epoch 34/50, Train Loss: 0.0530, Val Loss: 0.0604\n",
      "Epoch 37/50, Train Loss: 0.0510, Val Loss: 0.0607\n",
      "Epoch 40/50, Train Loss: 0.0495, Val Loss: 0.0642\n",
      "Epoch 43/50, Train Loss: 0.0476, Val Loss: 0.0581\n",
      "Epoch 46/50, Train Loss: 0.0471, Val Loss: 0.0633\n",
      "Epoch 49/50, Train Loss: 0.0455, Val Loss: 0.0659\n"
     ]
    },
    {
     "name": "stderr",
     "output_type": "stream",
     "text": [
      "5it [6:50:39, 4927.90s/it]"
     ]
    },
    {
     "name": "stdout",
     "output_type": "stream",
     "text": [
      "4 fold | best_val_loss : 0.0563434624211723 , best_epoch : 43\n"
     ]
    },
    {
     "name": "stderr",
     "output_type": "stream",
     "text": [
      "\n"
     ]
    }
   ],
   "source": [
    "best_models = []\n",
    "for fold, (train_idx, val_idx) in tqdm(enumerate(skf.split(image_paths, labels))):\n",
    "    print(f'Fold {fold + 1}/{k_folds}')\n",
    "    \n",
    "    train_paths = image_paths[train_idx]\n",
    "    val_paths = image_paths[val_idx]\n",
    "    train_labels = labels[train_idx]\n",
    "    val_labels = labels[val_idx]\n",
    "    \n",
    "    train_dataset = SatelliteDataset(train_paths, train_labels, transform=train_transform)\n",
    "    val_dataset = SatelliteDataset(val_paths, val_labels, transform=val_transform)\n",
    "    \n",
    "    train_loader = DataLoader(train_dataset, batch_size=32, shuffle=True, num_workers=4)\n",
    "    val_loader = DataLoader(val_dataset, batch_size=32, shuffle=False, num_workers=4)\n",
    "    \n",
    "    model = resnet50(pretrained=True)\n",
    "    \n",
    "    model.fc = nn.Sequential(\n",
    "        nn.Linear(model.fc.in_features, 512),\n",
    "        nn.ReLU(),\n",
    "        nn.Dropout(0.4),\n",
    "        nn.Linear(512, num_classes),\n",
    "        nn.Sigmoid()\n",
    "    )\n",
    "    \n",
    "    model = model.to(device)\n",
    "    \n",
    "    criterion = nn.BCELoss()\n",
    "    optimizer = torch.optim.AdamW(model.parameters(), lr=0.001, weight_decay=1e-5)\n",
    "    scheduler = lr_scheduler.OneCycleLR(optimizer, max_lr=0.01, steps_per_epoch=len(train_loader), epochs=50)\n",
    "    \n",
    "    best_model = train_model(model, train_loader, val_loader, criterion, optimizer, fold, num_epochs=50)\n",
    "    \n",
    "    best_models.append(best_model)"
   ]
  },
  {
   "cell_type": "code",
   "execution_count": 61,
   "id": "22035d85-7737-4125-b84e-c8c8488ed275",
   "metadata": {},
   "outputs": [
    {
     "data": {
      "text/plain": [
       "5"
      ]
     },
     "execution_count": 61,
     "metadata": {},
     "output_type": "execute_result"
    }
   ],
   "source": [
    "len(best_models)"
   ]
  },
  {
   "cell_type": "code",
   "execution_count": 62,
   "id": "8ea4bb15-0bb4-4a95-bc8a-7495e981b27d",
   "metadata": {},
   "outputs": [],
   "source": [
    "# 모델 평가 함수\n",
    "def evaluate_model(model, val_loader):\n",
    "    model.eval()\n",
    "    val_loss = 0.0\n",
    "    corrects = 0\n",
    "    \n",
    "    with torch.no_grad():\n",
    "        for images, labels in val_loader:\n",
    "            images = images.to(device)\n",
    "            labels = labels.to(device)\n",
    "            \n",
    "            outputs = model(images)\n",
    "            loss = criterion(outputs, labels)\n",
    "            \n",
    "            val_loss += loss.item() * images.size(0)\n",
    "            \n",
    "            preds = outputs > 0.5\n",
    "            corrects += (preds == labels).sum().item()\n",
    "    \n",
    "    val_loss /= len(val_loader.dataset)\n",
    "    \n",
    "    accuracy = corrects / (len(val_loader.dataset) * labels.size(1))\n",
    "    \n",
    "    print(f'Validation Loss: {val_loss:.4f}, Validation Accuracy: {accuracy:.4f}')"
   ]
  },
  {
   "cell_type": "code",
   "execution_count": 63,
   "id": "9e3a3f63-a145-4207-b544-096c87f70414",
   "metadata": {},
   "outputs": [
    {
     "name": "stdout",
     "output_type": "stream",
     "text": [
      "Validation Loss: 0.0343, Validation Accuracy: 0.9856\n",
      "Validation Loss: 0.0365, Validation Accuracy: 0.9846\n",
      "Validation Loss: 0.0321, Validation Accuracy: 0.9862\n",
      "Validation Loss: 0.0355, Validation Accuracy: 0.9851\n",
      "Validation Loss: 0.0355, Validation Accuracy: 0.9851\n"
     ]
    }
   ],
   "source": [
    "for model_state in best_models:\n",
    "    model.load_state_dict(model_state)\n",
    "    evaluate_model(model, val_loader)"
   ]
  },
  {
   "cell_type": "code",
   "execution_count": 64,
   "id": "bfa193d9-569a-4855-a3fe-127177692d3c",
   "metadata": {},
   "outputs": [],
   "source": [
    "class TestDataset(Dataset):\n",
    "    def __init__(self, image_paths, transform=None):\n",
    "        self.image_paths = image_paths\n",
    "        self.transform = transform\n",
    "\n",
    "    def __len__(self):\n",
    "        return len(self.image_paths)\n",
    "\n",
    "    def __getitem__(self, idx):\n",
    "        img_path = self.image_paths[idx]\n",
    "        image = Image.open(img_path).convert('RGB')\n",
    "        \n",
    "        if self.transform:\n",
    "            image = self.transform(image)\n",
    "        \n",
    "        return image, img_path"
   ]
  },
  {
   "cell_type": "code",
   "execution_count": 65,
   "id": "c3283249-dc90-46e3-8ef0-b3d357460059",
   "metadata": {},
   "outputs": [],
   "source": [
    "test_dataset = TestDataset(df_test['img_path'].values, transform=val_transform)\n",
    "test_loader = DataLoader(test_dataset, batch_size=32, shuffle=False, num_workers=4)"
   ]
  },
  {
   "cell_type": "code",
   "execution_count": 66,
   "id": "163e5a9a-980d-48c5-9c2c-422b3aaf64d5",
   "metadata": {},
   "outputs": [],
   "source": [
    "ensemble_predictions = np.zeros((len(df_test), num_classes))\n",
    "k_folds = len(best_models)\n",
    "for model_state in best_models:\n",
    "    model = resnet50(pretrained=True)\n",
    "    \n",
    "    model.fc = nn.Sequential(\n",
    "        nn.Linear(model.fc.in_features, 512),\n",
    "        nn.ReLU(),\n",
    "        nn.Dropout(0.4),\n",
    "        nn.Linear(512, num_classes),\n",
    "        nn.Sigmoid()\n",
    "    )\n",
    "    \n",
    "    model.load_state_dict(model_state)\n",
    "    model = model.to(device)\n",
    "    \n",
    "    model.eval()\n",
    "    fold_predictions = []\n",
    "    with torch.no_grad():\n",
    "        for images, img_paths in test_loader:\n",
    "            images = images.to(device)\n",
    "            outputs = model(images)\n",
    "            fold_predictions.append(outputs.cpu().numpy())\n",
    "    \n",
    "    fold_predictions = np.concatenate(fold_predictions, axis=0)\n",
    "    ensemble_predictions += fold_predictions\n",
    "\n",
    "# Average the predictions\n",
    "ensemble_predictions /= k_folds"
   ]
  },
  {
   "cell_type": "code",
   "execution_count": 67,
   "id": "b3d4bd19-015f-48cb-9cb7-634161f800ab",
   "metadata": {},
   "outputs": [
    {
     "name": "stdout",
     "output_type": "stream",
     "text": [
      "Test predictions saved to submission.csv\n"
     ]
    }
   ],
   "source": [
    "submission = pd.DataFrame(ensemble_predictions, columns=df_train.columns[2:])\n",
    "submission.insert(0, 'img_id', df_test['img_id'])\n",
    "submission.to_csv('submission.csv', index=False)\n",
    "\n",
    "print(\"Test predictions saved to submission.csv\")"
   ]
  }
 ],
 "metadata": {
  "kernelspec": {
   "display_name": "Python 3 (ipykernel)",
   "language": "python",
   "name": "python3"
  },
  "language_info": {
   "codemirror_mode": {
    "name": "ipython",
    "version": 3
   },
   "file_extension": ".py",
   "mimetype": "text/x-python",
   "name": "python",
   "nbconvert_exporter": "python",
   "pygments_lexer": "ipython3",
   "version": "3.10.8"
  }
 },
 "nbformat": 4,
 "nbformat_minor": 5
}
